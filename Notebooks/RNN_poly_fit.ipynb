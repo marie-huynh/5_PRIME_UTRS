{
 "cells": [
  {
   "cell_type": "markdown",
   "id": "2e63495d",
   "metadata": {},
   "source": [
    "# Using LSTM - Poly"
   ]
  },
  {
   "cell_type": "markdown",
   "id": "7880fb2b",
   "metadata": {},
   "source": [
    "In this notebook, we will train an LSTM layer on the dataset of 5'UTRs with fixed length of 50 nucleotides to predict the distribution of polysome profiles."
   ]
  },
  {
   "cell_type": "code",
   "execution_count": 1,
   "id": "796cb468",
   "metadata": {},
   "outputs": [],
   "source": [
    "import pandas as pd\n",
    "import numpy as np\n",
    "import matplotlib as mpl\n",
    "import matplotlib.pyplot as plt\n",
    "import scipy.stats as stats\n",
    "import seaborn as sns\n",
    "from sklearn import preprocessing\n",
    "\n",
    "import os\n",
    "os.environ['TF_CPP_MIN_LOG_LEVEL'] = '2'\n",
    "import numpy as np\n",
    "import tensorflow as tf\n",
    "from tensorflow import keras\n",
    "from tensorflow.keras import layers\n",
    "from keras.preprocessing import sequence\n",
    "\n",
    "import pandas as pd\n",
    "import numpy as np\n",
    "import matplotlib.pyplot as plt\n",
    "import scipy.stats as stats\n",
    "import seaborn as sns\n",
    "from sklearn import preprocessing\n",
    "import random\n",
    "\n",
    "import keras\n",
    "np.random.seed(1337)\n",
    "\n",
    "from keras.preprocessing import sequence\n",
    "from keras.optimizers import RMSprop\n",
    "from keras.models import Sequential\n",
    "from keras.layers.core import Dense\n",
    "from keras.layers.core import Dropout\n",
    "from keras.layers.core import Activation\n",
    "from keras.layers.core import Flatten\n",
    "\n",
    "import tensorflow as tf\n",
    "from tensorflow.keras.preprocessing.text import Tokenizer\n",
    "from tensorflow.keras.preprocessing.sequence import pad_sequences\n",
    "from tensorflow.keras.utils import to_categorical\n",
    "from tensorflow.keras.models import Sequential, Model\n",
    "from tensorflow.keras import layers\n",
    "from tensorflow.keras.layers import Embedding, Layer, Dense, Dropout, MultiHeadAttention, LayerNormalization, Input, GlobalAveragePooling1D\n",
    "from tensorflow.keras.layers import LSTM, Bidirectional\n",
    "from tensorflow.keras.callbacks import ModelCheckpoint, EarlyStopping, ReduceLROnPlateau\n",
    "from sklearn.model_selection import train_test_split\n",
    "from tensorflow import keras"
   ]
  },
  {
   "cell_type": "markdown",
   "id": "1876a3e0",
   "metadata": {},
   "source": [
    "# Useful Functions"
   ]
  },
  {
   "cell_type": "code",
   "execution_count": 30,
   "id": "4479775f",
   "metadata": {},
   "outputs": [],
   "source": [
    "def r2(x,y):\n",
    "    return 1 - sum((x-y)**2)/sum((x-np.mean(x))**2)\n",
    "\n",
    "def one_hot_encode(df, col='utr', seq_len=50):\n",
    "    # Dictionary returning one-hot encoding of nucleotides. \n",
    "    nuc_d = {'a':[1,0,0,0],'c':[0,1,0,0],'g':[0,0,1,0],'t':[0,0,0,1], 'n':[0,0,0,0]}\n",
    "    \n",
    "    # Creat empty matrix.\n",
    "    vectors=np.empty([len(df),seq_len,4])\n",
    "    \n",
    "    # Iterate through UTRs and one-hot encode\n",
    "    for i,seq in enumerate(df[col].str[:seq_len]): \n",
    "        seq = seq.lower()\n",
    "        a = np.array([nuc_d[x] for x in seq])\n",
    "        vectors[i] = a\n",
    "    return vectors\n"
   ]
  },
  {
   "cell_type": "markdown",
   "id": "d235de5a",
   "metadata": {},
   "source": [
    "# Data Processing and Analysis"
   ]
  },
  {
   "cell_type": "code",
   "execution_count": 2,
   "id": "85863b38",
   "metadata": {},
   "outputs": [
    {
     "data": {
      "text/html": [
       "<div>\n",
       "<style scoped>\n",
       "    .dataframe tbody tr th:only-of-type {\n",
       "        vertical-align: middle;\n",
       "    }\n",
       "\n",
       "    .dataframe tbody tr th {\n",
       "        vertical-align: top;\n",
       "    }\n",
       "\n",
       "    .dataframe thead th {\n",
       "        text-align: right;\n",
       "    }\n",
       "</style>\n",
       "<table border=\"1\" class=\"dataframe\">\n",
       "  <thead>\n",
       "    <tr style=\"text-align: right;\">\n",
       "      <th></th>\n",
       "      <th>Unnamed: 0</th>\n",
       "      <th>utr</th>\n",
       "      <th>0</th>\n",
       "      <th>1</th>\n",
       "      <th>2</th>\n",
       "      <th>3</th>\n",
       "      <th>4</th>\n",
       "      <th>5</th>\n",
       "      <th>6</th>\n",
       "      <th>7</th>\n",
       "      <th>...</th>\n",
       "      <th>r5</th>\n",
       "      <th>r6</th>\n",
       "      <th>r7</th>\n",
       "      <th>r8</th>\n",
       "      <th>r9</th>\n",
       "      <th>r10</th>\n",
       "      <th>r11</th>\n",
       "      <th>r12</th>\n",
       "      <th>r13</th>\n",
       "      <th>rl</th>\n",
       "    </tr>\n",
       "  </thead>\n",
       "  <tbody>\n",
       "    <tr>\n",
       "      <th>0</th>\n",
       "      <td>120605</td>\n",
       "      <td>CCACTCGATTAACATGTTAACAACATACTCGTCCGGCCGATCAGCG...</td>\n",
       "      <td>1.365472e-04</td>\n",
       "      <td>1.090036e-04</td>\n",
       "      <td>0.000057</td>\n",
       "      <td>0.000033</td>\n",
       "      <td>0.000015</td>\n",
       "      <td>0.000016</td>\n",
       "      <td>9.415128e-06</td>\n",
       "      <td>0.000009</td>\n",
       "      <td>...</td>\n",
       "      <td>0.033645</td>\n",
       "      <td>0.020343</td>\n",
       "      <td>0.019850</td>\n",
       "      <td>0.017988</td>\n",
       "      <td>0.019283</td>\n",
       "      <td>0.033252</td>\n",
       "      <td>0.033252</td>\n",
       "      <td>0.027581</td>\n",
       "      <td>0.035877</td>\n",
       "      <td>3.039939</td>\n",
       "    </tr>\n",
       "    <tr>\n",
       "      <th>1</th>\n",
       "      <td>11605</td>\n",
       "      <td>CAAATCATGTGCAGCCCTGGCGACCGTACTGCGGTACAAGAAAGTA...</td>\n",
       "      <td>6.661179e-05</td>\n",
       "      <td>6.952406e-05</td>\n",
       "      <td>0.000065</td>\n",
       "      <td>0.000048</td>\n",
       "      <td>0.000023</td>\n",
       "      <td>0.000020</td>\n",
       "      <td>1.128378e-05</td>\n",
       "      <td>0.000011</td>\n",
       "      <td>...</td>\n",
       "      <td>0.049711</td>\n",
       "      <td>0.028540</td>\n",
       "      <td>0.027431</td>\n",
       "      <td>0.024766</td>\n",
       "      <td>0.024241</td>\n",
       "      <td>0.039457</td>\n",
       "      <td>0.039457</td>\n",
       "      <td>0.039840</td>\n",
       "      <td>0.038785</td>\n",
       "      <td>3.895109</td>\n",
       "    </tr>\n",
       "    <tr>\n",
       "      <th>2</th>\n",
       "      <td>128224</td>\n",
       "      <td>GTTATACTAGAAGAAACTTGAGATTATGGAGCAGTCCGTCAAGGAC...</td>\n",
       "      <td>8.798774e-05</td>\n",
       "      <td>8.087227e-05</td>\n",
       "      <td>0.000059</td>\n",
       "      <td>0.000035</td>\n",
       "      <td>0.000017</td>\n",
       "      <td>0.000016</td>\n",
       "      <td>8.516738e-06</td>\n",
       "      <td>0.000009</td>\n",
       "      <td>...</td>\n",
       "      <td>0.042436</td>\n",
       "      <td>0.022460</td>\n",
       "      <td>0.025015</td>\n",
       "      <td>0.024275</td>\n",
       "      <td>0.021591</td>\n",
       "      <td>0.028353</td>\n",
       "      <td>0.028353</td>\n",
       "      <td>0.028963</td>\n",
       "      <td>0.041985</td>\n",
       "      <td>3.334524</td>\n",
       "    </tr>\n",
       "    <tr>\n",
       "      <th>3</th>\n",
       "      <td>239107</td>\n",
       "      <td>CTTAGACAAAAACAACGCGCTTTCCAGTATGCGGAGCCTTGACGGT...</td>\n",
       "      <td>7.773708e-05</td>\n",
       "      <td>7.108933e-05</td>\n",
       "      <td>0.000060</td>\n",
       "      <td>0.000038</td>\n",
       "      <td>0.000025</td>\n",
       "      <td>0.000016</td>\n",
       "      <td>9.738549e-06</td>\n",
       "      <td>0.000009</td>\n",
       "      <td>...</td>\n",
       "      <td>0.041241</td>\n",
       "      <td>0.025793</td>\n",
       "      <td>0.022751</td>\n",
       "      <td>0.022632</td>\n",
       "      <td>0.026617</td>\n",
       "      <td>0.038302</td>\n",
       "      <td>0.038302</td>\n",
       "      <td>0.032788</td>\n",
       "      <td>0.031043</td>\n",
       "      <td>3.575082</td>\n",
       "    </tr>\n",
       "    <tr>\n",
       "      <th>4</th>\n",
       "      <td>59082</td>\n",
       "      <td>GTATCAAATCACGGCCAACCCGACGGAGTACCCCGCGTCGATGGTC...</td>\n",
       "      <td>4.373148e-05</td>\n",
       "      <td>4.452323e-05</td>\n",
       "      <td>0.000050</td>\n",
       "      <td>0.000051</td>\n",
       "      <td>0.000033</td>\n",
       "      <td>0.000026</td>\n",
       "      <td>1.494921e-05</td>\n",
       "      <td>0.000012</td>\n",
       "      <td>...</td>\n",
       "      <td>0.071306</td>\n",
       "      <td>0.040719</td>\n",
       "      <td>0.033335</td>\n",
       "      <td>0.030367</td>\n",
       "      <td>0.033080</td>\n",
       "      <td>0.051449</td>\n",
       "      <td>0.051449</td>\n",
       "      <td>0.046052</td>\n",
       "      <td>0.036447</td>\n",
       "      <td>4.593712</td>\n",
       "    </tr>\n",
       "    <tr>\n",
       "      <th>...</th>\n",
       "      <td>...</td>\n",
       "      <td>...</td>\n",
       "      <td>...</td>\n",
       "      <td>...</td>\n",
       "      <td>...</td>\n",
       "      <td>...</td>\n",
       "      <td>...</td>\n",
       "      <td>...</td>\n",
       "      <td>...</td>\n",
       "      <td>...</td>\n",
       "      <td>...</td>\n",
       "      <td>...</td>\n",
       "      <td>...</td>\n",
       "      <td>...</td>\n",
       "      <td>...</td>\n",
       "      <td>...</td>\n",
       "      <td>...</td>\n",
       "      <td>...</td>\n",
       "      <td>...</td>\n",
       "      <td>...</td>\n",
       "      <td>...</td>\n",
       "    </tr>\n",
       "    <tr>\n",
       "      <th>326028</th>\n",
       "      <td>321695</td>\n",
       "      <td>ACTAACGTGGGGCCTAAACAAGTGCAAACACCCCCACGGACCCCCA...</td>\n",
       "      <td>0.000000e+00</td>\n",
       "      <td>0.000000e+00</td>\n",
       "      <td>0.000000</td>\n",
       "      <td>0.000000</td>\n",
       "      <td>0.000000</td>\n",
       "      <td>0.000000</td>\n",
       "      <td>1.796780e-07</td>\n",
       "      <td>0.000000</td>\n",
       "      <td>...</td>\n",
       "      <td>0.000000</td>\n",
       "      <td>1.000000</td>\n",
       "      <td>0.000000</td>\n",
       "      <td>0.000000</td>\n",
       "      <td>0.000000</td>\n",
       "      <td>0.000000</td>\n",
       "      <td>0.000000</td>\n",
       "      <td>0.000000</td>\n",
       "      <td>0.000000</td>\n",
       "      <td>5.800000</td>\n",
       "    </tr>\n",
       "    <tr>\n",
       "      <th>326029</th>\n",
       "      <td>321690</td>\n",
       "      <td>GAAAGCGGTTGAAACTACTCATACGTACAAGGTAAACATTTAAAAG...</td>\n",
       "      <td>0.000000e+00</td>\n",
       "      <td>0.000000e+00</td>\n",
       "      <td>0.000000</td>\n",
       "      <td>0.000000</td>\n",
       "      <td>0.000000</td>\n",
       "      <td>0.000000</td>\n",
       "      <td>1.796780e-07</td>\n",
       "      <td>0.000000</td>\n",
       "      <td>...</td>\n",
       "      <td>0.000000</td>\n",
       "      <td>1.000000</td>\n",
       "      <td>0.000000</td>\n",
       "      <td>0.000000</td>\n",
       "      <td>0.000000</td>\n",
       "      <td>0.000000</td>\n",
       "      <td>0.000000</td>\n",
       "      <td>0.000000</td>\n",
       "      <td>0.000000</td>\n",
       "      <td>5.800000</td>\n",
       "    </tr>\n",
       "    <tr>\n",
       "      <th>326030</th>\n",
       "      <td>254099</td>\n",
       "      <td>GGCTATGGCCGAAATAAATAAAGCGCGAGCCCGTAGGTACGAGCAA...</td>\n",
       "      <td>1.749259e-07</td>\n",
       "      <td>0.000000e+00</td>\n",
       "      <td>0.000000</td>\n",
       "      <td>0.000000</td>\n",
       "      <td>0.000000</td>\n",
       "      <td>0.000000</td>\n",
       "      <td>0.000000e+00</td>\n",
       "      <td>0.000000</td>\n",
       "      <td>...</td>\n",
       "      <td>0.000000</td>\n",
       "      <td>0.000000</td>\n",
       "      <td>0.000000</td>\n",
       "      <td>0.000000</td>\n",
       "      <td>0.000000</td>\n",
       "      <td>0.000000</td>\n",
       "      <td>0.000000</td>\n",
       "      <td>0.000000</td>\n",
       "      <td>0.000000</td>\n",
       "      <td>0.000000</td>\n",
       "    </tr>\n",
       "    <tr>\n",
       "      <th>326031</th>\n",
       "      <td>321677</td>\n",
       "      <td>CCGGCCAGTGCGCTGAAATACGTATAAGGTGGGTCGACGTAAAAAA...</td>\n",
       "      <td>0.000000e+00</td>\n",
       "      <td>0.000000e+00</td>\n",
       "      <td>0.000000</td>\n",
       "      <td>0.000000</td>\n",
       "      <td>0.000000</td>\n",
       "      <td>0.000000</td>\n",
       "      <td>1.796780e-07</td>\n",
       "      <td>0.000000</td>\n",
       "      <td>...</td>\n",
       "      <td>0.000000</td>\n",
       "      <td>1.000000</td>\n",
       "      <td>0.000000</td>\n",
       "      <td>0.000000</td>\n",
       "      <td>0.000000</td>\n",
       "      <td>0.000000</td>\n",
       "      <td>0.000000</td>\n",
       "      <td>0.000000</td>\n",
       "      <td>0.000000</td>\n",
       "      <td>5.800000</td>\n",
       "    </tr>\n",
       "    <tr>\n",
       "      <th>326032</th>\n",
       "      <td>306331</td>\n",
       "      <td>GTACAATTACTTGACCCGATAGCTGTTAATTGTATGAAAGAAAAAA...</td>\n",
       "      <td>0.000000e+00</td>\n",
       "      <td>2.173986e-07</td>\n",
       "      <td>0.000000</td>\n",
       "      <td>0.000000</td>\n",
       "      <td>0.000000</td>\n",
       "      <td>0.000000</td>\n",
       "      <td>0.000000e+00</td>\n",
       "      <td>0.000000</td>\n",
       "      <td>...</td>\n",
       "      <td>0.000000</td>\n",
       "      <td>0.000000</td>\n",
       "      <td>0.000000</td>\n",
       "      <td>0.000000</td>\n",
       "      <td>0.000000</td>\n",
       "      <td>0.000000</td>\n",
       "      <td>0.000000</td>\n",
       "      <td>0.000000</td>\n",
       "      <td>0.000000</td>\n",
       "      <td>1.000000</td>\n",
       "    </tr>\n",
       "  </tbody>\n",
       "</table>\n",
       "<p>326033 rows × 33 columns</p>\n",
       "</div>"
      ],
      "text/plain": [
       "        Unnamed: 0                                                utr  \\\n",
       "0           120605  CCACTCGATTAACATGTTAACAACATACTCGTCCGGCCGATCAGCG...   \n",
       "1            11605  CAAATCATGTGCAGCCCTGGCGACCGTACTGCGGTACAAGAAAGTA...   \n",
       "2           128224  GTTATACTAGAAGAAACTTGAGATTATGGAGCAGTCCGTCAAGGAC...   \n",
       "3           239107  CTTAGACAAAAACAACGCGCTTTCCAGTATGCGGAGCCTTGACGGT...   \n",
       "4            59082  GTATCAAATCACGGCCAACCCGACGGAGTACCCCGCGTCGATGGTC...   \n",
       "...            ...                                                ...   \n",
       "326028      321695  ACTAACGTGGGGCCTAAACAAGTGCAAACACCCCCACGGACCCCCA...   \n",
       "326029      321690  GAAAGCGGTTGAAACTACTCATACGTACAAGGTAAACATTTAAAAG...   \n",
       "326030      254099  GGCTATGGCCGAAATAAATAAAGCGCGAGCCCGTAGGTACGAGCAA...   \n",
       "326031      321677  CCGGCCAGTGCGCTGAAATACGTATAAGGTGGGTCGACGTAAAAAA...   \n",
       "326032      306331  GTACAATTACTTGACCCGATAGCTGTTAATTGTATGAAAGAAAAAA...   \n",
       "\n",
       "                   0             1         2         3         4         5  \\\n",
       "0       1.365472e-04  1.090036e-04  0.000057  0.000033  0.000015  0.000016   \n",
       "1       6.661179e-05  6.952406e-05  0.000065  0.000048  0.000023  0.000020   \n",
       "2       8.798774e-05  8.087227e-05  0.000059  0.000035  0.000017  0.000016   \n",
       "3       7.773708e-05  7.108933e-05  0.000060  0.000038  0.000025  0.000016   \n",
       "4       4.373148e-05  4.452323e-05  0.000050  0.000051  0.000033  0.000026   \n",
       "...              ...           ...       ...       ...       ...       ...   \n",
       "326028  0.000000e+00  0.000000e+00  0.000000  0.000000  0.000000  0.000000   \n",
       "326029  0.000000e+00  0.000000e+00  0.000000  0.000000  0.000000  0.000000   \n",
       "326030  1.749259e-07  0.000000e+00  0.000000  0.000000  0.000000  0.000000   \n",
       "326031  0.000000e+00  0.000000e+00  0.000000  0.000000  0.000000  0.000000   \n",
       "326032  0.000000e+00  2.173986e-07  0.000000  0.000000  0.000000  0.000000   \n",
       "\n",
       "                   6         7  ...        r5        r6        r7        r8  \\\n",
       "0       9.415128e-06  0.000009  ...  0.033645  0.020343  0.019850  0.017988   \n",
       "1       1.128378e-05  0.000011  ...  0.049711  0.028540  0.027431  0.024766   \n",
       "2       8.516738e-06  0.000009  ...  0.042436  0.022460  0.025015  0.024275   \n",
       "3       9.738549e-06  0.000009  ...  0.041241  0.025793  0.022751  0.022632   \n",
       "4       1.494921e-05  0.000012  ...  0.071306  0.040719  0.033335  0.030367   \n",
       "...              ...       ...  ...       ...       ...       ...       ...   \n",
       "326028  1.796780e-07  0.000000  ...  0.000000  1.000000  0.000000  0.000000   \n",
       "326029  1.796780e-07  0.000000  ...  0.000000  1.000000  0.000000  0.000000   \n",
       "326030  0.000000e+00  0.000000  ...  0.000000  0.000000  0.000000  0.000000   \n",
       "326031  1.796780e-07  0.000000  ...  0.000000  1.000000  0.000000  0.000000   \n",
       "326032  0.000000e+00  0.000000  ...  0.000000  0.000000  0.000000  0.000000   \n",
       "\n",
       "              r9       r10       r11       r12       r13        rl  \n",
       "0       0.019283  0.033252  0.033252  0.027581  0.035877  3.039939  \n",
       "1       0.024241  0.039457  0.039457  0.039840  0.038785  3.895109  \n",
       "2       0.021591  0.028353  0.028353  0.028963  0.041985  3.334524  \n",
       "3       0.026617  0.038302  0.038302  0.032788  0.031043  3.575082  \n",
       "4       0.033080  0.051449  0.051449  0.046052  0.036447  4.593712  \n",
       "...          ...       ...       ...       ...       ...       ...  \n",
       "326028  0.000000  0.000000  0.000000  0.000000  0.000000  5.800000  \n",
       "326029  0.000000  0.000000  0.000000  0.000000  0.000000  5.800000  \n",
       "326030  0.000000  0.000000  0.000000  0.000000  0.000000  0.000000  \n",
       "326031  0.000000  0.000000  0.000000  0.000000  0.000000  5.800000  \n",
       "326032  0.000000  0.000000  0.000000  0.000000  0.000000  1.000000  \n",
       "\n",
       "[326033 rows x 33 columns]"
      ]
     },
     "execution_count": 2,
     "metadata": {},
     "output_type": "execute_result"
    }
   ],
   "source": [
    "data_path = \"Data/GSM3130435_egfp_unmod_1.csv.gz\"\n",
    "df = pd.read_csv(data_path, compression='gzip')\n",
    "df"
   ]
  },
  {
   "cell_type": "code",
   "execution_count": 4,
   "id": "8155b36e",
   "metadata": {},
   "outputs": [],
   "source": [
    "test = df[:20000]\n",
    "train = df[20000:280000]\n",
    "\n",
    "X_train = one_hot_encode(train, col='utr', seq_len=50)\n",
    "X_test = one_hot_encode(test, col='utr', seq_len=50)\n",
    "\n"
   ]
  },
  {
   "cell_type": "code",
   "execution_count": 5,
   "id": "026fafe4",
   "metadata": {},
   "outputs": [],
   "source": [
    "y_test = np.array([[df[\"r\"+str(i)][j] for i in range(14)] for j in range(20000)])\n",
    "y_train = df[[\"r\"+str(i) for i in range(14)]][20000:280000]\n"
   ]
  },
  {
   "cell_type": "markdown",
   "id": "f8b4c1a2",
   "metadata": {},
   "source": [
    "# Defining and Training the RNN model"
   ]
  },
  {
   "cell_type": "code",
   "execution_count": 6,
   "id": "c37eebc3",
   "metadata": {},
   "outputs": [],
   "source": [
    "batch_size = 100\n",
    "input_dim = 50\n",
    "input_dim2 = 4\n",
    "units = 75\n",
    "output_size = 13\n",
    "\n",
    "def train_model(x, y, nodes=40, nb_epoch=3):\n",
    "    ''' Build model archicture and fit.'''\n",
    "    model = Sequential()\n",
    "\n",
    "    #model.add(layers.LSTM(units, input_shape=(input_dim, input_dim2)))\n",
    "    model.add(keras.layers.RNN(keras.layers.LSTMCell(units), input_shape=(input_dim, input_dim2)))\n",
    "\n",
    "    model.add(Flatten())\n",
    "\n",
    "    model.add(Dense(nodes))\n",
    "    model.add(Activation('relu'))\n",
    "    \n",
    "    model.add(Dense(y.shape[1]))\n",
    "    model.add(Activation('linear'))\n",
    "\n",
    "    #compile the model\n",
    "    adam = keras.optimizers.Adam(lr=0.001, beta_1=0.9, beta_2=0.999, epsilon=1e-08)\n",
    "    model.compile(loss='mean_squared_error', optimizer=adam)\n",
    "    \n",
    "    model_name = \"model.h5\"\n",
    "    checkpoint = ModelCheckpoint(model_name, monitor=\"val_loss\", mode=\"min\", save_best_only = True, verbose=1)\n",
    "\n",
    "    learning_rate_reduction = ReduceLROnPlateau(monitor='val_loss', patience=3, verbose=1, factor=0.2, min_lr=0.00000001)\n",
    "\n",
    "    history = model.fit(x, y, validation_data=(X_test,y_test), batch_size=128, epochs=nb_epoch, verbose=1)\n",
    "    return model, history"
   ]
  },
  {
   "cell_type": "code",
   "execution_count": 7,
   "id": "f833285e",
   "metadata": {},
   "outputs": [
    {
     "name": "stderr",
     "output_type": "stream",
     "text": [
      "/Users/ghadinehme/opt/anaconda3/lib/python3.9/site-packages/keras/optimizers/optimizer_v2/adam.py:114: UserWarning: The `lr` argument is deprecated, use `learning_rate` instead.\n",
      "  super().__init__(name, **kwargs)\n"
     ]
    },
    {
     "name": "stdout",
     "output_type": "stream",
     "text": [
      "Epoch 1/20\n",
      "2032/2032 [==============================] - 133s 65ms/step - loss: 0.0016 - val_loss: 0.0012\n",
      "Epoch 2/20\n",
      "2032/2032 [==============================] - 149s 73ms/step - loss: 9.9299e-04 - val_loss: 9.4346e-04\n",
      "Epoch 3/20\n",
      "2032/2032 [==============================] - 165s 81ms/step - loss: 8.6248e-04 - val_loss: 5.9757e-04\n",
      "Epoch 4/20\n",
      "2032/2032 [==============================] - 162s 80ms/step - loss: 6.7247e-04 - val_loss: 4.9511e-04\n",
      "Epoch 5/20\n",
      "2032/2032 [==============================] - 169s 83ms/step - loss: 5.7654e-04 - val_loss: 3.6118e-04\n",
      "Epoch 6/20\n",
      "2032/2032 [==============================] - 166s 82ms/step - loss: 5.2092e-04 - val_loss: 3.2266e-04\n",
      "Epoch 7/20\n",
      "2032/2032 [==============================] - 165s 81ms/step - loss: 5.0149e-04 - val_loss: 3.1829e-04\n",
      "Epoch 8/20\n",
      "2032/2032 [==============================] - 167s 82ms/step - loss: 4.8517e-04 - val_loss: 3.2634e-04\n",
      "Epoch 9/20\n",
      "2032/2032 [==============================] - 169s 83ms/step - loss: 4.7605e-04 - val_loss: 2.8674e-04\n",
      "Epoch 10/20\n",
      "2032/2032 [==============================] - 163s 80ms/step - loss: 4.6742e-04 - val_loss: 2.6915e-04\n",
      "Epoch 11/20\n",
      "2032/2032 [==============================] - 169s 83ms/step - loss: 4.5996e-04 - val_loss: 2.5827e-04\n",
      "Epoch 12/20\n",
      "2032/2032 [==============================] - 170s 84ms/step - loss: 4.5415e-04 - val_loss: 2.4961e-04\n",
      "Epoch 13/20\n",
      "2032/2032 [==============================] - 174s 86ms/step - loss: 4.5052e-04 - val_loss: 2.6005e-04\n",
      "Epoch 14/20\n",
      "2032/2032 [==============================] - 226s 111ms/step - loss: 4.4700e-04 - val_loss: 2.7540e-04\n",
      "Epoch 15/20\n",
      "2032/2032 [==============================] - 185s 91ms/step - loss: 4.4336e-04 - val_loss: 2.2943e-04\n",
      "Epoch 16/20\n",
      "2032/2032 [==============================] - 173s 85ms/step - loss: 4.4050e-04 - val_loss: 2.2403e-04\n",
      "Epoch 17/20\n",
      "2032/2032 [==============================] - 174s 86ms/step - loss: 4.3831e-04 - val_loss: 2.2845e-04\n",
      "Epoch 18/20\n",
      "2032/2032 [==============================] - 179s 88ms/step - loss: 4.3591e-04 - val_loss: 2.3961e-04\n",
      "Epoch 19/20\n",
      "2032/2032 [==============================] - 192s 94ms/step - loss: 4.3346e-04 - val_loss: 2.1655e-04\n",
      "Epoch 20/20\n",
      "2032/2032 [==============================] - 179s 88ms/step - loss: 4.3224e-04 - val_loss: 2.1333e-04\n"
     ]
    }
   ],
   "source": [
    "model, history = train_model(X_train, y_train, nodes=50, nb_epoch=20)"
   ]
  },
  {
   "cell_type": "code",
   "execution_count": 37,
   "id": "60cd740a",
   "metadata": {},
   "outputs": [],
   "source": [
    "model.save('model_rnn_poly_fit.hdf5')"
   ]
  },
  {
   "cell_type": "code",
   "execution_count": 13,
   "id": "66354f1c",
   "metadata": {},
   "outputs": [
    {
     "data": {
      "image/png": "[encoded data removed]",
      "text/plain": [
       "<Figure size 1440x576 with 1 Axes>"
      ]
     },
     "metadata": {
      "needs_background": "light"
     },
     "output_type": "display_data"
    }
   ],
   "source": [
    "plt.figure(figsize=(20,8))\n",
    "plt.plot(history.history['loss'])\n",
    "plt.plot(history.history['val_loss'])\n",
    "plt.title('model loss')\n",
    "plt.ylabel('loss')\n",
    "plt.xlabel('epoch')\n",
    "plt.legend(['train', 'val'], loc='upper left')\n",
    "plt.show()"
   ]
  },
  {
   "cell_type": "markdown",
   "id": "58ebd107",
   "metadata": {},
   "source": [
    "# Testing the model"
   ]
  },
  {
   "cell_type": "code",
   "execution_count": 8,
   "id": "e6935e6f",
   "metadata": {},
   "outputs": [
    {
     "name": "stdout",
     "output_type": "stream",
     "text": [
      "625/625 [==============================] - 10s 14ms/step\n"
     ]
    }
   ],
   "source": [
    "predictions = model.predict(X_test).reshape(-1)\n"
   ]
  },
  {
   "cell_type": "code",
   "execution_count": 15,
   "id": "df8ace34",
   "metadata": {},
   "outputs": [
    {
     "data": {
      "text/plain": [
       "[0.8893393889602496,\n",
       " 0.9092226508484439,\n",
       " 0.9281722962913025,\n",
       " 0.8805045525786845,\n",
       " 0.7245962258501699,\n",
       " 0.6880196632342136,\n",
       " 0.8675396082029215,\n",
       " 0.9282829133226052,\n",
       " 0.9253037313851202,\n",
       " 0.9061296449900502,\n",
       " 0.8857291429334738,\n",
       " 0.8857292304675741,\n",
       " 0.8715955180092003,\n",
       " 0.7649152912803427]"
      ]
     },
     "execution_count": 15,
     "metadata": {},
     "output_type": "execute_result"
    }
   ],
   "source": [
    "r = [r2(y_test[:,i], predictions.reshape(20000,14)[:,i]) for i in range(14)]\n",
    "r"
   ]
  },
  {
   "cell_type": "code",
   "execution_count": 16,
   "id": "416373e6",
   "metadata": {},
   "outputs": [
    {
     "data": {
      "text/plain": [
       "0.8610771327395966"
      ]
     },
     "execution_count": 16,
     "metadata": {},
     "output_type": "execute_result"
    }
   ],
   "source": [
    "np.mean(r)"
   ]
  },
  {
   "cell_type": "code",
   "execution_count": 17,
   "id": "5c0c4f72",
   "metadata": {},
   "outputs": [
    {
     "data": {
      "image/png": "[encoded data removed]",
      "text/plain": [
       "<Figure size 360x144 with 1 Axes>"
      ]
     },
     "metadata": {
      "needs_background": "light"
     },
     "output_type": "display_data"
    },
    {
     "data": {
      "image/png": "[encoded data removed]",
      "text/plain": [
       "<Figure size 360x144 with 1 Axes>"
      ]
     },
     "metadata": {
      "needs_background": "light"
     },
     "output_type": "display_data"
    },
    {
     "data": {
      "image/png": "[encoded data removed]",
      "text/plain": [
       "<Figure size 360x144 with 1 Axes>"
      ]
     },
     "metadata": {
      "needs_background": "light"
     },
     "output_type": "display_data"
    },
    {
     "data": {
      "image/png": "[encoded data removed]",
      "text/plain": [
       "<Figure size 360x144 with 1 Axes>"
      ]
     },
     "metadata": {
      "needs_background": "light"
     },
     "output_type": "display_data"
    },
    {
     "data": {
      "image/png": "[encoded data removed]",
      "text/plain": [
       "<Figure size 360x144 with 1 Axes>"
      ]
     },
     "metadata": {
      "needs_background": "light"
     },
     "output_type": "display_data"
    }
   ],
   "source": [
    "ind = [0,1000,10000,13000,19999]\n",
    "for i in ind:\n",
    "    fig = plt.figure(figsize = (5,2))\n",
    "    plt.plot(y_test[i]*100, label = \"data\")\n",
    "    plt.plot(predictions.reshape(20000,14)[i]*100, color = 'r', label = \"prediction\")\n",
    "    plt.legend()"
   ]
  },
  {
   "cell_type": "code",
   "execution_count": 18,
   "id": "dc608dba",
   "metadata": {
    "scrolled": true
   },
   "outputs": [
    {
     "data": {
      "image/png": "[encoded data removed]",
      "text/plain": [
       "<Figure size 432x288 with 1 Axes>"
      ]
     },
     "metadata": {
      "needs_background": "light"
     },
     "output_type": "display_data"
    }
   ],
   "source": [
    "scores = []\n",
    "for i in range(14):\n",
    "    pred = predictions.reshape(14,20000)[:,i]\n",
    "    obs = y_test[i,:]\n",
    "    slope, intercept, r_value, p_value, std_err = stats.linregress(obs,pred)\n",
    "    scores.append(round(r_value**2, 3))\n",
    "\n",
    "scores = r\n",
    "mean = round(np.array(scores).sum() / len(scores),3)\n",
    "f, ax = plt.subplots()\n",
    "\n",
    "ax.bar(x=range(len(scores)),height=scores,align='center',color='#F9A01B',edgecolor='#F15A22', linewidth=1.5)\n",
    "ax.set_xticks(range(0,14));\n",
    "ax.set_xlim((-1,14))\n",
    "\n",
    "ax.set_yticks(np.arange(0,1.01,0.1))\n",
    "ax.set_yticklabels([round(x,1) for x in np.arange(0,1.01,0.1)])\n",
    "ax.axhline(mean, linewidth=1.5, ls='dashed', color='k')\n",
    "ax.text(x=10.5, y=0.93, s='mean R2: ' + str(mean))\n",
    "ax.xaxis.set_ticks_position('bottom')\n",
    "ax.yaxis.set_ticks_position('left')\n",
    "ax.set_xlabel('Polysome Fraction', size=20)\n",
    "ax.set_ylabel('R-squared', size=20);"
   ]
  },
  {
   "cell_type": "code",
   "execution_count": null,
   "id": "cf680803",
   "metadata": {},
   "outputs": [],
   "source": []
  },
  {
   "cell_type": "code",
   "execution_count": null,
   "id": "f9b43c61",
   "metadata": {},
   "outputs": [],
   "source": []
  }
 ],
 "metadata": {
  "kernelspec": {
   "display_name": "Python 3 (ipykernel)",
   "language": "python",
   "name": "python3"
  },
  "language_info": {
   "codemirror_mode": {
    "name": "ipython",
    "version": 3
   },
   "file_extension": ".py",
   "mimetype": "text/x-python",
   "name": "python",
   "nbconvert_exporter": "python",
   "pygments_lexer": "ipython3",
   "version": "3.9.7"
  }
 },
 "nbformat": 4,
 "nbformat_minor": 5
}
