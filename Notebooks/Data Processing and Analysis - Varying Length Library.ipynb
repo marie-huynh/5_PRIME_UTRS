{
 "cells": [
  {
   "cell_type": "markdown",
   "metadata": {},
   "source": [
    "# Data Processing and Analysis : GSM4084997_varying_length_25to100.csv.gz"
   ]
  },
  {
   "cell_type": "markdown",
   "metadata": {},
   "source": [
    "#### In this notebook, we load the data GSM4084997_varying_length_25to100, preprocess it and analyze it."
   ]
  },
  {
   "cell_type": "markdown",
   "metadata": {},
   "source": [
    "#### This data is composed of 106,530 5' UTRs of varying length between 25 and 100 nucleotides, which is significantly less than the previous dataset we explore."
   ]
  },
  {
   "cell_type": "code",
   "execution_count": 71,
   "metadata": {},
   "outputs": [],
   "source": [
    "#Imports"
   ]
  },
  {
   "cell_type": "code",
   "execution_count": 102,
   "metadata": {},
   "outputs": [],
   "source": [
    "import pandas as pd\n",
    "import numpy as np\n",
    "import matplotlib.pyplot as plt\n",
    "import scipy.stats as stats\n",
    "import seaborn as sns\n",
    "from sklearn import preprocessing"
   ]
  },
  {
   "cell_type": "markdown",
   "metadata": {},
   "source": [
    "## 1. We load the data."
   ]
  },
  {
   "cell_type": "code",
   "execution_count": 103,
   "metadata": {
    "scrolled": true
   },
   "outputs": [
    {
     "data": {
      "text/html": [
       "<div>\n",
       "<style scoped>\n",
       "    .dataframe tbody tr th:only-of-type {\n",
       "        vertical-align: middle;\n",
       "    }\n",
       "\n",
       "    .dataframe tbody tr th {\n",
       "        vertical-align: top;\n",
       "    }\n",
       "\n",
       "    .dataframe thead th {\n",
       "        text-align: right;\n",
       "    }\n",
       "</style>\n",
       "<table border=\"1\" class=\"dataframe\">\n",
       "  <thead>\n",
       "    <tr style=\"text-align: right;\">\n",
       "      <th></th>\n",
       "      <th>Unnamed: 0</th>\n",
       "      <th>utr</th>\n",
       "      <th>set</th>\n",
       "      <th>0</th>\n",
       "      <th>1</th>\n",
       "      <th>2</th>\n",
       "      <th>3</th>\n",
       "      <th>4</th>\n",
       "      <th>5</th>\n",
       "      <th>6</th>\n",
       "      <th>...</th>\n",
       "      <th>r6</th>\n",
       "      <th>r7</th>\n",
       "      <th>r8</th>\n",
       "      <th>r9</th>\n",
       "      <th>r10</th>\n",
       "      <th>r11</th>\n",
       "      <th>r12</th>\n",
       "      <th>total</th>\n",
       "      <th>rl</th>\n",
       "      <th>len</th>\n",
       "    </tr>\n",
       "  </thead>\n",
       "  <tbody>\n",
       "    <tr>\n",
       "      <th>0</th>\n",
       "      <td>0</td>\n",
       "      <td>GTTTTTGGCGCTCCCCTCTTAGCTT</td>\n",
       "      <td>random</td>\n",
       "      <td>128</td>\n",
       "      <td>88</td>\n",
       "      <td>90</td>\n",
       "      <td>97</td>\n",
       "      <td>169</td>\n",
       "      <td>171</td>\n",
       "      <td>130</td>\n",
       "      <td>...</td>\n",
       "      <td>0.115682</td>\n",
       "      <td>0.063186</td>\n",
       "      <td>0.058109</td>\n",
       "      <td>0.071910</td>\n",
       "      <td>0.071695</td>\n",
       "      <td>0.082980</td>\n",
       "      <td>0.064724</td>\n",
       "      <td>0.000557</td>\n",
       "      <td>5.386932</td>\n",
       "      <td>25</td>\n",
       "    </tr>\n",
       "    <tr>\n",
       "      <th>1</th>\n",
       "      <td>1</td>\n",
       "      <td>CGCCCCGACTCCCGTTGGCGGGTCT</td>\n",
       "      <td>random</td>\n",
       "      <td>105</td>\n",
       "      <td>78</td>\n",
       "      <td>142</td>\n",
       "      <td>102</td>\n",
       "      <td>164</td>\n",
       "      <td>142</td>\n",
       "      <td>72</td>\n",
       "      <td>...</td>\n",
       "      <td>0.068031</td>\n",
       "      <td>0.045308</td>\n",
       "      <td>0.056234</td>\n",
       "      <td>0.065011</td>\n",
       "      <td>0.090996</td>\n",
       "      <td>0.060355</td>\n",
       "      <td>0.115658</td>\n",
       "      <td>0.000525</td>\n",
       "      <td>5.080745</td>\n",
       "      <td>25</td>\n",
       "    </tr>\n",
       "    <tr>\n",
       "      <th>2</th>\n",
       "      <td>2</td>\n",
       "      <td>CTTACGGCCTCTCCAGCCCGCTTGT</td>\n",
       "      <td>random</td>\n",
       "      <td>94</td>\n",
       "      <td>79</td>\n",
       "      <td>97</td>\n",
       "      <td>103</td>\n",
       "      <td>106</td>\n",
       "      <td>142</td>\n",
       "      <td>62</td>\n",
       "      <td>...</td>\n",
       "      <td>0.071915</td>\n",
       "      <td>0.051877</td>\n",
       "      <td>0.061362</td>\n",
       "      <td>0.066953</td>\n",
       "      <td>0.075201</td>\n",
       "      <td>0.057327</td>\n",
       "      <td>0.093283</td>\n",
       "      <td>0.000428</td>\n",
       "      <td>4.995427</td>\n",
       "      <td>25</td>\n",
       "    </tr>\n",
       "    <tr>\n",
       "      <th>3</th>\n",
       "      <td>3</td>\n",
       "      <td>TCAGCGGCCATAATGTCCTCCTCTG</td>\n",
       "      <td>random</td>\n",
       "      <td>297</td>\n",
       "      <td>478</td>\n",
       "      <td>293</td>\n",
       "      <td>147</td>\n",
       "      <td>78</td>\n",
       "      <td>48</td>\n",
       "      <td>20</td>\n",
       "      <td>...</td>\n",
       "      <td>0.016034</td>\n",
       "      <td>0.018482</td>\n",
       "      <td>0.027169</td>\n",
       "      <td>0.028505</td>\n",
       "      <td>0.029267</td>\n",
       "      <td>0.035883</td>\n",
       "      <td>0.045036</td>\n",
       "      <td>0.000619</td>\n",
       "      <td>2.779368</td>\n",
       "      <td>25</td>\n",
       "    </tr>\n",
       "    <tr>\n",
       "      <th>4</th>\n",
       "      <td>4</td>\n",
       "      <td>GACCCTCCTATTATCAACCAAGATA</td>\n",
       "      <td>random</td>\n",
       "      <td>126</td>\n",
       "      <td>126</td>\n",
       "      <td>104</td>\n",
       "      <td>109</td>\n",
       "      <td>193</td>\n",
       "      <td>245</td>\n",
       "      <td>184</td>\n",
       "      <td>...</td>\n",
       "      <td>0.124887</td>\n",
       "      <td>0.081992</td>\n",
       "      <td>0.068166</td>\n",
       "      <td>0.073027</td>\n",
       "      <td>0.079891</td>\n",
       "      <td>0.068356</td>\n",
       "      <td>0.069435</td>\n",
       "      <td>0.000731</td>\n",
       "      <td>5.552591</td>\n",
       "      <td>25</td>\n",
       "    </tr>\n",
       "    <tr>\n",
       "      <th>...</th>\n",
       "      <td>...</td>\n",
       "      <td>...</td>\n",
       "      <td>...</td>\n",
       "      <td>...</td>\n",
       "      <td>...</td>\n",
       "      <td>...</td>\n",
       "      <td>...</td>\n",
       "      <td>...</td>\n",
       "      <td>...</td>\n",
       "      <td>...</td>\n",
       "      <td>...</td>\n",
       "      <td>...</td>\n",
       "      <td>...</td>\n",
       "      <td>...</td>\n",
       "      <td>...</td>\n",
       "      <td>...</td>\n",
       "      <td>...</td>\n",
       "      <td>...</td>\n",
       "      <td>...</td>\n",
       "      <td>...</td>\n",
       "      <td>...</td>\n",
       "    </tr>\n",
       "    <tr>\n",
       "      <th>106525</th>\n",
       "      <td>106525</td>\n",
       "      <td>CGGGCCGTTAAATTTCACCCGCATGGATCAGAGAAAATCAACCAAA...</td>\n",
       "      <td>with_uaugs</td>\n",
       "      <td>36</td>\n",
       "      <td>51</td>\n",
       "      <td>47</td>\n",
       "      <td>45</td>\n",
       "      <td>43</td>\n",
       "      <td>42</td>\n",
       "      <td>6</td>\n",
       "      <td>...</td>\n",
       "      <td>0.019778</td>\n",
       "      <td>0.024318</td>\n",
       "      <td>0.055857</td>\n",
       "      <td>0.028921</td>\n",
       "      <td>0.043572</td>\n",
       "      <td>0.044571</td>\n",
       "      <td>0.144244</td>\n",
       "      <td>0.000150</td>\n",
       "      <td>3.990209</td>\n",
       "      <td>50</td>\n",
       "    </tr>\n",
       "    <tr>\n",
       "      <th>106526</th>\n",
       "      <td>106526</td>\n",
       "      <td>AACTCTTATGGGGGTTCGTTCAGGCTGGGCACAAGACAAGGAAGTA...</td>\n",
       "      <td>with_uaugs</td>\n",
       "      <td>26</td>\n",
       "      <td>27</td>\n",
       "      <td>22</td>\n",
       "      <td>36</td>\n",
       "      <td>23</td>\n",
       "      <td>15</td>\n",
       "      <td>6</td>\n",
       "      <td>...</td>\n",
       "      <td>0.032308</td>\n",
       "      <td>0.042207</td>\n",
       "      <td>0.035607</td>\n",
       "      <td>0.039784</td>\n",
       "      <td>0.067787</td>\n",
       "      <td>0.050212</td>\n",
       "      <td>0.127366</td>\n",
       "      <td>0.000092</td>\n",
       "      <td>4.199409</td>\n",
       "      <td>50</td>\n",
       "    </tr>\n",
       "    <tr>\n",
       "      <th>106527</th>\n",
       "      <td>106527</td>\n",
       "      <td>CCGTGAGTAATGTTCCGCGGGTTCGTGCTCAAAAGTCGTTCAGGTT...</td>\n",
       "      <td>with_uaugs</td>\n",
       "      <td>37</td>\n",
       "      <td>37</td>\n",
       "      <td>73</td>\n",
       "      <td>46</td>\n",
       "      <td>41</td>\n",
       "      <td>37</td>\n",
       "      <td>14</td>\n",
       "      <td>...</td>\n",
       "      <td>0.041091</td>\n",
       "      <td>0.027066</td>\n",
       "      <td>0.052161</td>\n",
       "      <td>0.055569</td>\n",
       "      <td>0.040644</td>\n",
       "      <td>0.035581</td>\n",
       "      <td>0.161412</td>\n",
       "      <td>0.000169</td>\n",
       "      <td>4.137023</td>\n",
       "      <td>50</td>\n",
       "    </tr>\n",
       "    <tr>\n",
       "      <th>106528</th>\n",
       "      <td>106528</td>\n",
       "      <td>GCTTGCATTGTTTTGATTGTTCGCGGGCATGTCATGATTCACCTCC...</td>\n",
       "      <td>with_uaugs</td>\n",
       "      <td>24</td>\n",
       "      <td>33</td>\n",
       "      <td>44</td>\n",
       "      <td>45</td>\n",
       "      <td>41</td>\n",
       "      <td>20</td>\n",
       "      <td>8</td>\n",
       "      <td>...</td>\n",
       "      <td>0.029888</td>\n",
       "      <td>0.034452</td>\n",
       "      <td>0.052499</td>\n",
       "      <td>0.031054</td>\n",
       "      <td>0.063494</td>\n",
       "      <td>0.102775</td>\n",
       "      <td>0.108254</td>\n",
       "      <td>0.000133</td>\n",
       "      <td>4.693943</td>\n",
       "      <td>50</td>\n",
       "    </tr>\n",
       "    <tr>\n",
       "      <th>106529</th>\n",
       "      <td>106529</td>\n",
       "      <td>TTGCAGTATGGTCCCCCAAGTTCCGAAATAGGGTCACCCTAGAACG...</td>\n",
       "      <td>with_uaugs</td>\n",
       "      <td>30</td>\n",
       "      <td>40</td>\n",
       "      <td>60</td>\n",
       "      <td>46</td>\n",
       "      <td>26</td>\n",
       "      <td>22</td>\n",
       "      <td>11</td>\n",
       "      <td>...</td>\n",
       "      <td>0.040193</td>\n",
       "      <td>0.025271</td>\n",
       "      <td>0.039264</td>\n",
       "      <td>0.050619</td>\n",
       "      <td>0.029899</td>\n",
       "      <td>0.051110</td>\n",
       "      <td>0.149089</td>\n",
       "      <td>0.000136</td>\n",
       "      <td>3.962981</td>\n",
       "      <td>50</td>\n",
       "    </tr>\n",
       "  </tbody>\n",
       "</table>\n",
       "<p>106530 rows × 33 columns</p>\n",
       "</div>"
      ],
      "text/plain": [
       "        Unnamed: 0                                                utr  \\\n",
       "0                0                          GTTTTTGGCGCTCCCCTCTTAGCTT   \n",
       "1                1                          CGCCCCGACTCCCGTTGGCGGGTCT   \n",
       "2                2                          CTTACGGCCTCTCCAGCCCGCTTGT   \n",
       "3                3                          TCAGCGGCCATAATGTCCTCCTCTG   \n",
       "4                4                          GACCCTCCTATTATCAACCAAGATA   \n",
       "...            ...                                                ...   \n",
       "106525      106525  CGGGCCGTTAAATTTCACCCGCATGGATCAGAGAAAATCAACCAAA...   \n",
       "106526      106526  AACTCTTATGGGGGTTCGTTCAGGCTGGGCACAAGACAAGGAAGTA...   \n",
       "106527      106527  CCGTGAGTAATGTTCCGCGGGTTCGTGCTCAAAAGTCGTTCAGGTT...   \n",
       "106528      106528  GCTTGCATTGTTTTGATTGTTCGCGGGCATGTCATGATTCACCTCC...   \n",
       "106529      106529  TTGCAGTATGGTCCCCCAAGTTCCGAAATAGGGTCACCCTAGAACG...   \n",
       "\n",
       "               set    0    1    2    3    4    5    6  ...        r6  \\\n",
       "0           random  128   88   90   97  169  171  130  ...  0.115682   \n",
       "1           random  105   78  142  102  164  142   72  ...  0.068031   \n",
       "2           random   94   79   97  103  106  142   62  ...  0.071915   \n",
       "3           random  297  478  293  147   78   48   20  ...  0.016034   \n",
       "4           random  126  126  104  109  193  245  184  ...  0.124887   \n",
       "...            ...  ...  ...  ...  ...  ...  ...  ...  ...       ...   \n",
       "106525  with_uaugs   36   51   47   45   43   42    6  ...  0.019778   \n",
       "106526  with_uaugs   26   27   22   36   23   15    6  ...  0.032308   \n",
       "106527  with_uaugs   37   37   73   46   41   37   14  ...  0.041091   \n",
       "106528  with_uaugs   24   33   44   45   41   20    8  ...  0.029888   \n",
       "106529  with_uaugs   30   40   60   46   26   22   11  ...  0.040193   \n",
       "\n",
       "              r7        r8        r9       r10       r11       r12     total  \\\n",
       "0       0.063186  0.058109  0.071910  0.071695  0.082980  0.064724  0.000557   \n",
       "1       0.045308  0.056234  0.065011  0.090996  0.060355  0.115658  0.000525   \n",
       "2       0.051877  0.061362  0.066953  0.075201  0.057327  0.093283  0.000428   \n",
       "3       0.018482  0.027169  0.028505  0.029267  0.035883  0.045036  0.000619   \n",
       "4       0.081992  0.068166  0.073027  0.079891  0.068356  0.069435  0.000731   \n",
       "...          ...       ...       ...       ...       ...       ...       ...   \n",
       "106525  0.024318  0.055857  0.028921  0.043572  0.044571  0.144244  0.000150   \n",
       "106526  0.042207  0.035607  0.039784  0.067787  0.050212  0.127366  0.000092   \n",
       "106527  0.027066  0.052161  0.055569  0.040644  0.035581  0.161412  0.000169   \n",
       "106528  0.034452  0.052499  0.031054  0.063494  0.102775  0.108254  0.000133   \n",
       "106529  0.025271  0.039264  0.050619  0.029899  0.051110  0.149089  0.000136   \n",
       "\n",
       "              rl  len  \n",
       "0       5.386932   25  \n",
       "1       5.080745   25  \n",
       "2       4.995427   25  \n",
       "3       2.779368   25  \n",
       "4       5.552591   25  \n",
       "...          ...  ...  \n",
       "106525  3.990209   50  \n",
       "106526  4.199409   50  \n",
       "106527  4.137023   50  \n",
       "106528  4.693943   50  \n",
       "106529  3.962981   50  \n",
       "\n",
       "[106530 rows x 33 columns]"
      ]
     },
     "execution_count": 103,
     "metadata": {},
     "output_type": "execute_result"
    }
   ],
   "source": [
    "data_path = \"Data/GSM4084997_varying_length_25to100.csv.gz\"\n",
    "df = pd.read_csv(data_path, compression='gzip')\n",
    "df"
   ]
  },
  {
   "cell_type": "markdown",
   "metadata": {},
   "source": [
    "## 2. We select the data with sufficient amounts of reads. (higher quality)"
   ]
  },
  {
   "cell_type": "markdown",
   "metadata": {},
   "source": [
    "#### As in the paper, we will select the first 280 000 values (highest number of reads) which correspond to the higher quality data. "
   ]
  },
  {
   "cell_type": "code",
   "execution_count": 104,
   "metadata": {},
   "outputs": [
    {
     "data": {
      "text/plain": [
       "0    4902\n",
       "1    4506\n",
       "2    4481\n",
       "3    4469\n",
       "4    4464\n",
       "Name: total_reads, dtype: int64"
      ]
     },
     "execution_count": 104,
     "metadata": {},
     "output_type": "execute_result"
    }
   ],
   "source": [
    "df = df.sort_values('total_reads', ascending=False)\n",
    "df = df.reset_index(drop=True)\n",
    "df['total_reads'].head()"
   ]
  },
  {
   "cell_type": "markdown",
   "metadata": {},
   "source": [
    "#### We drop the sequences with low amount of total_reads as they are considered less reliable/qualitative. Here since we don't have a lot of data, we will follow the threshold used in the paper and remove utr's which have less than 10 reads (biologically coherent)."
   ]
  },
  {
   "cell_type": "code",
   "execution_count": 105,
   "metadata": {},
   "outputs": [
    {
     "name": "stderr",
     "output_type": "stream",
     "text": [
      "<ipython-input-105-698e72758171>:4: SettingWithCopyWarning: \n",
      "A value is trying to be set on a copy of a slice from a DataFrame\n",
      "\n",
      "See the caveats in the documentation: https://pandas.pydata.org/pandas-docs/stable/user_guide/indexing.html#returning-a-view-versus-a-copy\n",
      "  df['Selection'][i] = \"Unconsidered Data\"\n"
     ]
    }
   ],
   "source": [
    "df['Selection'] = \"Selected Data\"\n",
    "for i in range(len(df)):\n",
    "    if ( df['total_reads'][i] <= 10):\n",
    "        df['Selection'][i] = \"Unconsidered Data\""
   ]
  },
  {
   "cell_type": "code",
   "execution_count": 106,
   "metadata": {},
   "outputs": [
    {
     "data": {
      "image/png": "[encoded data removed]",
      "text/plain": [
       "<Figure size 432x288 with 1 Axes>"
      ]
     },
     "metadata": {
      "needs_background": "light"
     },
     "output_type": "display_data"
    }
   ],
   "source": [
    "sns.histplot(data=df, x=\"total_reads\", hue = \"Selection\", bins = 40, log_scale=True)\n",
    " \n",
    "# Show the plot\n",
    "plt.title(\"Log Scale distribution of the Total Reads over the Dataset\")\n",
    "plt.show()"
   ]
  },
  {
   "cell_type": "code",
   "execution_count": 107,
   "metadata": {},
   "outputs": [
    {
     "data": {
      "text/plain": [
       "array(['Selected Data'], dtype=object)"
      ]
     },
     "execution_count": 107,
     "metadata": {},
     "output_type": "execute_result"
    }
   ],
   "source": [
    "df = df[df[\"Selection\"] == \"Selected Data\"]\n",
    "#We check tha;it we have selected the data of interest\n",
    "df[\"Selection\"].unique()"
   ]
  },
  {
   "cell_type": "markdown",
   "metadata": {},
   "source": [
    "## 3. We one-hot encode the sequences and scale the MRL (Mean Ribosome Load)."
   ]
  },
  {
   "cell_type": "markdown",
   "metadata": {},
   "source": [
    "### We one-hot encode sequences to later use them in models such as CNN, RNN, ... . We include PADDING to the max length in our one-hot encoding. "
   ]
  },
  {
   "cell_type": "code",
   "execution_count": 108,
   "metadata": {},
   "outputs": [
    {
     "data": {
      "text/plain": [
       "100"
      ]
     },
     "execution_count": 108,
     "metadata": {},
     "output_type": "execute_result"
    }
   ],
   "source": [
    "max_length = df[\"len\"].max()\n",
    "max_length"
   ]
  },
  {
   "cell_type": "code",
   "execution_count": 115,
   "metadata": {},
   "outputs": [],
   "source": [
    "def one_hot_helper(sequence, max_length = 100):\n",
    "    \"\"\"\n",
    "    This function takes in a sequence and returns a one hot encoded list. \n",
    "    \"\"\"\n",
    "    one_hot_dictionnary = {'A':[1,0,0,0],'C':[0,1,0,0],'G':[0,0,1,0],'T':[0,0,0,1]}\n",
    "    one_hot_encoded = [one_hot_dictionnary[s] for s in sequence]\n",
    "    if (len(sequence) < max_length):\n",
    "        one_hot_encoded += [[0,0,0,0]] * (max_length - len(sequence))\n",
    "    return one_hot_encoded    "
   ]
  },
  {
   "cell_type": "code",
   "execution_count": 116,
   "metadata": {},
   "outputs": [
    {
     "data": {
      "text/plain": [
       "0         [[0, 1, 0, 0], [0, 1, 0, 0], [0, 0, 0, 1], [0,...\n",
       "1         [[0, 1, 0, 0], [0, 0, 0, 1], [1, 0, 0, 0], [0,...\n",
       "2         [[0, 1, 0, 0], [0, 1, 0, 0], [1, 0, 0, 0], [0,...\n",
       "3         [[0, 0, 0, 1], [1, 0, 0, 0], [0, 1, 0, 0], [0,...\n",
       "4         [[0, 0, 0, 1], [0, 1, 0, 0], [0, 1, 0, 0], [1,...\n",
       "                                ...                        \n",
       "101721    [[0, 0, 0, 1], [0, 0, 1, 0], [0, 0, 1, 0], [0,...\n",
       "101722    [[1, 0, 0, 0], [0, 0, 0, 1], [0, 0, 0, 1], [0,...\n",
       "101723    [[0, 0, 1, 0], [0, 0, 0, 1], [0, 0, 0, 1], [1,...\n",
       "101724    [[1, 0, 0, 0], [0, 0, 1, 0], [0, 0, 1, 0], [0,...\n",
       "101725    [[0, 0, 1, 0], [0, 0, 1, 0], [0, 0, 1, 0], [0,...\n",
       "Name: one-hot encoding, Length: 101726, dtype: object"
      ]
     },
     "execution_count": 116,
     "metadata": {},
     "output_type": "execute_result"
    }
   ],
   "source": [
    "df[\"one-hot encoding\"] = df[\"utr\"].apply(one_hot_helper)\n",
    "df[\"one-hot encoding\"]"
   ]
  },
  {
   "cell_type": "code",
   "execution_count": 117,
   "metadata": {},
   "outputs": [
    {
     "data": {
      "text/plain": [
       "array([100])"
      ]
     },
     "execution_count": 117,
     "metadata": {},
     "output_type": "execute_result"
    }
   ],
   "source": [
    "#We do a sanity check\n",
    "df[\"one-hot encoding\"].apply(len).unique()"
   ]
  },
  {
   "cell_type": "markdown",
   "metadata": {},
   "source": [
    "### We scale the mean ribosome load using the z-score."
   ]
  },
  {
   "cell_type": "markdown",
   "metadata": {},
   "source": [
    "The Z-score from sklearn.preprocessing standardizes features by removing the mean and scaling to unit variance, which can help in several machine learning models."
   ]
  },
  {
   "cell_type": "code",
   "execution_count": 118,
   "metadata": {},
   "outputs": [
    {
     "data": {
      "text/plain": [
       "0        -0.743234\n",
       "1         0.272356\n",
       "2        -0.855179\n",
       "3         0.264114\n",
       "4         0.421665\n",
       "            ...   \n",
       "101721   -2.285198\n",
       "101722    0.965358\n",
       "101723   -0.589270\n",
       "101724    0.110851\n",
       "101725   -1.522172\n",
       "Name: scaled_rl, Length: 101726, dtype: float64"
      ]
     },
     "execution_count": 118,
     "metadata": {},
     "output_type": "execute_result"
    }
   ],
   "source": [
    "df.loc[:,'scaled_rl'] = preprocessing.StandardScaler().fit_transform(df.loc[:,'rl'].values.reshape(-1,1))\n",
    "df.loc[:,'scaled_rl']"
   ]
  },
  {
   "cell_type": "markdown",
   "metadata": {},
   "source": [
    "## 4. We save the preprocessed data. "
   ]
  },
  {
   "cell_type": "code",
   "execution_count": 119,
   "metadata": {},
   "outputs": [
    {
     "ename": "KeyError",
     "evalue": "\"['Selection'] not found in axis\"",
     "output_type": "error",
     "traceback": [
      "\u001b[0;31m---------------------------------------------------------------------------\u001b[0m",
      "\u001b[0;31mKeyError\u001b[0m                                  Traceback (most recent call last)",
      "\u001b[0;32m<ipython-input-119-5e816df78e6e>\u001b[0m in \u001b[0;36m<module>\u001b[0;34m\u001b[0m\n\u001b[0;32m----> 1\u001b[0;31m \u001b[0mdf\u001b[0m\u001b[0;34m.\u001b[0m\u001b[0mdrop\u001b[0m\u001b[0;34m(\u001b[0m\u001b[0;34m'Selection'\u001b[0m\u001b[0;34m,\u001b[0m \u001b[0minplace\u001b[0m\u001b[0;34m=\u001b[0m\u001b[0;32mTrue\u001b[0m\u001b[0;34m,\u001b[0m \u001b[0maxis\u001b[0m\u001b[0;34m=\u001b[0m\u001b[0;36m1\u001b[0m\u001b[0;34m)\u001b[0m\u001b[0;34m\u001b[0m\u001b[0;34m\u001b[0m\u001b[0m\n\u001b[0m\u001b[1;32m      2\u001b[0m \u001b[0mdf\u001b[0m\u001b[0;34m.\u001b[0m\u001b[0mhead\u001b[0m\u001b[0;34m(\u001b[0m\u001b[0;34m)\u001b[0m\u001b[0;34m\u001b[0m\u001b[0;34m\u001b[0m\u001b[0m\n",
      "\u001b[0;32m~/opt/anaconda3/lib/python3.8/site-packages/pandas/core/frame.py\u001b[0m in \u001b[0;36mdrop\u001b[0;34m(self, labels, axis, index, columns, level, inplace, errors)\u001b[0m\n\u001b[1;32m   4161\u001b[0m                 \u001b[0mweight\u001b[0m  \u001b[0;36m1.0\u001b[0m     \u001b[0;36m0.8\u001b[0m\u001b[0;34m\u001b[0m\u001b[0;34m\u001b[0m\u001b[0m\n\u001b[1;32m   4162\u001b[0m         \"\"\"\n\u001b[0;32m-> 4163\u001b[0;31m         return super().drop(\n\u001b[0m\u001b[1;32m   4164\u001b[0m             \u001b[0mlabels\u001b[0m\u001b[0;34m=\u001b[0m\u001b[0mlabels\u001b[0m\u001b[0;34m,\u001b[0m\u001b[0;34m\u001b[0m\u001b[0;34m\u001b[0m\u001b[0m\n\u001b[1;32m   4165\u001b[0m             \u001b[0maxis\u001b[0m\u001b[0;34m=\u001b[0m\u001b[0maxis\u001b[0m\u001b[0;34m,\u001b[0m\u001b[0;34m\u001b[0m\u001b[0;34m\u001b[0m\u001b[0m\n",
      "\u001b[0;32m~/opt/anaconda3/lib/python3.8/site-packages/pandas/core/generic.py\u001b[0m in \u001b[0;36mdrop\u001b[0;34m(self, labels, axis, index, columns, level, inplace, errors)\u001b[0m\n\u001b[1;32m   3885\u001b[0m         \u001b[0;32mfor\u001b[0m \u001b[0maxis\u001b[0m\u001b[0;34m,\u001b[0m \u001b[0mlabels\u001b[0m \u001b[0;32min\u001b[0m \u001b[0maxes\u001b[0m\u001b[0;34m.\u001b[0m\u001b[0mitems\u001b[0m\u001b[0;34m(\u001b[0m\u001b[0;34m)\u001b[0m\u001b[0;34m:\u001b[0m\u001b[0;34m\u001b[0m\u001b[0;34m\u001b[0m\u001b[0m\n\u001b[1;32m   3886\u001b[0m             \u001b[0;32mif\u001b[0m \u001b[0mlabels\u001b[0m \u001b[0;32mis\u001b[0m \u001b[0;32mnot\u001b[0m \u001b[0;32mNone\u001b[0m\u001b[0;34m:\u001b[0m\u001b[0;34m\u001b[0m\u001b[0;34m\u001b[0m\u001b[0m\n\u001b[0;32m-> 3887\u001b[0;31m                 \u001b[0mobj\u001b[0m \u001b[0;34m=\u001b[0m \u001b[0mobj\u001b[0m\u001b[0;34m.\u001b[0m\u001b[0m_drop_axis\u001b[0m\u001b[0;34m(\u001b[0m\u001b[0mlabels\u001b[0m\u001b[0;34m,\u001b[0m \u001b[0maxis\u001b[0m\u001b[0;34m,\u001b[0m \u001b[0mlevel\u001b[0m\u001b[0;34m=\u001b[0m\u001b[0mlevel\u001b[0m\u001b[0;34m,\u001b[0m \u001b[0merrors\u001b[0m\u001b[0;34m=\u001b[0m\u001b[0merrors\u001b[0m\u001b[0;34m)\u001b[0m\u001b[0;34m\u001b[0m\u001b[0;34m\u001b[0m\u001b[0m\n\u001b[0m\u001b[1;32m   3888\u001b[0m \u001b[0;34m\u001b[0m\u001b[0m\n\u001b[1;32m   3889\u001b[0m         \u001b[0;32mif\u001b[0m \u001b[0minplace\u001b[0m\u001b[0;34m:\u001b[0m\u001b[0;34m\u001b[0m\u001b[0;34m\u001b[0m\u001b[0m\n",
      "\u001b[0;32m~/opt/anaconda3/lib/python3.8/site-packages/pandas/core/generic.py\u001b[0m in \u001b[0;36m_drop_axis\u001b[0;34m(self, labels, axis, level, errors)\u001b[0m\n\u001b[1;32m   3919\u001b[0m                 \u001b[0mnew_axis\u001b[0m \u001b[0;34m=\u001b[0m \u001b[0maxis\u001b[0m\u001b[0;34m.\u001b[0m\u001b[0mdrop\u001b[0m\u001b[0;34m(\u001b[0m\u001b[0mlabels\u001b[0m\u001b[0;34m,\u001b[0m \u001b[0mlevel\u001b[0m\u001b[0;34m=\u001b[0m\u001b[0mlevel\u001b[0m\u001b[0;34m,\u001b[0m \u001b[0merrors\u001b[0m\u001b[0;34m=\u001b[0m\u001b[0merrors\u001b[0m\u001b[0;34m)\u001b[0m\u001b[0;34m\u001b[0m\u001b[0;34m\u001b[0m\u001b[0m\n\u001b[1;32m   3920\u001b[0m             \u001b[0;32melse\u001b[0m\u001b[0;34m:\u001b[0m\u001b[0;34m\u001b[0m\u001b[0;34m\u001b[0m\u001b[0m\n\u001b[0;32m-> 3921\u001b[0;31m                 \u001b[0mnew_axis\u001b[0m \u001b[0;34m=\u001b[0m \u001b[0maxis\u001b[0m\u001b[0;34m.\u001b[0m\u001b[0mdrop\u001b[0m\u001b[0;34m(\u001b[0m\u001b[0mlabels\u001b[0m\u001b[0;34m,\u001b[0m \u001b[0merrors\u001b[0m\u001b[0;34m=\u001b[0m\u001b[0merrors\u001b[0m\u001b[0;34m)\u001b[0m\u001b[0;34m\u001b[0m\u001b[0;34m\u001b[0m\u001b[0m\n\u001b[0m\u001b[1;32m   3922\u001b[0m             \u001b[0mresult\u001b[0m \u001b[0;34m=\u001b[0m \u001b[0mself\u001b[0m\u001b[0;34m.\u001b[0m\u001b[0mreindex\u001b[0m\u001b[0;34m(\u001b[0m\u001b[0;34m**\u001b[0m\u001b[0;34m{\u001b[0m\u001b[0maxis_name\u001b[0m\u001b[0;34m:\u001b[0m \u001b[0mnew_axis\u001b[0m\u001b[0;34m}\u001b[0m\u001b[0;34m)\u001b[0m\u001b[0;34m\u001b[0m\u001b[0;34m\u001b[0m\u001b[0m\n\u001b[1;32m   3923\u001b[0m \u001b[0;34m\u001b[0m\u001b[0m\n",
      "\u001b[0;32m~/opt/anaconda3/lib/python3.8/site-packages/pandas/core/indexes/base.py\u001b[0m in \u001b[0;36mdrop\u001b[0;34m(self, labels, errors)\u001b[0m\n\u001b[1;32m   5280\u001b[0m         \u001b[0;32mif\u001b[0m \u001b[0mmask\u001b[0m\u001b[0;34m.\u001b[0m\u001b[0many\u001b[0m\u001b[0;34m(\u001b[0m\u001b[0;34m)\u001b[0m\u001b[0;34m:\u001b[0m\u001b[0;34m\u001b[0m\u001b[0;34m\u001b[0m\u001b[0m\n\u001b[1;32m   5281\u001b[0m             \u001b[0;32mif\u001b[0m \u001b[0merrors\u001b[0m \u001b[0;34m!=\u001b[0m \u001b[0;34m\"ignore\"\u001b[0m\u001b[0;34m:\u001b[0m\u001b[0;34m\u001b[0m\u001b[0;34m\u001b[0m\u001b[0m\n\u001b[0;32m-> 5282\u001b[0;31m                 \u001b[0;32mraise\u001b[0m \u001b[0mKeyError\u001b[0m\u001b[0;34m(\u001b[0m\u001b[0;34mf\"{labels[mask]} not found in axis\"\u001b[0m\u001b[0;34m)\u001b[0m\u001b[0;34m\u001b[0m\u001b[0;34m\u001b[0m\u001b[0m\n\u001b[0m\u001b[1;32m   5283\u001b[0m             \u001b[0mindexer\u001b[0m \u001b[0;34m=\u001b[0m \u001b[0mindexer\u001b[0m\u001b[0;34m[\u001b[0m\u001b[0;34m~\u001b[0m\u001b[0mmask\u001b[0m\u001b[0;34m]\u001b[0m\u001b[0;34m\u001b[0m\u001b[0;34m\u001b[0m\u001b[0m\n\u001b[1;32m   5284\u001b[0m         \u001b[0;32mreturn\u001b[0m \u001b[0mself\u001b[0m\u001b[0;34m.\u001b[0m\u001b[0mdelete\u001b[0m\u001b[0;34m(\u001b[0m\u001b[0mindexer\u001b[0m\u001b[0;34m)\u001b[0m\u001b[0;34m\u001b[0m\u001b[0;34m\u001b[0m\u001b[0m\n",
      "\u001b[0;31mKeyError\u001b[0m: \"['Selection'] not found in axis\""
     ]
    }
   ],
   "source": [
    "df.drop('Selection', inplace=True, axis=1)\n",
    "df.head()"
   ]
  },
  {
   "cell_type": "code",
   "execution_count": 120,
   "metadata": {},
   "outputs": [],
   "source": [
    "df.to_csv(\"Data/GSM4084997_varying_length_PREPROCESSED.csv.gz\", index=False, compression=\"gzip\")"
   ]
  },
  {
   "cell_type": "markdown",
   "metadata": {},
   "source": [
    "## 5. We analyze our preprocessed data before starting any basemodels."
   ]
  },
  {
   "cell_type": "code",
   "execution_count": null,
   "metadata": {},
   "outputs": [],
   "source": [
    "df = pd.read_csv(\"Data/GSM4084997_varying_length_PREPROCESSED.csv.gz\", compression='gzip')"
   ]
  },
  {
   "cell_type": "markdown",
   "metadata": {},
   "source": [
    "### Distribution of the length accross the data"
   ]
  },
  {
   "cell_type": "code",
   "execution_count": null,
   "metadata": {},
   "outputs": [],
   "source": [
    "sns.histplot(data=df, x=\"len\", bins = 20, kde=True)\n",
    " \n",
    "# Show the plot\n",
    "plt.title(\"Distribution of the Length over the Dataset\")\n",
    "plt.show()"
   ]
  },
  {
   "cell_type": "markdown",
   "metadata": {},
   "source": [
    "### Distribution of the mean ribosome load accross the data"
   ]
  },
  {
   "cell_type": "code",
   "execution_count": null,
   "metadata": {},
   "outputs": [],
   "source": [
    "sns.histplot(data=df, x=\"rl\", bins = 20, kde=True)\n",
    " \n",
    "# Show the plot\n",
    "plt.title(\"Distribution of the MRL over the Dataset\")\n",
    "plt.show()"
   ]
  },
  {
   "cell_type": "markdown",
   "metadata": {},
   "source": [
    "The phenomenon of bimodal distribution we observed for the previous dataset is less present in the dataset."
   ]
  },
  {
   "cell_type": "code",
   "execution_count": null,
   "metadata": {},
   "outputs": [],
   "source": [
    "boxplot = df.boxplot(column=[\"rl\"])"
   ]
  },
  {
   "cell_type": "code",
   "execution_count": null,
   "metadata": {},
   "outputs": [],
   "source": [
    "df[\"rl\"].describe()"
   ]
  },
  {
   "cell_type": "markdown",
   "metadata": {},
   "source": [
    "We have a mean MRL around 5.3 with a standard deviation of approximately 1.34. "
   ]
  },
  {
   "cell_type": "code",
   "execution_count": null,
   "metadata": {},
   "outputs": [],
   "source": [
    "sns.histplot(data=df, x=\"scaled_rl\", bins = 20, kde=True)\n",
    " \n",
    "# Show the plot\n",
    "plt.title(\"Distribution of the Scaled MRL over the Dataset\")\n",
    "plt.show()"
   ]
  },
  {
   "cell_type": "code",
   "execution_count": null,
   "metadata": {
    "scrolled": true
   },
   "outputs": [],
   "source": [
    "boxplot = df.boxplot(column=[\"scaled_rl\"])"
   ]
  },
  {
   "cell_type": "markdown",
   "metadata": {},
   "source": [
    "### Length vs. MRL"
   ]
  },
  {
   "cell_type": "code",
   "execution_count": null,
   "metadata": {},
   "outputs": [],
   "source": [
    "plt.figure(figsize = (8,8))\n",
    "plt.scatter(df[\"len\"], df[\"rl\"])\n",
    "plt.title(\"Length vs. MRL\", fontsize = 16)\n",
    "plt.xlabel(\"Length\", fontsize = 15)\n",
    "plt.ylabel(\"MRL\", fontsize = 15)\n",
    "plt.show()\n",
    "print(stats.pearsonr(df[\"len\"], df[\"rl\"]))"
   ]
  },
  {
   "cell_type": "markdown",
   "metadata": {},
   "source": [
    "This implies that there is no correlation between length and MRL in our dataset."
   ]
  },
  {
   "cell_type": "markdown",
   "metadata": {},
   "source": [
    "### We know that ATG's in the 5' UTRs play a significant role in expression in function of their positions. "
   ]
  },
  {
   "cell_type": "markdown",
   "metadata": {},
   "source": [
    "This phenomenon has been noted trhoughout Litterature as well as in the paper of the Seelig Lab. Let us observe the presence of ATGs vs. the MRL."
   ]
  },
  {
   "cell_type": "code",
   "execution_count": 93,
   "metadata": {},
   "outputs": [
    {
     "data": {
      "text/plain": [
       "0          True\n",
       "1         False\n",
       "2          True\n",
       "3         False\n",
       "4         False\n",
       "          ...  \n",
       "101721     True\n",
       "101722     True\n",
       "101723    False\n",
       "101724     True\n",
       "101725     True\n",
       "Name: ATG, Length: 101726, dtype: bool"
      ]
     },
     "execution_count": 93,
     "metadata": {},
     "output_type": "execute_result"
    }
   ],
   "source": [
    "df['ATG'] = df['utr'].apply(lambda x: 'ATG' in x)\n",
    "df['ATG']"
   ]
  },
  {
   "cell_type": "code",
   "execution_count": 94,
   "metadata": {},
   "outputs": [
    {
     "data": {
      "image/png": "[encoded data removed]",
      "text/plain": [
       "<Figure size 432x288 with 1 Axes>"
      ]
     },
     "metadata": {
      "needs_background": "light"
     },
     "output_type": "display_data"
    }
   ],
   "source": [
    "sns.histplot(data=df, x=\"rl\",hue = \"ATG\", bins = 20, kde=True)\n",
    " \n",
    "# Show the plot\n",
    "plt.title(\"Distribution of the MRL over the Dataset\")\n",
    "plt.show()"
   ]
  },
  {
   "cell_type": "markdown",
   "metadata": {},
   "source": [
    "Once again, we observe a similar phenomenon as in the previous dataset : 5' UTRs without an ATG have generally a higher MRL than 5', concentrated between 4 and 8."
   ]
  },
  {
   "cell_type": "code",
   "execution_count": null,
   "metadata": {},
   "outputs": [],
   "source": []
  }
 ],
 "metadata": {
  "kernelspec": {
   "display_name": "Python 3",
   "language": "python",
   "name": "python3"
  },
  "language_info": {
   "codemirror_mode": {
    "name": "ipython",
    "version": 3
   },
   "file_extension": ".py",
   "mimetype": "text/x-python",
   "name": "python",
   "nbconvert_exporter": "python",
   "pygments_lexer": "ipython3",
   "version": "3.8.5"
  }
 },
 "nbformat": 4,
 "nbformat_minor": 4
}
