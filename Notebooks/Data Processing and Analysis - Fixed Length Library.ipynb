{
 "cells": [
  {
   "cell_type": "markdown",
   "metadata": {},
   "source": [
    "# Data Processing and Analysis : GSM3130435_egfp_unmod_1"
   ]
  },
  {
   "cell_type": "markdown",
   "metadata": {},
   "source": [
    "#### In this notebook, we load the data GSM3130435_egfp_unmod_1, preprocess it and analyze it."
   ]
  },
  {
   "cell_type": "markdown",
   "metadata": {},
   "source": [
    "#### This data is composed of 300,000 5' UTRs of fixed length 50 nucleotides."
   ]
  },
  {
   "cell_type": "code",
   "execution_count": 1,
   "metadata": {},
   "outputs": [],
   "source": [
    "#Imports"
   ]
  },
  {
   "cell_type": "code",
   "execution_count": 45,
   "metadata": {},
   "outputs": [],
   "source": [
    "import pandas as pd\n",
    "import numpy as np\n",
    "import matplotlib.pyplot as plt\n",
    "import scipy.stats as stats\n",
    "import seaborn as sns\n",
    "from sklearn import preprocessing\n",
    "\n",
    "import matplotlib as mpl\n",
    "mpl.rcParams.update(mpl.rcParamsDefault)\n",
    "mpl.rcParams['agg.path.chunksize'] = 0\n",
    "mpl.rcParams.update( mpl.rc_params() )\n",
    "plt.rcParams.update({'font.size': 18})\n",
    "#plt.rcParams.update({'text.usetex': True})\n",
    "plt.rcParams.update({'text.latex.preamble': 'bold'})\n",
    "plt.rc('font', family='serif')"
   ]
  },
  {
   "cell_type": "markdown",
   "metadata": {},
   "source": [
    "## 1. We load the data."
   ]
  },
  {
   "cell_type": "code",
   "execution_count": 3,
   "metadata": {
    "scrolled": true
   },
   "outputs": [
    {
     "data": {
      "text/html": [
       "<div>\n",
       "<style scoped>\n",
       "    .dataframe tbody tr th:only-of-type {\n",
       "        vertical-align: middle;\n",
       "    }\n",
       "\n",
       "    .dataframe tbody tr th {\n",
       "        vertical-align: top;\n",
       "    }\n",
       "\n",
       "    .dataframe thead th {\n",
       "        text-align: right;\n",
       "    }\n",
       "</style>\n",
       "<table border=\"1\" class=\"dataframe\">\n",
       "  <thead>\n",
       "    <tr style=\"text-align: right;\">\n",
       "      <th></th>\n",
       "      <th>Unnamed: 0</th>\n",
       "      <th>utr</th>\n",
       "      <th>0</th>\n",
       "      <th>1</th>\n",
       "      <th>2</th>\n",
       "      <th>3</th>\n",
       "      <th>4</th>\n",
       "      <th>5</th>\n",
       "      <th>6</th>\n",
       "      <th>7</th>\n",
       "      <th>...</th>\n",
       "      <th>r5</th>\n",
       "      <th>r6</th>\n",
       "      <th>r7</th>\n",
       "      <th>r8</th>\n",
       "      <th>r9</th>\n",
       "      <th>r10</th>\n",
       "      <th>r11</th>\n",
       "      <th>r12</th>\n",
       "      <th>r13</th>\n",
       "      <th>rl</th>\n",
       "    </tr>\n",
       "  </thead>\n",
       "  <tbody>\n",
       "    <tr>\n",
       "      <th>0</th>\n",
       "      <td>120605</td>\n",
       "      <td>CCACTCGATTAACATGTTAACAACATACTCGTCCGGCCGATCAGCG...</td>\n",
       "      <td>1.365472e-04</td>\n",
       "      <td>1.090036e-04</td>\n",
       "      <td>0.000057</td>\n",
       "      <td>0.000033</td>\n",
       "      <td>0.000015</td>\n",
       "      <td>0.000016</td>\n",
       "      <td>9.415128e-06</td>\n",
       "      <td>0.000009</td>\n",
       "      <td>...</td>\n",
       "      <td>0.033645</td>\n",
       "      <td>0.020343</td>\n",
       "      <td>0.019850</td>\n",
       "      <td>0.017988</td>\n",
       "      <td>0.019283</td>\n",
       "      <td>0.033252</td>\n",
       "      <td>0.033252</td>\n",
       "      <td>0.027581</td>\n",
       "      <td>0.035877</td>\n",
       "      <td>3.039939</td>\n",
       "    </tr>\n",
       "    <tr>\n",
       "      <th>1</th>\n",
       "      <td>11605</td>\n",
       "      <td>CAAATCATGTGCAGCCCTGGCGACCGTACTGCGGTACAAGAAAGTA...</td>\n",
       "      <td>6.661179e-05</td>\n",
       "      <td>6.952406e-05</td>\n",
       "      <td>0.000065</td>\n",
       "      <td>0.000048</td>\n",
       "      <td>0.000023</td>\n",
       "      <td>0.000020</td>\n",
       "      <td>1.128378e-05</td>\n",
       "      <td>0.000011</td>\n",
       "      <td>...</td>\n",
       "      <td>0.049711</td>\n",
       "      <td>0.028540</td>\n",
       "      <td>0.027431</td>\n",
       "      <td>0.024766</td>\n",
       "      <td>0.024241</td>\n",
       "      <td>0.039457</td>\n",
       "      <td>0.039457</td>\n",
       "      <td>0.039840</td>\n",
       "      <td>0.038785</td>\n",
       "      <td>3.895109</td>\n",
       "    </tr>\n",
       "    <tr>\n",
       "      <th>2</th>\n",
       "      <td>128224</td>\n",
       "      <td>GTTATACTAGAAGAAACTTGAGATTATGGAGCAGTCCGTCAAGGAC...</td>\n",
       "      <td>8.798774e-05</td>\n",
       "      <td>8.087227e-05</td>\n",
       "      <td>0.000059</td>\n",
       "      <td>0.000035</td>\n",
       "      <td>0.000017</td>\n",
       "      <td>0.000016</td>\n",
       "      <td>8.516738e-06</td>\n",
       "      <td>0.000009</td>\n",
       "      <td>...</td>\n",
       "      <td>0.042436</td>\n",
       "      <td>0.022460</td>\n",
       "      <td>0.025015</td>\n",
       "      <td>0.024275</td>\n",
       "      <td>0.021591</td>\n",
       "      <td>0.028353</td>\n",
       "      <td>0.028353</td>\n",
       "      <td>0.028963</td>\n",
       "      <td>0.041985</td>\n",
       "      <td>3.334524</td>\n",
       "    </tr>\n",
       "    <tr>\n",
       "      <th>3</th>\n",
       "      <td>239107</td>\n",
       "      <td>CTTAGACAAAAACAACGCGCTTTCCAGTATGCGGAGCCTTGACGGT...</td>\n",
       "      <td>7.773708e-05</td>\n",
       "      <td>7.108933e-05</td>\n",
       "      <td>0.000060</td>\n",
       "      <td>0.000038</td>\n",
       "      <td>0.000025</td>\n",
       "      <td>0.000016</td>\n",
       "      <td>9.738549e-06</td>\n",
       "      <td>0.000009</td>\n",
       "      <td>...</td>\n",
       "      <td>0.041241</td>\n",
       "      <td>0.025793</td>\n",
       "      <td>0.022751</td>\n",
       "      <td>0.022632</td>\n",
       "      <td>0.026617</td>\n",
       "      <td>0.038302</td>\n",
       "      <td>0.038302</td>\n",
       "      <td>0.032788</td>\n",
       "      <td>0.031043</td>\n",
       "      <td>3.575082</td>\n",
       "    </tr>\n",
       "    <tr>\n",
       "      <th>4</th>\n",
       "      <td>59082</td>\n",
       "      <td>GTATCAAATCACGGCCAACCCGACGGAGTACCCCGCGTCGATGGTC...</td>\n",
       "      <td>4.373148e-05</td>\n",
       "      <td>4.452323e-05</td>\n",
       "      <td>0.000050</td>\n",
       "      <td>0.000051</td>\n",
       "      <td>0.000033</td>\n",
       "      <td>0.000026</td>\n",
       "      <td>1.494921e-05</td>\n",
       "      <td>0.000012</td>\n",
       "      <td>...</td>\n",
       "      <td>0.071306</td>\n",
       "      <td>0.040719</td>\n",
       "      <td>0.033335</td>\n",
       "      <td>0.030367</td>\n",
       "      <td>0.033080</td>\n",
       "      <td>0.051449</td>\n",
       "      <td>0.051449</td>\n",
       "      <td>0.046052</td>\n",
       "      <td>0.036447</td>\n",
       "      <td>4.593712</td>\n",
       "    </tr>\n",
       "    <tr>\n",
       "      <th>...</th>\n",
       "      <td>...</td>\n",
       "      <td>...</td>\n",
       "      <td>...</td>\n",
       "      <td>...</td>\n",
       "      <td>...</td>\n",
       "      <td>...</td>\n",
       "      <td>...</td>\n",
       "      <td>...</td>\n",
       "      <td>...</td>\n",
       "      <td>...</td>\n",
       "      <td>...</td>\n",
       "      <td>...</td>\n",
       "      <td>...</td>\n",
       "      <td>...</td>\n",
       "      <td>...</td>\n",
       "      <td>...</td>\n",
       "      <td>...</td>\n",
       "      <td>...</td>\n",
       "      <td>...</td>\n",
       "      <td>...</td>\n",
       "      <td>...</td>\n",
       "    </tr>\n",
       "    <tr>\n",
       "      <th>326028</th>\n",
       "      <td>321695</td>\n",
       "      <td>ACTAACGTGGGGCCTAAACAAGTGCAAACACCCCCACGGACCCCCA...</td>\n",
       "      <td>0.000000e+00</td>\n",
       "      <td>0.000000e+00</td>\n",
       "      <td>0.000000</td>\n",
       "      <td>0.000000</td>\n",
       "      <td>0.000000</td>\n",
       "      <td>0.000000</td>\n",
       "      <td>1.796780e-07</td>\n",
       "      <td>0.000000</td>\n",
       "      <td>...</td>\n",
       "      <td>0.000000</td>\n",
       "      <td>1.000000</td>\n",
       "      <td>0.000000</td>\n",
       "      <td>0.000000</td>\n",
       "      <td>0.000000</td>\n",
       "      <td>0.000000</td>\n",
       "      <td>0.000000</td>\n",
       "      <td>0.000000</td>\n",
       "      <td>0.000000</td>\n",
       "      <td>5.800000</td>\n",
       "    </tr>\n",
       "    <tr>\n",
       "      <th>326029</th>\n",
       "      <td>321690</td>\n",
       "      <td>GAAAGCGGTTGAAACTACTCATACGTACAAGGTAAACATTTAAAAG...</td>\n",
       "      <td>0.000000e+00</td>\n",
       "      <td>0.000000e+00</td>\n",
       "      <td>0.000000</td>\n",
       "      <td>0.000000</td>\n",
       "      <td>0.000000</td>\n",
       "      <td>0.000000</td>\n",
       "      <td>1.796780e-07</td>\n",
       "      <td>0.000000</td>\n",
       "      <td>...</td>\n",
       "      <td>0.000000</td>\n",
       "      <td>1.000000</td>\n",
       "      <td>0.000000</td>\n",
       "      <td>0.000000</td>\n",
       "      <td>0.000000</td>\n",
       "      <td>0.000000</td>\n",
       "      <td>0.000000</td>\n",
       "      <td>0.000000</td>\n",
       "      <td>0.000000</td>\n",
       "      <td>5.800000</td>\n",
       "    </tr>\n",
       "    <tr>\n",
       "      <th>326030</th>\n",
       "      <td>254099</td>\n",
       "      <td>GGCTATGGCCGAAATAAATAAAGCGCGAGCCCGTAGGTACGAGCAA...</td>\n",
       "      <td>1.749259e-07</td>\n",
       "      <td>0.000000e+00</td>\n",
       "      <td>0.000000</td>\n",
       "      <td>0.000000</td>\n",
       "      <td>0.000000</td>\n",
       "      <td>0.000000</td>\n",
       "      <td>0.000000e+00</td>\n",
       "      <td>0.000000</td>\n",
       "      <td>...</td>\n",
       "      <td>0.000000</td>\n",
       "      <td>0.000000</td>\n",
       "      <td>0.000000</td>\n",
       "      <td>0.000000</td>\n",
       "      <td>0.000000</td>\n",
       "      <td>0.000000</td>\n",
       "      <td>0.000000</td>\n",
       "      <td>0.000000</td>\n",
       "      <td>0.000000</td>\n",
       "      <td>0.000000</td>\n",
       "    </tr>\n",
       "    <tr>\n",
       "      <th>326031</th>\n",
       "      <td>321677</td>\n",
       "      <td>CCGGCCAGTGCGCTGAAATACGTATAAGGTGGGTCGACGTAAAAAA...</td>\n",
       "      <td>0.000000e+00</td>\n",
       "      <td>0.000000e+00</td>\n",
       "      <td>0.000000</td>\n",
       "      <td>0.000000</td>\n",
       "      <td>0.000000</td>\n",
       "      <td>0.000000</td>\n",
       "      <td>1.796780e-07</td>\n",
       "      <td>0.000000</td>\n",
       "      <td>...</td>\n",
       "      <td>0.000000</td>\n",
       "      <td>1.000000</td>\n",
       "      <td>0.000000</td>\n",
       "      <td>0.000000</td>\n",
       "      <td>0.000000</td>\n",
       "      <td>0.000000</td>\n",
       "      <td>0.000000</td>\n",
       "      <td>0.000000</td>\n",
       "      <td>0.000000</td>\n",
       "      <td>5.800000</td>\n",
       "    </tr>\n",
       "    <tr>\n",
       "      <th>326032</th>\n",
       "      <td>306331</td>\n",
       "      <td>GTACAATTACTTGACCCGATAGCTGTTAATTGTATGAAAGAAAAAA...</td>\n",
       "      <td>0.000000e+00</td>\n",
       "      <td>2.173986e-07</td>\n",
       "      <td>0.000000</td>\n",
       "      <td>0.000000</td>\n",
       "      <td>0.000000</td>\n",
       "      <td>0.000000</td>\n",
       "      <td>0.000000e+00</td>\n",
       "      <td>0.000000</td>\n",
       "      <td>...</td>\n",
       "      <td>0.000000</td>\n",
       "      <td>0.000000</td>\n",
       "      <td>0.000000</td>\n",
       "      <td>0.000000</td>\n",
       "      <td>0.000000</td>\n",
       "      <td>0.000000</td>\n",
       "      <td>0.000000</td>\n",
       "      <td>0.000000</td>\n",
       "      <td>0.000000</td>\n",
       "      <td>1.000000</td>\n",
       "    </tr>\n",
       "  </tbody>\n",
       "</table>\n",
       "<p>326033 rows × 33 columns</p>\n",
       "</div>"
      ],
      "text/plain": [
       "        Unnamed: 0                                                utr  \\\n",
       "0           120605  CCACTCGATTAACATGTTAACAACATACTCGTCCGGCCGATCAGCG...   \n",
       "1            11605  CAAATCATGTGCAGCCCTGGCGACCGTACTGCGGTACAAGAAAGTA...   \n",
       "2           128224  GTTATACTAGAAGAAACTTGAGATTATGGAGCAGTCCGTCAAGGAC...   \n",
       "3           239107  CTTAGACAAAAACAACGCGCTTTCCAGTATGCGGAGCCTTGACGGT...   \n",
       "4            59082  GTATCAAATCACGGCCAACCCGACGGAGTACCCCGCGTCGATGGTC...   \n",
       "...            ...                                                ...   \n",
       "326028      321695  ACTAACGTGGGGCCTAAACAAGTGCAAACACCCCCACGGACCCCCA...   \n",
       "326029      321690  GAAAGCGGTTGAAACTACTCATACGTACAAGGTAAACATTTAAAAG...   \n",
       "326030      254099  GGCTATGGCCGAAATAAATAAAGCGCGAGCCCGTAGGTACGAGCAA...   \n",
       "326031      321677  CCGGCCAGTGCGCTGAAATACGTATAAGGTGGGTCGACGTAAAAAA...   \n",
       "326032      306331  GTACAATTACTTGACCCGATAGCTGTTAATTGTATGAAAGAAAAAA...   \n",
       "\n",
       "                   0             1         2         3         4         5  \\\n",
       "0       1.365472e-04  1.090036e-04  0.000057  0.000033  0.000015  0.000016   \n",
       "1       6.661179e-05  6.952406e-05  0.000065  0.000048  0.000023  0.000020   \n",
       "2       8.798774e-05  8.087227e-05  0.000059  0.000035  0.000017  0.000016   \n",
       "3       7.773708e-05  7.108933e-05  0.000060  0.000038  0.000025  0.000016   \n",
       "4       4.373148e-05  4.452323e-05  0.000050  0.000051  0.000033  0.000026   \n",
       "...              ...           ...       ...       ...       ...       ...   \n",
       "326028  0.000000e+00  0.000000e+00  0.000000  0.000000  0.000000  0.000000   \n",
       "326029  0.000000e+00  0.000000e+00  0.000000  0.000000  0.000000  0.000000   \n",
       "326030  1.749259e-07  0.000000e+00  0.000000  0.000000  0.000000  0.000000   \n",
       "326031  0.000000e+00  0.000000e+00  0.000000  0.000000  0.000000  0.000000   \n",
       "326032  0.000000e+00  2.173986e-07  0.000000  0.000000  0.000000  0.000000   \n",
       "\n",
       "                   6         7  ...        r5        r6        r7        r8  \\\n",
       "0       9.415128e-06  0.000009  ...  0.033645  0.020343  0.019850  0.017988   \n",
       "1       1.128378e-05  0.000011  ...  0.049711  0.028540  0.027431  0.024766   \n",
       "2       8.516738e-06  0.000009  ...  0.042436  0.022460  0.025015  0.024275   \n",
       "3       9.738549e-06  0.000009  ...  0.041241  0.025793  0.022751  0.022632   \n",
       "4       1.494921e-05  0.000012  ...  0.071306  0.040719  0.033335  0.030367   \n",
       "...              ...       ...  ...       ...       ...       ...       ...   \n",
       "326028  1.796780e-07  0.000000  ...  0.000000  1.000000  0.000000  0.000000   \n",
       "326029  1.796780e-07  0.000000  ...  0.000000  1.000000  0.000000  0.000000   \n",
       "326030  0.000000e+00  0.000000  ...  0.000000  0.000000  0.000000  0.000000   \n",
       "326031  1.796780e-07  0.000000  ...  0.000000  1.000000  0.000000  0.000000   \n",
       "326032  0.000000e+00  0.000000  ...  0.000000  0.000000  0.000000  0.000000   \n",
       "\n",
       "              r9       r10       r11       r12       r13        rl  \n",
       "0       0.019283  0.033252  0.033252  0.027581  0.035877  3.039939  \n",
       "1       0.024241  0.039457  0.039457  0.039840  0.038785  3.895109  \n",
       "2       0.021591  0.028353  0.028353  0.028963  0.041985  3.334524  \n",
       "3       0.026617  0.038302  0.038302  0.032788  0.031043  3.575082  \n",
       "4       0.033080  0.051449  0.051449  0.046052  0.036447  4.593712  \n",
       "...          ...       ...       ...       ...       ...       ...  \n",
       "326028  0.000000  0.000000  0.000000  0.000000  0.000000  5.800000  \n",
       "326029  0.000000  0.000000  0.000000  0.000000  0.000000  5.800000  \n",
       "326030  0.000000  0.000000  0.000000  0.000000  0.000000  0.000000  \n",
       "326031  0.000000  0.000000  0.000000  0.000000  0.000000  5.800000  \n",
       "326032  0.000000  0.000000  0.000000  0.000000  0.000000  1.000000  \n",
       "\n",
       "[326033 rows x 33 columns]"
      ]
     },
     "execution_count": 3,
     "metadata": {},
     "output_type": "execute_result"
    }
   ],
   "source": [
    "data_path = \"Data/GSM3130435_egfp_unmod_1.csv.gz\"\n",
    "df = pd.read_csv(data_path, compression='gzip')\n",
    "df\n"
   ]
  },
  {
   "cell_type": "markdown",
   "metadata": {},
   "source": [
    "### We check that the sequences have the same length as we expect."
   ]
  },
  {
   "cell_type": "code",
   "execution_count": 4,
   "metadata": {},
   "outputs": [],
   "source": [
    "df[\"Length\"] = df[\"utr\"].apply(len)"
   ]
  },
  {
   "cell_type": "code",
   "execution_count": 5,
   "metadata": {},
   "outputs": [
    {
     "data": {
      "text/plain": [
       "array([50])"
      ]
     },
     "execution_count": 5,
     "metadata": {},
     "output_type": "execute_result"
    }
   ],
   "source": [
    "df[\"Length\"].unique()"
   ]
  },
  {
   "cell_type": "code",
   "execution_count": 6,
   "metadata": {},
   "outputs": [
    {
     "data": {
      "text/plain": [
       "'CCACTCGATTAACATGTTAACAACATACTCGTCCGGCCGATCAGCGGCTA'"
      ]
     },
     "execution_count": 6,
     "metadata": {},
     "output_type": "execute_result"
    }
   ],
   "source": [
    "df[\"utr\"][0]"
   ]
  },
  {
   "cell_type": "code",
   "execution_count": 7,
   "metadata": {},
   "outputs": [
    {
     "data": {
      "text/plain": [
       "3.03993899561"
      ]
     },
     "execution_count": 7,
     "metadata": {},
     "output_type": "execute_result"
    }
   ],
   "source": [
    "df[\"rl\"][0]"
   ]
  },
  {
   "cell_type": "code",
   "execution_count": 8,
   "metadata": {},
   "outputs": [
    {
     "data": {
      "text/plain": [
       "12126.0"
      ]
     },
     "execution_count": 8,
     "metadata": {},
     "output_type": "execute_result"
    }
   ],
   "source": [
    "df[\"total_reads\"][0]"
   ]
  },
  {
   "cell_type": "markdown",
   "metadata": {},
   "source": [
    "## 2. We select the data with sufficient amounts of reads. (higher quality)"
   ]
  },
  {
   "cell_type": "markdown",
   "metadata": {},
   "source": [
    "#### As in the paper, we will select the first 280 000 values (highest number of reads) which correspond to the higher quality data. "
   ]
  },
  {
   "cell_type": "code",
   "execution_count": 9,
   "metadata": {},
   "outputs": [
    {
     "data": {
      "text/html": [
       "<div>\n",
       "<style scoped>\n",
       "    .dataframe tbody tr th:only-of-type {\n",
       "        vertical-align: middle;\n",
       "    }\n",
       "\n",
       "    .dataframe tbody tr th {\n",
       "        vertical-align: top;\n",
       "    }\n",
       "\n",
       "    .dataframe thead th {\n",
       "        text-align: right;\n",
       "    }\n",
       "</style>\n",
       "<table border=\"1\" class=\"dataframe\">\n",
       "  <thead>\n",
       "    <tr style=\"text-align: right;\">\n",
       "      <th></th>\n",
       "      <th>Unnamed: 0</th>\n",
       "      <th>utr</th>\n",
       "      <th>0</th>\n",
       "      <th>1</th>\n",
       "      <th>2</th>\n",
       "      <th>3</th>\n",
       "      <th>4</th>\n",
       "      <th>5</th>\n",
       "      <th>6</th>\n",
       "      <th>7</th>\n",
       "      <th>...</th>\n",
       "      <th>r6</th>\n",
       "      <th>r7</th>\n",
       "      <th>r8</th>\n",
       "      <th>r9</th>\n",
       "      <th>r10</th>\n",
       "      <th>r11</th>\n",
       "      <th>r12</th>\n",
       "      <th>r13</th>\n",
       "      <th>rl</th>\n",
       "      <th>Length</th>\n",
       "    </tr>\n",
       "  </thead>\n",
       "  <tbody>\n",
       "    <tr>\n",
       "      <th>0</th>\n",
       "      <td>120605</td>\n",
       "      <td>CCACTCGATTAACATGTTAACAACATACTCGTCCGGCCGATCAGCG...</td>\n",
       "      <td>0.000137</td>\n",
       "      <td>0.000109</td>\n",
       "      <td>0.000057</td>\n",
       "      <td>0.000033</td>\n",
       "      <td>0.000015</td>\n",
       "      <td>0.000016</td>\n",
       "      <td>0.000009</td>\n",
       "      <td>0.000009</td>\n",
       "      <td>...</td>\n",
       "      <td>0.020343</td>\n",
       "      <td>0.019850</td>\n",
       "      <td>0.017988</td>\n",
       "      <td>0.019283</td>\n",
       "      <td>0.033252</td>\n",
       "      <td>0.033252</td>\n",
       "      <td>0.027581</td>\n",
       "      <td>0.035877</td>\n",
       "      <td>3.039939</td>\n",
       "      <td>50</td>\n",
       "    </tr>\n",
       "    <tr>\n",
       "      <th>1</th>\n",
       "      <td>11605</td>\n",
       "      <td>CAAATCATGTGCAGCCCTGGCGACCGTACTGCGGTACAAGAAAGTA...</td>\n",
       "      <td>0.000067</td>\n",
       "      <td>0.000070</td>\n",
       "      <td>0.000065</td>\n",
       "      <td>0.000048</td>\n",
       "      <td>0.000023</td>\n",
       "      <td>0.000020</td>\n",
       "      <td>0.000011</td>\n",
       "      <td>0.000011</td>\n",
       "      <td>...</td>\n",
       "      <td>0.028540</td>\n",
       "      <td>0.027431</td>\n",
       "      <td>0.024766</td>\n",
       "      <td>0.024241</td>\n",
       "      <td>0.039457</td>\n",
       "      <td>0.039457</td>\n",
       "      <td>0.039840</td>\n",
       "      <td>0.038785</td>\n",
       "      <td>3.895109</td>\n",
       "      <td>50</td>\n",
       "    </tr>\n",
       "    <tr>\n",
       "      <th>2</th>\n",
       "      <td>128224</td>\n",
       "      <td>GTTATACTAGAAGAAACTTGAGATTATGGAGCAGTCCGTCAAGGAC...</td>\n",
       "      <td>0.000088</td>\n",
       "      <td>0.000081</td>\n",
       "      <td>0.000059</td>\n",
       "      <td>0.000035</td>\n",
       "      <td>0.000017</td>\n",
       "      <td>0.000016</td>\n",
       "      <td>0.000009</td>\n",
       "      <td>0.000009</td>\n",
       "      <td>...</td>\n",
       "      <td>0.022460</td>\n",
       "      <td>0.025015</td>\n",
       "      <td>0.024275</td>\n",
       "      <td>0.021591</td>\n",
       "      <td>0.028353</td>\n",
       "      <td>0.028353</td>\n",
       "      <td>0.028963</td>\n",
       "      <td>0.041985</td>\n",
       "      <td>3.334524</td>\n",
       "      <td>50</td>\n",
       "    </tr>\n",
       "    <tr>\n",
       "      <th>3</th>\n",
       "      <td>239107</td>\n",
       "      <td>CTTAGACAAAAACAACGCGCTTTCCAGTATGCGGAGCCTTGACGGT...</td>\n",
       "      <td>0.000078</td>\n",
       "      <td>0.000071</td>\n",
       "      <td>0.000060</td>\n",
       "      <td>0.000038</td>\n",
       "      <td>0.000025</td>\n",
       "      <td>0.000016</td>\n",
       "      <td>0.000010</td>\n",
       "      <td>0.000009</td>\n",
       "      <td>...</td>\n",
       "      <td>0.025793</td>\n",
       "      <td>0.022751</td>\n",
       "      <td>0.022632</td>\n",
       "      <td>0.026617</td>\n",
       "      <td>0.038302</td>\n",
       "      <td>0.038302</td>\n",
       "      <td>0.032788</td>\n",
       "      <td>0.031043</td>\n",
       "      <td>3.575082</td>\n",
       "      <td>50</td>\n",
       "    </tr>\n",
       "    <tr>\n",
       "      <th>4</th>\n",
       "      <td>59082</td>\n",
       "      <td>GTATCAAATCACGGCCAACCCGACGGAGTACCCCGCGTCGATGGTC...</td>\n",
       "      <td>0.000044</td>\n",
       "      <td>0.000045</td>\n",
       "      <td>0.000050</td>\n",
       "      <td>0.000051</td>\n",
       "      <td>0.000033</td>\n",
       "      <td>0.000026</td>\n",
       "      <td>0.000015</td>\n",
       "      <td>0.000012</td>\n",
       "      <td>...</td>\n",
       "      <td>0.040719</td>\n",
       "      <td>0.033335</td>\n",
       "      <td>0.030367</td>\n",
       "      <td>0.033080</td>\n",
       "      <td>0.051449</td>\n",
       "      <td>0.051449</td>\n",
       "      <td>0.046052</td>\n",
       "      <td>0.036447</td>\n",
       "      <td>4.593712</td>\n",
       "      <td>50</td>\n",
       "    </tr>\n",
       "  </tbody>\n",
       "</table>\n",
       "<p>5 rows × 34 columns</p>\n",
       "</div>"
      ],
      "text/plain": [
       "   Unnamed: 0                                                utr         0  \\\n",
       "0      120605  CCACTCGATTAACATGTTAACAACATACTCGTCCGGCCGATCAGCG...  0.000137   \n",
       "1       11605  CAAATCATGTGCAGCCCTGGCGACCGTACTGCGGTACAAGAAAGTA...  0.000067   \n",
       "2      128224  GTTATACTAGAAGAAACTTGAGATTATGGAGCAGTCCGTCAAGGAC...  0.000088   \n",
       "3      239107  CTTAGACAAAAACAACGCGCTTTCCAGTATGCGGAGCCTTGACGGT...  0.000078   \n",
       "4       59082  GTATCAAATCACGGCCAACCCGACGGAGTACCCCGCGTCGATGGTC...  0.000044   \n",
       "\n",
       "          1         2         3         4         5         6         7  ...  \\\n",
       "0  0.000109  0.000057  0.000033  0.000015  0.000016  0.000009  0.000009  ...   \n",
       "1  0.000070  0.000065  0.000048  0.000023  0.000020  0.000011  0.000011  ...   \n",
       "2  0.000081  0.000059  0.000035  0.000017  0.000016  0.000009  0.000009  ...   \n",
       "3  0.000071  0.000060  0.000038  0.000025  0.000016  0.000010  0.000009  ...   \n",
       "4  0.000045  0.000050  0.000051  0.000033  0.000026  0.000015  0.000012  ...   \n",
       "\n",
       "         r6        r7        r8        r9       r10       r11       r12  \\\n",
       "0  0.020343  0.019850  0.017988  0.019283  0.033252  0.033252  0.027581   \n",
       "1  0.028540  0.027431  0.024766  0.024241  0.039457  0.039457  0.039840   \n",
       "2  0.022460  0.025015  0.024275  0.021591  0.028353  0.028353  0.028963   \n",
       "3  0.025793  0.022751  0.022632  0.026617  0.038302  0.038302  0.032788   \n",
       "4  0.040719  0.033335  0.030367  0.033080  0.051449  0.051449  0.046052   \n",
       "\n",
       "        r13        rl  Length  \n",
       "0  0.035877  3.039939      50  \n",
       "1  0.038785  3.895109      50  \n",
       "2  0.041985  3.334524      50  \n",
       "3  0.031043  3.575082      50  \n",
       "4  0.036447  4.593712      50  \n",
       "\n",
       "[5 rows x 34 columns]"
      ]
     },
     "execution_count": 9,
     "metadata": {},
     "output_type": "execute_result"
    }
   ],
   "source": [
    "df = df.sort_values('total_reads', ascending=False)\n",
    "df = df.reset_index(drop=True)\n",
    "df.head()"
   ]
  },
  {
   "cell_type": "markdown",
   "metadata": {},
   "source": [
    "#### We drop the sequences with low amount of total_reads as they are considered less reliable/qualitative."
   ]
  },
  {
   "cell_type": "code",
   "execution_count": 11,
   "metadata": {},
   "outputs": [
    {
     "name": "stderr",
     "output_type": "stream",
     "text": [
      "<ipython-input-11-c856db5919e4>:4: SettingWithCopyWarning: \n",
      "A value is trying to be set on a copy of a slice from a DataFrame\n",
      "\n",
      "See the caveats in the documentation: https://pandas.pydata.org/pandas-docs/stable/user_guide/indexing.html#returning-a-view-versus-a-copy\n",
      "  df['Selection'][i] = \"Unconsidered Data\"\n"
     ]
    }
   ],
   "source": [
    "df['Selection'] = \"Selected Data\"\n",
    "for i in range(len(df)):\n",
    "    if ( i > 280000):\n",
    "        df['Selection'][i] = \"Unconsidered Data\""
   ]
  },
  {
   "cell_type": "code",
   "execution_count": 12,
   "metadata": {},
   "outputs": [
    {
     "data": {
      "image/png": "[encoded data removed]",
      "text/plain": [
       "<Figure size 432x288 with 1 Axes>"
      ]
     },
     "metadata": {
      "needs_background": "light"
     },
     "output_type": "display_data"
    }
   ],
   "source": [
    "sns.histplot(data=df, x=\"total_reads\", hue = \"Selection\", bins = 40, log_scale=True)\n",
    " \n",
    "# Show the plot\n",
    "plt.title(\"Log Scale distribution of the Total Reads over the Dataset\")\n",
    "plt.show()"
   ]
  },
  {
   "cell_type": "code",
   "execution_count": 13,
   "metadata": {},
   "outputs": [],
   "source": [
    "df = df.iloc[:280000]"
   ]
  },
  {
   "cell_type": "markdown",
   "metadata": {},
   "source": [
    "## 3. We one-hot encode the sequences and scale the MRL (Mean Ribosome Load)."
   ]
  },
  {
   "cell_type": "markdown",
   "metadata": {},
   "source": [
    "### We one-hot encode sequences to later use them in models such as CNN, RNN, ..."
   ]
  },
  {
   "cell_type": "code",
   "execution_count": null,
   "metadata": {},
   "outputs": [],
   "source": [
    "def one_hot_helper(sequence):\n",
    "    \"\"\"\n",
    "    This function takes in a sequence and returns a one hot encoded list. \n",
    "    \"\"\"\n",
    "    one_hot_dictionnary = {'A':[1,0,0,0],'C':[0,1,0,0],'G':[0,0,1,0],'T':[0,0,0,1]}\n",
    "    one_hot_encoded = [one_hot_dictionnary[s] for s in sequence]\n",
    "    return one_hot_encoded    "
   ]
  },
  {
   "cell_type": "code",
   "execution_count": null,
   "metadata": {},
   "outputs": [],
   "source": [
    "df[\"one-hot encoding\"] = df[\"utr\"].apply(one_hot_helper)\n",
    "df[\"one-hot encoding\"]"
   ]
  },
  {
   "cell_type": "markdown",
   "metadata": {},
   "source": [
    "### We scale the mean ribosome load using the z-score."
   ]
  },
  {
   "cell_type": "markdown",
   "metadata": {},
   "source": [
    "The Z-score from sklearn.preprocessing standardizes features by removing the mean and scaling to unit variance, which can help in seeral machine learning models."
   ]
  },
  {
   "cell_type": "code",
   "execution_count": null,
   "metadata": {},
   "outputs": [],
   "source": [
    "df.loc[:,'scaled_rl'] = preprocessing.StandardScaler().fit_transform(df.loc[:,'rl'].values.reshape(-1,1))\n",
    "df.loc[:,'scaled_rl']"
   ]
  },
  {
   "cell_type": "markdown",
   "metadata": {},
   "source": [
    "## 4. We save the preprocessed data. "
   ]
  },
  {
   "cell_type": "code",
   "execution_count": null,
   "metadata": {},
   "outputs": [],
   "source": [
    "df.head()"
   ]
  },
  {
   "cell_type": "code",
   "execution_count": null,
   "metadata": {},
   "outputs": [],
   "source": [
    "df.to_csv(\"Data/GSM3130435_egfp_unmod_1_PREPROCESSED.csv.gz\", index=False, compression='gzip')"
   ]
  },
  {
   "cell_type": "markdown",
   "metadata": {},
   "source": [
    "## 5. We analyze our preprocessed data before starting any basemodels."
   ]
  },
  {
   "cell_type": "code",
   "execution_count": 14,
   "metadata": {},
   "outputs": [],
   "source": [
    "df = pd.read_csv(\"Data/GSM3130435_egfp_unmod_1_PREPROCESSED.csv.gz\", compression='gzip')"
   ]
  },
  {
   "cell_type": "code",
   "execution_count": 15,
   "metadata": {},
   "outputs": [
    {
     "data": {
      "text/html": [
       "<div>\n",
       "<style scoped>\n",
       "    .dataframe tbody tr th:only-of-type {\n",
       "        vertical-align: middle;\n",
       "    }\n",
       "\n",
       "    .dataframe tbody tr th {\n",
       "        vertical-align: top;\n",
       "    }\n",
       "\n",
       "    .dataframe thead th {\n",
       "        text-align: right;\n",
       "    }\n",
       "</style>\n",
       "<table border=\"1\" class=\"dataframe\">\n",
       "  <thead>\n",
       "    <tr style=\"text-align: right;\">\n",
       "      <th></th>\n",
       "      <th>Unnamed: 0</th>\n",
       "      <th>utr</th>\n",
       "      <th>0</th>\n",
       "      <th>1</th>\n",
       "      <th>2</th>\n",
       "      <th>3</th>\n",
       "      <th>4</th>\n",
       "      <th>5</th>\n",
       "      <th>6</th>\n",
       "      <th>7</th>\n",
       "      <th>...</th>\n",
       "      <th>r9</th>\n",
       "      <th>r10</th>\n",
       "      <th>r11</th>\n",
       "      <th>r12</th>\n",
       "      <th>r13</th>\n",
       "      <th>rl</th>\n",
       "      <th>Length</th>\n",
       "      <th>Selection</th>\n",
       "      <th>one-hot encoding</th>\n",
       "      <th>scaled_rl</th>\n",
       "    </tr>\n",
       "  </thead>\n",
       "  <tbody>\n",
       "    <tr>\n",
       "      <th>0</th>\n",
       "      <td>120605</td>\n",
       "      <td>CCACTCGATTAACATGTTAACAACATACTCGTCCGGCCGATCAGCG...</td>\n",
       "      <td>1.365472e-04</td>\n",
       "      <td>1.090036e-04</td>\n",
       "      <td>5.717043e-05</td>\n",
       "      <td>3.318598e-05</td>\n",
       "      <td>1.533480e-05</td>\n",
       "      <td>1.557127e-05</td>\n",
       "      <td>9.415128e-06</td>\n",
       "      <td>9.186945e-06</td>\n",
       "      <td>...</td>\n",
       "      <td>0.019283</td>\n",
       "      <td>0.033252</td>\n",
       "      <td>0.033252</td>\n",
       "      <td>0.027581</td>\n",
       "      <td>0.035877</td>\n",
       "      <td>3.039939</td>\n",
       "      <td>50</td>\n",
       "      <td>Selected Data</td>\n",
       "      <td>[[0, 1, 0, 0], [0, 1, 0, 0], [1, 0, 0, 0], [0,...</td>\n",
       "      <td>-2.130922</td>\n",
       "    </tr>\n",
       "    <tr>\n",
       "      <th>1</th>\n",
       "      <td>11605</td>\n",
       "      <td>CAAATCATGTGCAGCCCTGGCGACCGTACTGCGGTACAAGAAAGTA...</td>\n",
       "      <td>6.661179e-05</td>\n",
       "      <td>6.952406e-05</td>\n",
       "      <td>6.474759e-05</td>\n",
       "      <td>4.825420e-05</td>\n",
       "      <td>2.278452e-05</td>\n",
       "      <td>1.965422e-05</td>\n",
       "      <td>1.128378e-05</td>\n",
       "      <td>1.084524e-05</td>\n",
       "      <td>...</td>\n",
       "      <td>0.024241</td>\n",
       "      <td>0.039457</td>\n",
       "      <td>0.039457</td>\n",
       "      <td>0.039840</td>\n",
       "      <td>0.038785</td>\n",
       "      <td>3.895109</td>\n",
       "      <td>50</td>\n",
       "      <td>Selected Data</td>\n",
       "      <td>[[0, 1, 0, 0], [1, 0, 0, 0], [1, 0, 0, 0], [1,...</td>\n",
       "      <td>-1.600332</td>\n",
       "    </tr>\n",
       "    <tr>\n",
       "      <th>2</th>\n",
       "      <td>128224</td>\n",
       "      <td>GTTATACTAGAAGAAACTTGAGATTATGGAGCAGTCCGTCAAGGAC...</td>\n",
       "      <td>8.798774e-05</td>\n",
       "      <td>8.087227e-05</td>\n",
       "      <td>5.913157e-05</td>\n",
       "      <td>3.462105e-05</td>\n",
       "      <td>1.668930e-05</td>\n",
       "      <td>1.609165e-05</td>\n",
       "      <td>8.516738e-06</td>\n",
       "      <td>9.485438e-06</td>\n",
       "      <td>...</td>\n",
       "      <td>0.021591</td>\n",
       "      <td>0.028353</td>\n",
       "      <td>0.028353</td>\n",
       "      <td>0.028963</td>\n",
       "      <td>0.041985</td>\n",
       "      <td>3.334524</td>\n",
       "      <td>50</td>\n",
       "      <td>Selected Data</td>\n",
       "      <td>[[0, 0, 1, 0], [0, 0, 0, 1], [0, 0, 0, 1], [1,...</td>\n",
       "      <td>-1.948147</td>\n",
       "    </tr>\n",
       "    <tr>\n",
       "      <th>3</th>\n",
       "      <td>239107</td>\n",
       "      <td>CTTAGACAAAAACAACGCGCTTTCCAGTATGCGGAGCCTTGACGGT...</td>\n",
       "      <td>7.773708e-05</td>\n",
       "      <td>7.108933e-05</td>\n",
       "      <td>5.999329e-05</td>\n",
       "      <td>3.845986e-05</td>\n",
       "      <td>2.476788e-05</td>\n",
       "      <td>1.557127e-05</td>\n",
       "      <td>9.738549e-06</td>\n",
       "      <td>8.589960e-06</td>\n",
       "      <td>...</td>\n",
       "      <td>0.026617</td>\n",
       "      <td>0.038302</td>\n",
       "      <td>0.038302</td>\n",
       "      <td>0.032788</td>\n",
       "      <td>0.031043</td>\n",
       "      <td>3.575082</td>\n",
       "      <td>50</td>\n",
       "      <td>Selected Data</td>\n",
       "      <td>[[0, 1, 0, 0], [0, 0, 0, 1], [0, 0, 0, 1], [1,...</td>\n",
       "      <td>-1.798893</td>\n",
       "    </tr>\n",
       "    <tr>\n",
       "      <th>4</th>\n",
       "      <td>59082</td>\n",
       "      <td>GTATCAAATCACGGCCAACCCGACGGAGTACCCCGCGTCGATGGTC...</td>\n",
       "      <td>4.373148e-05</td>\n",
       "      <td>4.452323e-05</td>\n",
       "      <td>5.048470e-05</td>\n",
       "      <td>5.116022e-05</td>\n",
       "      <td>3.250785e-05</td>\n",
       "      <td>2.617895e-05</td>\n",
       "      <td>1.494921e-05</td>\n",
       "      <td>1.223821e-05</td>\n",
       "      <td>...</td>\n",
       "      <td>0.033080</td>\n",
       "      <td>0.051449</td>\n",
       "      <td>0.051449</td>\n",
       "      <td>0.046052</td>\n",
       "      <td>0.036447</td>\n",
       "      <td>4.593712</td>\n",
       "      <td>50</td>\n",
       "      <td>Selected Data</td>\n",
       "      <td>[[0, 0, 1, 0], [0, 0, 0, 1], [1, 0, 0, 0], [0,...</td>\n",
       "      <td>-1.166885</td>\n",
       "    </tr>\n",
       "    <tr>\n",
       "      <th>...</th>\n",
       "      <td>...</td>\n",
       "      <td>...</td>\n",
       "      <td>...</td>\n",
       "      <td>...</td>\n",
       "      <td>...</td>\n",
       "      <td>...</td>\n",
       "      <td>...</td>\n",
       "      <td>...</td>\n",
       "      <td>...</td>\n",
       "      <td>...</td>\n",
       "      <td>...</td>\n",
       "      <td>...</td>\n",
       "      <td>...</td>\n",
       "      <td>...</td>\n",
       "      <td>...</td>\n",
       "      <td>...</td>\n",
       "      <td>...</td>\n",
       "      <td>...</td>\n",
       "      <td>...</td>\n",
       "      <td>...</td>\n",
       "      <td>...</td>\n",
       "    </tr>\n",
       "    <tr>\n",
       "      <th>279995</th>\n",
       "      <td>16513</td>\n",
       "      <td>TCGCTTTGAGGCGCACGTGAAACGCAGCAACCCCCTCGAAGTTGTC...</td>\n",
       "      <td>3.148667e-07</td>\n",
       "      <td>5.217566e-07</td>\n",
       "      <td>3.862867e-07</td>\n",
       "      <td>2.511371e-07</td>\n",
       "      <td>4.837477e-07</td>\n",
       "      <td>1.040753e-06</td>\n",
       "      <td>7.546477e-07</td>\n",
       "      <td>6.301515e-07</td>\n",
       "      <td>...</td>\n",
       "      <td>0.106003</td>\n",
       "      <td>0.076790</td>\n",
       "      <td>0.076790</td>\n",
       "      <td>0.100890</td>\n",
       "      <td>0.080051</td>\n",
       "      <td>7.575412</td>\n",
       "      <td>50</td>\n",
       "      <td>Selected Data</td>\n",
       "      <td>[[0, 0, 0, 1], [0, 1, 0, 0], [0, 0, 1, 0], [0,...</td>\n",
       "      <td>0.683110</td>\n",
       "    </tr>\n",
       "    <tr>\n",
       "      <th>279996</th>\n",
       "      <td>285471</td>\n",
       "      <td>CGCTAGAACCAGGAGCAACGTAGCGTAAGGGGAATATGAAGGAAAA...</td>\n",
       "      <td>2.448963e-07</td>\n",
       "      <td>0.000000e+00</td>\n",
       "      <td>0.000000e+00</td>\n",
       "      <td>2.152604e-07</td>\n",
       "      <td>1.064245e-06</td>\n",
       "      <td>9.606952e-07</td>\n",
       "      <td>1.006197e-06</td>\n",
       "      <td>1.028142e-06</td>\n",
       "      <td>...</td>\n",
       "      <td>0.131180</td>\n",
       "      <td>0.120036</td>\n",
       "      <td>0.120036</td>\n",
       "      <td>0.034284</td>\n",
       "      <td>0.104277</td>\n",
       "      <td>8.040876</td>\n",
       "      <td>50</td>\n",
       "      <td>Selected Data</td>\n",
       "      <td>[[0, 1, 0, 0], [0, 0, 1, 0], [0, 1, 0, 0], [0,...</td>\n",
       "      <td>0.971907</td>\n",
       "    </tr>\n",
       "    <tr>\n",
       "      <th>279997</th>\n",
       "      <td>314941</td>\n",
       "      <td>GGTGAACGACGAGACAATAACGTGGGCCTTTAAAGGAATAGGGCAA...</td>\n",
       "      <td>0.000000e+00</td>\n",
       "      <td>0.000000e+00</td>\n",
       "      <td>0.000000e+00</td>\n",
       "      <td>3.228906e-07</td>\n",
       "      <td>0.000000e+00</td>\n",
       "      <td>1.120811e-06</td>\n",
       "      <td>6.827765e-07</td>\n",
       "      <td>1.293469e-06</td>\n",
       "      <td>...</td>\n",
       "      <td>0.192586</td>\n",
       "      <td>0.073631</td>\n",
       "      <td>0.073631</td>\n",
       "      <td>0.084121</td>\n",
       "      <td>0.089775</td>\n",
       "      <td>8.390005</td>\n",
       "      <td>50</td>\n",
       "      <td>Selected Data</td>\n",
       "      <td>[[0, 0, 1, 0], [0, 0, 1, 0], [0, 0, 0, 1], [0,...</td>\n",
       "      <td>1.188525</td>\n",
       "    </tr>\n",
       "    <tr>\n",
       "      <th>279998</th>\n",
       "      <td>186905</td>\n",
       "      <td>CCGGAGTATTACATCACACATGAGCCCGGTGGGGATGTTGGGGAGC...</td>\n",
       "      <td>1.784244e-06</td>\n",
       "      <td>2.347905e-06</td>\n",
       "      <td>1.782862e-06</td>\n",
       "      <td>1.435069e-06</td>\n",
       "      <td>2.418739e-07</td>\n",
       "      <td>0.000000e+00</td>\n",
       "      <td>5.030985e-07</td>\n",
       "      <td>4.643221e-07</td>\n",
       "      <td>...</td>\n",
       "      <td>0.051714</td>\n",
       "      <td>0.000000</td>\n",
       "      <td>0.000000</td>\n",
       "      <td>0.044445</td>\n",
       "      <td>0.000000</td>\n",
       "      <td>2.925720</td>\n",
       "      <td>50</td>\n",
       "      <td>Selected Data</td>\n",
       "      <td>[[0, 1, 0, 0], [0, 1, 0, 0], [0, 0, 1, 0], [0,...</td>\n",
       "      <td>-2.201790</td>\n",
       "    </tr>\n",
       "    <tr>\n",
       "      <th>279999</th>\n",
       "      <td>300269</td>\n",
       "      <td>CCGATCTATCGCGATCAAAGAACGAGAAAACCTCGACTAGGTGATA...</td>\n",
       "      <td>0.000000e+00</td>\n",
       "      <td>9.565537e-07</td>\n",
       "      <td>0.000000e+00</td>\n",
       "      <td>1.865590e-06</td>\n",
       "      <td>2.418739e-06</td>\n",
       "      <td>0.000000e+00</td>\n",
       "      <td>2.371750e-06</td>\n",
       "      <td>1.824123e-06</td>\n",
       "      <td>...</td>\n",
       "      <td>0.082954</td>\n",
       "      <td>0.000000</td>\n",
       "      <td>0.000000</td>\n",
       "      <td>0.000000</td>\n",
       "      <td>0.000000</td>\n",
       "      <td>4.771160</td>\n",
       "      <td>50</td>\n",
       "      <td>Selected Data</td>\n",
       "      <td>[[0, 1, 0, 0], [0, 1, 0, 0], [0, 0, 1, 0], [1,...</td>\n",
       "      <td>-1.056787</td>\n",
       "    </tr>\n",
       "  </tbody>\n",
       "</table>\n",
       "<p>280000 rows × 37 columns</p>\n",
       "</div>"
      ],
      "text/plain": [
       "        Unnamed: 0                                                utr  \\\n",
       "0           120605  CCACTCGATTAACATGTTAACAACATACTCGTCCGGCCGATCAGCG...   \n",
       "1            11605  CAAATCATGTGCAGCCCTGGCGACCGTACTGCGGTACAAGAAAGTA...   \n",
       "2           128224  GTTATACTAGAAGAAACTTGAGATTATGGAGCAGTCCGTCAAGGAC...   \n",
       "3           239107  CTTAGACAAAAACAACGCGCTTTCCAGTATGCGGAGCCTTGACGGT...   \n",
       "4            59082  GTATCAAATCACGGCCAACCCGACGGAGTACCCCGCGTCGATGGTC...   \n",
       "...            ...                                                ...   \n",
       "279995       16513  TCGCTTTGAGGCGCACGTGAAACGCAGCAACCCCCTCGAAGTTGTC...   \n",
       "279996      285471  CGCTAGAACCAGGAGCAACGTAGCGTAAGGGGAATATGAAGGAAAA...   \n",
       "279997      314941  GGTGAACGACGAGACAATAACGTGGGCCTTTAAAGGAATAGGGCAA...   \n",
       "279998      186905  CCGGAGTATTACATCACACATGAGCCCGGTGGGGATGTTGGGGAGC...   \n",
       "279999      300269  CCGATCTATCGCGATCAAAGAACGAGAAAACCTCGACTAGGTGATA...   \n",
       "\n",
       "                   0             1             2             3             4  \\\n",
       "0       1.365472e-04  1.090036e-04  5.717043e-05  3.318598e-05  1.533480e-05   \n",
       "1       6.661179e-05  6.952406e-05  6.474759e-05  4.825420e-05  2.278452e-05   \n",
       "2       8.798774e-05  8.087227e-05  5.913157e-05  3.462105e-05  1.668930e-05   \n",
       "3       7.773708e-05  7.108933e-05  5.999329e-05  3.845986e-05  2.476788e-05   \n",
       "4       4.373148e-05  4.452323e-05  5.048470e-05  5.116022e-05  3.250785e-05   \n",
       "...              ...           ...           ...           ...           ...   \n",
       "279995  3.148667e-07  5.217566e-07  3.862867e-07  2.511371e-07  4.837477e-07   \n",
       "279996  2.448963e-07  0.000000e+00  0.000000e+00  2.152604e-07  1.064245e-06   \n",
       "279997  0.000000e+00  0.000000e+00  0.000000e+00  3.228906e-07  0.000000e+00   \n",
       "279998  1.784244e-06  2.347905e-06  1.782862e-06  1.435069e-06  2.418739e-07   \n",
       "279999  0.000000e+00  9.565537e-07  0.000000e+00  1.865590e-06  2.418739e-06   \n",
       "\n",
       "                   5             6             7  ...        r9       r10  \\\n",
       "0       1.557127e-05  9.415128e-06  9.186945e-06  ...  0.019283  0.033252   \n",
       "1       1.965422e-05  1.128378e-05  1.084524e-05  ...  0.024241  0.039457   \n",
       "2       1.609165e-05  8.516738e-06  9.485438e-06  ...  0.021591  0.028353   \n",
       "3       1.557127e-05  9.738549e-06  8.589960e-06  ...  0.026617  0.038302   \n",
       "4       2.617895e-05  1.494921e-05  1.223821e-05  ...  0.033080  0.051449   \n",
       "...              ...           ...           ...  ...       ...       ...   \n",
       "279995  1.040753e-06  7.546477e-07  6.301515e-07  ...  0.106003  0.076790   \n",
       "279996  9.606952e-07  1.006197e-06  1.028142e-06  ...  0.131180  0.120036   \n",
       "279997  1.120811e-06  6.827765e-07  1.293469e-06  ...  0.192586  0.073631   \n",
       "279998  0.000000e+00  5.030985e-07  4.643221e-07  ...  0.051714  0.000000   \n",
       "279999  0.000000e+00  2.371750e-06  1.824123e-06  ...  0.082954  0.000000   \n",
       "\n",
       "             r11       r12       r13        rl  Length      Selection  \\\n",
       "0       0.033252  0.027581  0.035877  3.039939      50  Selected Data   \n",
       "1       0.039457  0.039840  0.038785  3.895109      50  Selected Data   \n",
       "2       0.028353  0.028963  0.041985  3.334524      50  Selected Data   \n",
       "3       0.038302  0.032788  0.031043  3.575082      50  Selected Data   \n",
       "4       0.051449  0.046052  0.036447  4.593712      50  Selected Data   \n",
       "...          ...       ...       ...       ...     ...            ...   \n",
       "279995  0.076790  0.100890  0.080051  7.575412      50  Selected Data   \n",
       "279996  0.120036  0.034284  0.104277  8.040876      50  Selected Data   \n",
       "279997  0.073631  0.084121  0.089775  8.390005      50  Selected Data   \n",
       "279998  0.000000  0.044445  0.000000  2.925720      50  Selected Data   \n",
       "279999  0.000000  0.000000  0.000000  4.771160      50  Selected Data   \n",
       "\n",
       "                                         one-hot encoding  scaled_rl  \n",
       "0       [[0, 1, 0, 0], [0, 1, 0, 0], [1, 0, 0, 0], [0,...  -2.130922  \n",
       "1       [[0, 1, 0, 0], [1, 0, 0, 0], [1, 0, 0, 0], [1,...  -1.600332  \n",
       "2       [[0, 0, 1, 0], [0, 0, 0, 1], [0, 0, 0, 1], [1,...  -1.948147  \n",
       "3       [[0, 1, 0, 0], [0, 0, 0, 1], [0, 0, 0, 1], [1,...  -1.798893  \n",
       "4       [[0, 0, 1, 0], [0, 0, 0, 1], [1, 0, 0, 0], [0,...  -1.166885  \n",
       "...                                                   ...        ...  \n",
       "279995  [[0, 0, 0, 1], [0, 1, 0, 0], [0, 0, 1, 0], [0,...   0.683110  \n",
       "279996  [[0, 1, 0, 0], [0, 0, 1, 0], [0, 1, 0, 0], [0,...   0.971907  \n",
       "279997  [[0, 0, 1, 0], [0, 0, 1, 0], [0, 0, 0, 1], [0,...   1.188525  \n",
       "279998  [[0, 1, 0, 0], [0, 1, 0, 0], [0, 0, 1, 0], [0,...  -2.201790  \n",
       "279999  [[0, 1, 0, 0], [0, 1, 0, 0], [0, 0, 1, 0], [1,...  -1.056787  \n",
       "\n",
       "[280000 rows x 37 columns]"
      ]
     },
     "execution_count": 15,
     "metadata": {},
     "output_type": "execute_result"
    }
   ],
   "source": [
    "df"
   ]
  },
  {
   "cell_type": "markdown",
   "metadata": {},
   "source": [
    "### Distribution of the mean ribosome load accross the data"
   ]
  },
  {
   "cell_type": "code",
   "execution_count": 54,
   "metadata": {},
   "outputs": [
    {
     "data": {
      "image/png": "[encoded data removed]",
      "text/plain": [
       "<Figure size 640x480 with 1 Axes>"
      ]
     },
     "metadata": {},
     "output_type": "display_data"
    }
   ],
   "source": [
    "sns.histplot(data=df, x=\"rl\", bins = 20, kde=True)\n",
    " \n",
    "# Show the plot\n",
    "plt.title(\"Distribution of the MRL over the Dataset\")\n",
    "plt.show()"
   ]
  },
  {
   "cell_type": "markdown",
   "metadata": {},
   "source": [
    "We observe that our data follows a bit a bimodal distribution with a peak around 5 and a peak around 8. "
   ]
  },
  {
   "cell_type": "markdown",
   "metadata": {},
   "source": [
    "We observe the same phenomenon after scaling. "
   ]
  },
  {
   "cell_type": "code",
   "execution_count": 55,
   "metadata": {},
   "outputs": [
    {
     "data": {
      "image/png": "[encoded data removed]",
      "text/plain": [
       "<Figure size 640x480 with 1 Axes>"
      ]
     },
     "metadata": {},
     "output_type": "display_data"
    }
   ],
   "source": [
    "sns.histplot(data=df, x=\"scaled_rl\", bins = 20, kde=True)\n",
    " \n",
    "# Show the plot\n",
    "plt.title(\"Distribution of the Scaled MRL over the Dataset\")\n",
    "plt.show()"
   ]
  },
  {
   "cell_type": "markdown",
   "metadata": {},
   "source": [
    "### We know that ATG's in the 5' UTRs play a significant role in expression in function of their positions. "
   ]
  },
  {
   "cell_type": "markdown",
   "metadata": {},
   "source": [
    "This phenomenon has been noted trhoughout Litterature as well as in the paper of the Seelig Lab. Let us observe the presence of ATGs vs. the MRL."
   ]
  },
  {
   "cell_type": "code",
   "execution_count": 56,
   "metadata": {},
   "outputs": [
    {
     "data": {
      "text/plain": [
       "0          True\n",
       "1          True\n",
       "2          True\n",
       "3          True\n",
       "4          True\n",
       "          ...  \n",
       "279995    False\n",
       "279996     True\n",
       "279997    False\n",
       "279998     True\n",
       "279999     True\n",
       "Name: ATG, Length: 280000, dtype: bool"
      ]
     },
     "execution_count": 56,
     "metadata": {},
     "output_type": "execute_result"
    }
   ],
   "source": [
    "df['ATG'] = df['utr'].apply(lambda x: 'ATG' in x)\n",
    "df['ATG']"
   ]
  },
  {
   "cell_type": "code",
   "execution_count": 60,
   "metadata": {},
   "outputs": [
    {
     "data": {
      "image/png": "[encoded data removed]",
      "text/plain": [
       "<Figure size 640x480 with 1 Axes>"
      ]
     },
     "metadata": {},
     "output_type": "display_data"
    }
   ],
   "source": [
    "sns.kdeplot(data=df.squeeze(), x=\"rl\", color=\"red\", label='All Sequences')\n",
    "sns.kdeplot(data=df[df['ATG'] == True].squeeze(), x=\"rl\", color=\"green\", label='ATG')\n",
    "sns.kdeplot(data=df[df['ATG'] == False].squeeze(), x=\"rl\", color=\"blue\", label='No ATG')\n",
    "plt.legend(loc='upper left')\n",
    "plt.xlabel(\"MRL\")\n",
    "# Show the plot\n",
    "plt.savefig(\"MRL_dataset_1.png\", bbox_inches = \"tight\")\n",
    "plt.show()"
   ]
  },
  {
   "cell_type": "code",
   "execution_count": 61,
   "metadata": {},
   "outputs": [
    {
     "name": "stderr",
     "output_type": "stream",
     "text": [
      "No handles with labels found to put in legend.\n"
     ]
    },
    {
     "data": {
      "image/png": "[encoded data removed]",
      "text/plain": [
       "<Figure size 640x480 with 1 Axes>"
      ]
     },
     "metadata": {},
     "output_type": "display_data"
    }
   ],
   "source": [
    "sns.histplot(data=df, hue = \"ATG\", x=\"rl\", bins = 20, kde=True)\n",
    "plt.legend(bbox_to_anchor=(1.02, 1.02), loc='upper left')\n",
    "plt.xlabel(\"MRL\")\n",
    "# Show the plot\n",
    "plt.show()"
   ]
  },
  {
   "cell_type": "markdown",
   "metadata": {},
   "source": [
    "We observe that 5' UTRs without an ATG have generally a higher MRL than 5', concentrated between 6 and 8."
   ]
  },
  {
   "cell_type": "code",
   "execution_count": 81,
   "metadata": {},
   "outputs": [
    {
     "data": {
      "text/plain": [
       "0    128941\n",
       "1    104141\n",
       "2     37759\n",
       "3      7879\n",
       "4      1152\n",
       "5       120\n",
       "6         8\n",
       "Name: number of ATG, dtype: int64"
      ]
     },
     "execution_count": 81,
     "metadata": {},
     "output_type": "execute_result"
    }
   ],
   "source": [
    "df['number of ATG'] = df['utr'].apply(lambda x: x.count('ATG'))\n",
    "df['number of ATG'].value_counts()"
   ]
  },
  {
   "cell_type": "code",
   "execution_count": null,
   "metadata": {},
   "outputs": [],
   "source": [
    "sns.boxplot(x=\"number of ATG\", y=\"rl\", data=df)"
   ]
  },
  {
   "cell_type": "code",
   "execution_count": null,
   "metadata": {},
   "outputs": [],
   "source": []
  }
 ],
 "metadata": {
  "kernelspec": {
   "display_name": "Python 3",
   "language": "python",
   "name": "python3"
  }
 },
 "nbformat": 4,
 "nbformat_minor": 4
}
