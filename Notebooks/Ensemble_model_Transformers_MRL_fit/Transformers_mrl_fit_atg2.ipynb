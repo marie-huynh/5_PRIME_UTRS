{
 "cells": [
  {
   "cell_type": "markdown",
   "id": "1443c4e5",
   "metadata": {},
   "source": [
    "# Using Transformer - Sequences with ATG"
   ]
  },
  {
   "cell_type": "markdown",
   "id": "4e665256",
   "metadata": {},
   "source": [
    "In this notebook, we will train a transformer model on the sequences with ATG to predict the mean ribosome load."
   ]
  },
  {
   "cell_type": "code",
   "execution_count": 2,
   "id": "3e001e81",
   "metadata": {},
   "outputs": [],
   "source": [
    "import pandas as pd\n",
    "import numpy as np\n",
    "import matplotlib as mpl\n",
    "import matplotlib.pyplot as plt\n",
    "import scipy.stats as stats\n",
    "import seaborn as sns\n",
    "from sklearn import preprocessing\n",
    "\n",
    "import matplotlib as mpl\n",
    "mpl.rcParams.update(mpl.rcParamsDefault)\n",
    "mpl.rcParams['agg.path.chunksize'] = 0\n",
    "mpl.rcParams.update( mpl.rc_params() )\n",
    "plt.rcParams.update({'font.size': 18})\n",
    "#plt.rcParams.update({'text.usetex': True})\n",
    "plt.rcParams.update({'text.latex.preamble': 'bold'})\n",
    "plt.rc('font', family='serif')\n",
    "\n",
    "import tensorflow as tf\n",
    "from tensorflow.keras.preprocessing.text import Tokenizer\n",
    "from tensorflow.keras.preprocessing.sequence import pad_sequences\n",
    "from tensorflow.keras.utils import to_categorical\n",
    "from tensorflow.keras.models import Sequential, Model\n",
    "from tensorflow.keras import layers\n",
    "from tensorflow.keras.layers import Embedding, Layer, Dense, Dropout, MultiHeadAttention, LayerNormalization, Input, GlobalAveragePooling1D\n",
    "from tensorflow.keras.layers import LSTM, Bidirectional\n",
    "from tensorflow.keras.callbacks import ModelCheckpoint, EarlyStopping, ReduceLROnPlateau\n",
    "from sklearn.model_selection import train_test_split\n",
    "import keras\n",
    "import os\n",
    "os.environ['TF_CPP_MIN_LOG_LEVEL'] = '2'\n",
    "\n",
    "from sklearn.metrics import r2_score\n",
    "\n",
    "import json"
   ]
  },
  {
   "cell_type": "markdown",
   "id": "a7b8352d",
   "metadata": {},
   "source": [
    "## Useful Functions"
   ]
  },
  {
   "cell_type": "code",
   "execution_count": 18,
   "id": "f78ccf02",
   "metadata": {},
   "outputs": [],
   "source": [
    "def split_atg(X1,X,y):\n",
    "    label_atg,atg,label_no_atg,no_atg = [], [], [], []\n",
    "    for i in range(len(X)):\n",
    "        seq = \"\"\n",
    "        for j in range(len(X[i])-1):\n",
    "            seq += X[i][j][0]\n",
    "        seq += X[i][-1]\n",
    "        if \"ATG\" in seq:\n",
    "            atg.append(X1[i])\n",
    "            label_atg.append(y[i])\n",
    "        else:\n",
    "            no_atg.append(X1[i])\n",
    "            label_no_atg.append(y[i])\n",
    "    return np.array(label_atg),np.array(atg),np.array(label_no_atg),np.array(no_atg) \n",
    "    \n",
    "\n",
    "def split_seq_into_words(n, seqs):\n",
    "    return np.array([\" \".join([str(seqs[i][j:j+n]) for j in range(0,len(seqs[i])-n+1)]) for i in range(len(seqs))])\n",
    "    \n",
    "\n",
    "def r2(x,y):\n",
    "    return 1 - sum((x-y)**2)/sum((x-np.mean(x))**2)\n",
    "            \n",
    "    "
   ]
  },
  {
   "cell_type": "markdown",
   "id": "91f8cb76",
   "metadata": {},
   "source": [
    "## Splitting the data into Traning, Validation and Test Sets"
   ]
  },
  {
   "cell_type": "code",
   "execution_count": 19,
   "id": "2055daf6",
   "metadata": {},
   "outputs": [],
   "source": [
    "data_path = \"Data/GSM3130435_egfp_unmod_1_PREPROCESSED.csv.gz\"\n",
    "df = pd.read_csv(data_path, compression='gzip')\n"
   ]
  },
  {
   "cell_type": "code",
   "execution_count": 20,
   "id": "0619ce64",
   "metadata": {},
   "outputs": [
    {
     "data": {
      "text/html": [
       "<div>\n",
       "<style scoped>\n",
       "    .dataframe tbody tr th:only-of-type {\n",
       "        vertical-align: middle;\n",
       "    }\n",
       "\n",
       "    .dataframe tbody tr th {\n",
       "        vertical-align: top;\n",
       "    }\n",
       "\n",
       "    .dataframe thead th {\n",
       "        text-align: right;\n",
       "    }\n",
       "</style>\n",
       "<table border=\"1\" class=\"dataframe\">\n",
       "  <thead>\n",
       "    <tr style=\"text-align: right;\">\n",
       "      <th></th>\n",
       "      <th>Unnamed: 0</th>\n",
       "      <th>utr</th>\n",
       "      <th>0</th>\n",
       "      <th>1</th>\n",
       "      <th>2</th>\n",
       "      <th>3</th>\n",
       "      <th>4</th>\n",
       "      <th>5</th>\n",
       "      <th>6</th>\n",
       "      <th>7</th>\n",
       "      <th>...</th>\n",
       "      <th>r9</th>\n",
       "      <th>r10</th>\n",
       "      <th>r11</th>\n",
       "      <th>r12</th>\n",
       "      <th>r13</th>\n",
       "      <th>rl</th>\n",
       "      <th>Selection</th>\n",
       "      <th>one-hot encoding</th>\n",
       "      <th>Length</th>\n",
       "      <th>scaled_rl</th>\n",
       "    </tr>\n",
       "  </thead>\n",
       "  <tbody>\n",
       "    <tr>\n",
       "      <th>0</th>\n",
       "      <td>120605</td>\n",
       "      <td>CCACTCGATTAACATGTTAACAACATACTCGTCCGGCCGATCAGCG...</td>\n",
       "      <td>0.000137</td>\n",
       "      <td>0.000109</td>\n",
       "      <td>0.000057</td>\n",
       "      <td>0.000033</td>\n",
       "      <td>0.000015</td>\n",
       "      <td>0.000016</td>\n",
       "      <td>0.000009</td>\n",
       "      <td>0.000009</td>\n",
       "      <td>...</td>\n",
       "      <td>0.019283</td>\n",
       "      <td>0.033252</td>\n",
       "      <td>0.033252</td>\n",
       "      <td>0.027581</td>\n",
       "      <td>0.035877</td>\n",
       "      <td>3.039939</td>\n",
       "      <td>Selected Data</td>\n",
       "      <td>[[0, 1, 0, 0], [0, 1, 0, 0], [1, 0, 0, 0], [0,...</td>\n",
       "      <td>50</td>\n",
       "      <td>-2.130922</td>\n",
       "    </tr>\n",
       "    <tr>\n",
       "      <th>1</th>\n",
       "      <td>11605</td>\n",
       "      <td>CAAATCATGTGCAGCCCTGGCGACCGTACTGCGGTACAAGAAAGTA...</td>\n",
       "      <td>0.000067</td>\n",
       "      <td>0.000070</td>\n",
       "      <td>0.000065</td>\n",
       "      <td>0.000048</td>\n",
       "      <td>0.000023</td>\n",
       "      <td>0.000020</td>\n",
       "      <td>0.000011</td>\n",
       "      <td>0.000011</td>\n",
       "      <td>...</td>\n",
       "      <td>0.024241</td>\n",
       "      <td>0.039457</td>\n",
       "      <td>0.039457</td>\n",
       "      <td>0.039840</td>\n",
       "      <td>0.038785</td>\n",
       "      <td>3.895109</td>\n",
       "      <td>Selected Data</td>\n",
       "      <td>[[0, 1, 0, 0], [1, 0, 0, 0], [1, 0, 0, 0], [1,...</td>\n",
       "      <td>50</td>\n",
       "      <td>-1.600332</td>\n",
       "    </tr>\n",
       "    <tr>\n",
       "      <th>2</th>\n",
       "      <td>128224</td>\n",
       "      <td>GTTATACTAGAAGAAACTTGAGATTATGGAGCAGTCCGTCAAGGAC...</td>\n",
       "      <td>0.000088</td>\n",
       "      <td>0.000081</td>\n",
       "      <td>0.000059</td>\n",
       "      <td>0.000035</td>\n",
       "      <td>0.000017</td>\n",
       "      <td>0.000016</td>\n",
       "      <td>0.000009</td>\n",
       "      <td>0.000009</td>\n",
       "      <td>...</td>\n",
       "      <td>0.021591</td>\n",
       "      <td>0.028353</td>\n",
       "      <td>0.028353</td>\n",
       "      <td>0.028963</td>\n",
       "      <td>0.041985</td>\n",
       "      <td>3.334524</td>\n",
       "      <td>Selected Data</td>\n",
       "      <td>[[0, 0, 1, 0], [0, 0, 0, 1], [0, 0, 0, 1], [1,...</td>\n",
       "      <td>50</td>\n",
       "      <td>-1.948147</td>\n",
       "    </tr>\n",
       "    <tr>\n",
       "      <th>3</th>\n",
       "      <td>239107</td>\n",
       "      <td>CTTAGACAAAAACAACGCGCTTTCCAGTATGCGGAGCCTTGACGGT...</td>\n",
       "      <td>0.000078</td>\n",
       "      <td>0.000071</td>\n",
       "      <td>0.000060</td>\n",
       "      <td>0.000038</td>\n",
       "      <td>0.000025</td>\n",
       "      <td>0.000016</td>\n",
       "      <td>0.000010</td>\n",
       "      <td>0.000009</td>\n",
       "      <td>...</td>\n",
       "      <td>0.026617</td>\n",
       "      <td>0.038302</td>\n",
       "      <td>0.038302</td>\n",
       "      <td>0.032788</td>\n",
       "      <td>0.031043</td>\n",
       "      <td>3.575082</td>\n",
       "      <td>Selected Data</td>\n",
       "      <td>[[0, 1, 0, 0], [0, 0, 0, 1], [0, 0, 0, 1], [1,...</td>\n",
       "      <td>50</td>\n",
       "      <td>-1.798893</td>\n",
       "    </tr>\n",
       "    <tr>\n",
       "      <th>4</th>\n",
       "      <td>59082</td>\n",
       "      <td>GTATCAAATCACGGCCAACCCGACGGAGTACCCCGCGTCGATGGTC...</td>\n",
       "      <td>0.000044</td>\n",
       "      <td>0.000045</td>\n",
       "      <td>0.000050</td>\n",
       "      <td>0.000051</td>\n",
       "      <td>0.000033</td>\n",
       "      <td>0.000026</td>\n",
       "      <td>0.000015</td>\n",
       "      <td>0.000012</td>\n",
       "      <td>...</td>\n",
       "      <td>0.033080</td>\n",
       "      <td>0.051449</td>\n",
       "      <td>0.051449</td>\n",
       "      <td>0.046052</td>\n",
       "      <td>0.036447</td>\n",
       "      <td>4.593712</td>\n",
       "      <td>Selected Data</td>\n",
       "      <td>[[0, 0, 1, 0], [0, 0, 0, 1], [1, 0, 0, 0], [0,...</td>\n",
       "      <td>50</td>\n",
       "      <td>-1.166885</td>\n",
       "    </tr>\n",
       "  </tbody>\n",
       "</table>\n",
       "<p>5 rows × 37 columns</p>\n",
       "</div>"
      ],
      "text/plain": [
       "   Unnamed: 0                                                utr         0  \\\n",
       "0      120605  CCACTCGATTAACATGTTAACAACATACTCGTCCGGCCGATCAGCG...  0.000137   \n",
       "1       11605  CAAATCATGTGCAGCCCTGGCGACCGTACTGCGGTACAAGAAAGTA...  0.000067   \n",
       "2      128224  GTTATACTAGAAGAAACTTGAGATTATGGAGCAGTCCGTCAAGGAC...  0.000088   \n",
       "3      239107  CTTAGACAAAAACAACGCGCTTTCCAGTATGCGGAGCCTTGACGGT...  0.000078   \n",
       "4       59082  GTATCAAATCACGGCCAACCCGACGGAGTACCCCGCGTCGATGGTC...  0.000044   \n",
       "\n",
       "          1         2         3         4         5         6         7  ...  \\\n",
       "0  0.000109  0.000057  0.000033  0.000015  0.000016  0.000009  0.000009  ...   \n",
       "1  0.000070  0.000065  0.000048  0.000023  0.000020  0.000011  0.000011  ...   \n",
       "2  0.000081  0.000059  0.000035  0.000017  0.000016  0.000009  0.000009  ...   \n",
       "3  0.000071  0.000060  0.000038  0.000025  0.000016  0.000010  0.000009  ...   \n",
       "4  0.000045  0.000050  0.000051  0.000033  0.000026  0.000015  0.000012  ...   \n",
       "\n",
       "         r9       r10       r11       r12       r13        rl      Selection  \\\n",
       "0  0.019283  0.033252  0.033252  0.027581  0.035877  3.039939  Selected Data   \n",
       "1  0.024241  0.039457  0.039457  0.039840  0.038785  3.895109  Selected Data   \n",
       "2  0.021591  0.028353  0.028353  0.028963  0.041985  3.334524  Selected Data   \n",
       "3  0.026617  0.038302  0.038302  0.032788  0.031043  3.575082  Selected Data   \n",
       "4  0.033080  0.051449  0.051449  0.046052  0.036447  4.593712  Selected Data   \n",
       "\n",
       "                                    one-hot encoding  Length  scaled_rl  \n",
       "0  [[0, 1, 0, 0], [0, 1, 0, 0], [1, 0, 0, 0], [0,...      50  -2.130922  \n",
       "1  [[0, 1, 0, 0], [1, 0, 0, 0], [1, 0, 0, 0], [1,...      50  -1.600332  \n",
       "2  [[0, 0, 1, 0], [0, 0, 0, 1], [0, 0, 0, 1], [1,...      50  -1.948147  \n",
       "3  [[0, 1, 0, 0], [0, 0, 0, 1], [0, 0, 0, 1], [1,...      50  -1.798893  \n",
       "4  [[0, 0, 1, 0], [0, 0, 0, 1], [1, 0, 0, 0], [0,...      50  -1.166885  \n",
       "\n",
       "[5 rows x 37 columns]"
      ]
     },
     "execution_count": 20,
     "metadata": {},
     "output_type": "execute_result"
    }
   ],
   "source": [
    "df.head()"
   ]
  },
  {
   "cell_type": "code",
   "execution_count": 21,
   "id": "10689472",
   "metadata": {},
   "outputs": [],
   "source": [
    "rl = df[\"scaled_rl\"].values\n",
    "utr = df[\"utr\"].values"
   ]
  },
  {
   "cell_type": "code",
   "execution_count": 22,
   "id": "e63d37ae",
   "metadata": {},
   "outputs": [],
   "source": [
    "label_utr_atg,utr_atg,label_utr_no_atg,utr_no_atg = split_atg(utr, utr, rl)"
   ]
  },
  {
   "cell_type": "code",
   "execution_count": 23,
   "id": "076a1845",
   "metadata": {},
   "outputs": [],
   "source": [
    "utr = utr_atg\n",
    "scaled_rl = label_utr_atg"
   ]
  },
  {
   "cell_type": "code",
   "execution_count": 24,
   "id": "33305348",
   "metadata": {},
   "outputs": [],
   "source": [
    "sentences = split_seq_into_words(5, utr)"
   ]
  },
  {
   "cell_type": "code",
   "execution_count": 25,
   "id": "a7b9f2d1",
   "metadata": {},
   "outputs": [],
   "source": [
    "X_train, X_val, y_train, y_val = train_test_split(sentences, scaled_rl, test_size=0.2, random_state=25)\n",
    "X_val, X_test1, y_val, y_test = train_test_split(X_val, y_val, test_size=0.5, random_state=25)"
   ]
  },
  {
   "cell_type": "markdown",
   "id": "c391284f",
   "metadata": {},
   "source": [
    "## Tokenization and Encoding"
   ]
  },
  {
   "cell_type": "code",
   "execution_count": 26,
   "id": "12df961b",
   "metadata": {},
   "outputs": [
    {
     "name": "stdout",
     "output_type": "stream",
     "text": [
      "Vocab Size:  1025\n"
     ]
    }
   ],
   "source": [
    "max_len = (len(sentences[0])+1)//6\n",
    "oov_token = '00_V' \n",
    "padding_type = 'post'\n",
    "trunc_type = 'post'  \n",
    "\n",
    "tokenizer = Tokenizer()\n",
    "tokenizer.fit_on_texts(X_train)\n",
    "vocab_size = len(tokenizer.word_index) + 1\n",
    "print(\"Vocab Size: \",vocab_size)"
   ]
  },
  {
   "cell_type": "code",
   "execution_count": 11,
   "id": "853e5d94",
   "metadata": {},
   "outputs": [],
   "source": [
    "token_string = tokenizer.to_json()\n",
    "with open(\"atg_token2.json\", \"w\") as file:\n",
    "    json.dump(token_string, file)"
   ]
  },
  {
   "cell_type": "code",
   "execution_count": 27,
   "id": "35884ba3",
   "metadata": {},
   "outputs": [],
   "source": [
    "train_temp = tokenizer.texts_to_sequences(X_train)\n",
    "X_train = pad_sequences(train_temp, maxlen=max_len, padding=padding_type, truncating=trunc_type)\n",
    "\n",
    "val_temp = tokenizer.texts_to_sequences(X_val)\n",
    "X_val = pad_sequences(val_temp, maxlen=max_len, padding=padding_type, truncating=trunc_type)\n",
    "\n",
    "test_temp = tokenizer.texts_to_sequences(X_test1)\n",
    "X_test = pad_sequences(test_temp, maxlen=max_len, padding=padding_type, truncating=trunc_type)"
   ]
  },
  {
   "cell_type": "markdown",
   "id": "1f31cfe0",
   "metadata": {},
   "source": [
    "## Building and training the model"
   ]
  },
  {
   "cell_type": "code",
   "execution_count": 3,
   "id": "ccf061aa",
   "metadata": {},
   "outputs": [],
   "source": [
    "class TransformerEncoder(layers.Layer):\n",
    "    def __init__(self, embed_dim, heads, neurons):\n",
    "        super(TransformerEncoder, self).__init__()\n",
    "        self.attention = layers.MultiHeadAttention(num_heads=heads, key_dim=embed_dim)\n",
    "        self.forward = Sequential([layers.Dense(neurons, activation=\"relu\"), layers.Dense(embed_dim),])\n",
    "        self.dropout1 = layers.Dropout(0.5)\n",
    "        self.dropout2 = layers.Dropout(0.5)\n",
    "        self.layernormalization1 = layers.LayerNormalization(epsilon=1e-6)\n",
    "        self.layernormalization2 = layers.LayerNormalization(epsilon=1e-6)\n",
    "        \n",
    "    def call(self, inputs, training):\n",
    "        att_out = self.attention(inputs, inputs)\n",
    "        att_out = self.dropout1(att_out, training=training)\n",
    "        output1 = self.layernormalization1(inputs + att_out)\n",
    "        fwd_output = self.forward(output1)\n",
    "        fwd_output = self.dropout2(fwd_output, training=training)\n",
    "        return self.layernormalization2(output1 + fwd_output)\n",
    "    \n",
    "class TokenAndPositionEmbedding(layers.Layer):\n",
    "    def __init__(self, maxlen, vocab_size, embed_dim):\n",
    "        super(TokenAndPositionEmbedding, self).__init__()\n",
    "        self.token_embedding = layers.Embedding(input_dim=vocab_size, output_dim=embed_dim)\n",
    "        self.pos_embedding = layers.Embedding(input_dim=maxlen, output_dim=embed_dim)\n",
    "\n",
    "    def call(self, x):\n",
    "        maxlen = tf.shape(x)[-1]\n",
    "        pos = tf.range(start=0, limit=maxlen, delta=1)\n",
    "        pos = self.pos_embedding(pos)\n",
    "        x = self.token_embedding(x)\n",
    "        return x + pos"
   ]
  },
  {
   "cell_type": "code",
   "execution_count": 29,
   "id": "511be2d4",
   "metadata": {},
   "outputs": [],
   "source": [
    "embed_dim = 50\n",
    "heads = 20\n",
    "neurons = 32\n",
    "units=46\n",
    "\n",
    "inputs = layers.Input(shape=(max_len,))\n",
    "embedding_layer = TokenAndPositionEmbedding(max_len, vocab_size, embed_dim)\n",
    "x = embedding_layer(inputs)\n",
    "transformer_block = TransformerEncoder(embed_dim, heads, neurons)\n",
    "x = transformer_block(x)\n",
    "x = keras.layers.RNN(keras.layers.LSTMCell(units), input_shape=(max_len,))(x)\n",
    "x = layers.Dense(46, activation=\"relu\")(x)\n",
    "outputs = layers.Dense(1, activation=\"linear\")(x)\n",
    "model = Model(inputs=inputs, outputs=outputs)"
   ]
  },
  {
   "cell_type": "code",
   "execution_count": 30,
   "id": "2860c69a",
   "metadata": {},
   "outputs": [
    {
     "name": "stdout",
     "output_type": "stream",
     "text": [
      "Model: \"model_1\"\n",
      "_________________________________________________________________\n",
      " Layer (type)                Output Shape              Param #   \n",
      "=================================================================\n",
      " input_2 (InputLayer)        [(None, 46)]              0         \n",
      "                                                                 \n",
      " token_and_position_embeddin  (None, 46, 50)           53550     \n",
      " g_1 (TokenAndPositionEmbedd                                     \n",
      " ing)                                                            \n",
      "                                                                 \n",
      " transformer_encoder_1 (Tran  (None, 46, 50)           206532    \n",
      " sformerEncoder)                                                 \n",
      "                                                                 \n",
      " rnn_1 (RNN)                 (None, 46)                17848     \n",
      "                                                                 \n",
      " dense_6 (Dense)             (None, 46)                2162      \n",
      "                                                                 \n",
      " dense_7 (Dense)             (None, 1)                 47        \n",
      "                                                                 \n",
      "=================================================================\n",
      "Total params: 280,139\n",
      "Trainable params: 280,139\n",
      "Non-trainable params: 0\n",
      "_________________________________________________________________\n"
     ]
    }
   ],
   "source": [
    "adam = keras.optimizers.Adam(learning_rate=0.001, beta_1=0.9, beta_2=0.999, epsilon=1e-08)\n",
    "model.compile(loss='mean_squared_error', optimizer=adam, metrics=[r2_score], run_eagerly=True)\n",
    "model.summary()"
   ]
  },
  {
   "cell_type": "code",
   "execution_count": 16,
   "id": "0c1dcc24",
   "metadata": {},
   "outputs": [],
   "source": [
    "model_name = \"model.h5\"\n",
    "checkpoint = ModelCheckpoint(model_name,\n",
    "                            monitor=\"val_loss\",\n",
    "                            mode=\"min\",\n",
    "                            save_best_only = True,\n",
    "                            verbose=1)\n",
    "\n",
    "learning_rate_reduction = ReduceLROnPlateau(monitor='val_loss', \n",
    "                                            patience=3, \n",
    "                                            verbose=1, \n",
    "                                            factor=0.2, \n",
    "                                            min_lr=0.00000001)"
   ]
  },
  {
   "cell_type": "code",
   "execution_count": 17,
   "id": "1a324b1c",
   "metadata": {},
   "outputs": [
    {
     "name": "stdout",
     "output_type": "stream",
     "text": [
      "Epoch 1/20\n",
      "945/945 [==============================] - 763s 806ms/step - loss: 0.6373 - r2_score: 0.3127 - val_loss: 0.4062 - val_r2_score: 0.5213\n",
      "Epoch 2/20\n",
      "945/945 [==============================] - 759s 803ms/step - loss: 0.3368 - r2_score: 0.6351 - val_loss: 0.3015 - val_r2_score: 0.6435\n",
      "Epoch 3/20\n",
      "945/945 [==============================] - 762s 806ms/step - loss: 0.2608 - r2_score: 0.7169 - val_loss: 0.2095 - val_r2_score: 0.7550\n",
      "Epoch 4/20\n",
      "945/945 [==============================] - 767s 812ms/step - loss: 0.1920 - r2_score: 0.7916 - val_loss: 0.1704 - val_r2_score: 0.8016\n",
      "Epoch 5/20\n",
      "945/945 [==============================] - 764s 808ms/step - loss: 0.1631 - r2_score: 0.8228 - val_loss: 0.1524 - val_r2_score: 0.8244\n",
      "Epoch 6/20\n",
      "945/945 [==============================] - 772s 817ms/step - loss: 0.1438 - r2_score: 0.8442 - val_loss: 0.1380 - val_r2_score: 0.8387\n",
      "Epoch 7/20\n",
      "945/945 [==============================] - 768s 813ms/step - loss: 0.1322 - r2_score: 0.8564 - val_loss: 0.1292 - val_r2_score: 0.8452\n",
      "Epoch 8/20\n",
      "945/945 [==============================] - 767s 812ms/step - loss: 0.1258 - r2_score: 0.8636 - val_loss: 0.1298 - val_r2_score: 0.8451\n",
      "Epoch 9/20\n",
      "945/945 [==============================] - 769s 813ms/step - loss: 0.1193 - r2_score: 0.8706 - val_loss: 0.1351 - val_r2_score: 0.8382\n",
      "Epoch 10/20\n",
      "945/945 [==============================] - 769s 814ms/step - loss: 0.1142 - r2_score: 0.8762 - val_loss: 0.1229 - val_r2_score: 0.8463\n",
      "Epoch 11/20\n",
      "945/945 [==============================] - 773s 818ms/step - loss: 0.1104 - r2_score: 0.8802 - val_loss: 0.1243 - val_r2_score: 0.8456\n",
      "Epoch 12/20\n",
      "945/945 [==============================] - 779s 824ms/step - loss: 0.1060 - r2_score: 0.8852 - val_loss: 0.1237 - val_r2_score: 0.8557\n",
      "Epoch 13/20\n",
      "945/945 [==============================] - 770s 815ms/step - loss: 0.1031 - r2_score: 0.8885 - val_loss: 0.1203 - val_r2_score: 0.8553\n",
      "Epoch 14/20\n",
      "945/945 [==============================] - 772s 817ms/step - loss: 0.0996 - r2_score: 0.8921 - val_loss: 0.1229 - val_r2_score: 0.8493\n",
      "Epoch 15/20\n",
      "945/945 [==============================] - 770s 815ms/step - loss: 0.0969 - r2_score: 0.8945 - val_loss: 0.1197 - val_r2_score: 0.8537\n",
      "Epoch 16/20\n",
      "945/945 [==============================] - 767s 812ms/step - loss: 0.0937 - r2_score: 0.8984 - val_loss: 0.1236 - val_r2_score: 0.8427\n",
      "Epoch 17/20\n",
      "945/945 [==============================] - 768s 813ms/step - loss: 0.0914 - r2_score: 0.9010 - val_loss: 0.1257 - val_r2_score: 0.8439\n",
      "Epoch 18/20\n",
      "945/945 [==============================] - 771s 816ms/step - loss: 0.0891 - r2_score: 0.9034 - val_loss: 0.1223 - val_r2_score: 0.8520\n",
      "Epoch 19/20\n",
      "945/945 [==============================] - 768s 812ms/step - loss: 0.0866 - r2_score: 0.9062 - val_loss: 0.1258 - val_r2_score: 0.8474\n",
      "Epoch 20/20\n",
      "945/945 [==============================] - 768s 813ms/step - loss: 0.0852 - r2_score: 0.9075 - val_loss: 0.1274 - val_r2_score: 0.8473\n"
     ]
    }
   ],
   "source": [
    "history = model.fit(X_train,y_train,\n",
    "                    validation_data=(X_val,y_val),\n",
    "                    epochs=20,\n",
    "                    batch_size=128)"
   ]
  },
  {
   "cell_type": "code",
   "execution_count": 18,
   "id": "aa6fd4d3",
   "metadata": {},
   "outputs": [
    {
     "name": "stderr",
     "output_type": "stream",
     "text": [
      "WARNING:absl:Found untraced functions such as embedding_layer_call_fn, embedding_layer_call_and_return_conditional_losses, embedding_1_layer_call_fn, embedding_1_layer_call_and_return_conditional_losses, multi_head_attention_layer_call_fn while saving (showing 5 of 26). These functions will not be directly callable after loading.\n"
     ]
    },
    {
     "name": "stdout",
     "output_type": "stream",
     "text": [
      "INFO:tensorflow:Assets written to: model_transformer_mrl_fit_atg2\\assets\n"
     ]
    },
    {
     "name": "stderr",
     "output_type": "stream",
     "text": [
      "INFO:tensorflow:Assets written to: model_transformer_mrl_fit_atg2\\assets\n"
     ]
    }
   ],
   "source": [
    "#model.save('model_trans1')\n",
    "model.save('model_transformer_mrl_fit_atg2')"
   ]
  },
  {
   "cell_type": "code",
   "execution_count": 19,
   "id": "be583fed",
   "metadata": {},
   "outputs": [
    {
     "data": {
      "image/png": "[encoded data removed]",
      "text/plain": [
       "<Figure size 2000x800 with 1 Axes>"
      ]
     },
     "metadata": {},
     "output_type": "display_data"
    }
   ],
   "source": [
    "plt.figure(figsize=(20,8))\n",
    "plt.plot(history.history['loss'])\n",
    "plt.plot(history.history['val_loss'])\n",
    "plt.title('model loss')\n",
    "plt.ylabel('loss')\n",
    "plt.xlabel('epoch')\n",
    "plt.legend(['train', 'val'], loc='upper left')\n",
    "plt.show()"
   ]
  },
  {
   "cell_type": "markdown",
   "id": "5f051f0b",
   "metadata": {},
   "source": [
    "## Testing the model"
   ]
  },
  {
   "cell_type": "code",
   "execution_count": 20,
   "id": "eb9ea69d",
   "metadata": {},
   "outputs": [],
   "source": [
    "#model = keras.models.load_model('model_trans1')"
   ]
  },
  {
   "cell_type": "code",
   "execution_count": 21,
   "id": "616fb83d",
   "metadata": {},
   "outputs": [],
   "source": [
    "y_test = y_test.reshape(-1)"
   ]
  },
  {
   "cell_type": "code",
   "execution_count": 22,
   "id": "4b559ed7",
   "metadata": {},
   "outputs": [
    {
     "name": "stdout",
     "output_type": "stream",
     "text": [
      "473/473 [==============================] - 64s 136ms/step\n"
     ]
    },
    {
     "data": {
      "text/plain": [
       "0.8527806849381505"
      ]
     },
     "execution_count": 22,
     "metadata": {},
     "output_type": "execute_result"
    }
   ],
   "source": [
    "predictions = model.predict(X_test).reshape(-1)\n",
    "r2(y_test, predictions)"
   ]
  },
  {
   "cell_type": "code",
   "execution_count": 23,
   "id": "52969332",
   "metadata": {},
   "outputs": [
    {
     "data": {
      "image/png": "[encoded data removed]",
      "text/plain": [
       "<Figure size 640x480 with 1 Axes>"
      ]
     },
     "metadata": {},
     "output_type": "display_data"
    }
   ],
   "source": [
    "plt.scatter(y_test.reshape(-1), predictions)\n",
    "plt.show()"
   ]
  },
  {
   "cell_type": "code",
   "execution_count": 24,
   "id": "2c902858",
   "metadata": {},
   "outputs": [],
   "source": [
    "np.savez(\"Test_atg2.npz\",X_test = X_test, y_test=y_test)"
   ]
  },
  {
   "cell_type": "code",
   "execution_count": null,
   "id": "f5fa64b1",
   "metadata": {},
   "outputs": [],
   "source": []
  }
 ],
 "metadata": {
  "kernelspec": {
   "display_name": "Python 3 (ipykernel)",
   "language": "python",
   "name": "python3"
  },
  "language_info": {
   "codemirror_mode": {
    "name": "ipython",
    "version": 3
   },
   "file_extension": ".py",
   "mimetype": "text/x-python",
   "name": "python",
   "nbconvert_exporter": "python",
   "pygments_lexer": "ipython3",
   "version": "3.9.12"
  }
 },
 "nbformat": 4,
 "nbformat_minor": 5
}
