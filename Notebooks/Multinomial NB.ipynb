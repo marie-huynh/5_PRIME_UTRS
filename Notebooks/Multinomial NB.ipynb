{
 "cells": [
  {
   "cell_type": "markdown",
   "metadata": {},
   "source": [
    "# Classification problem : Multinomial Naive Bayes trained on the Dataset"
   ]
  },
  {
   "cell_type": "code",
   "execution_count": 36,
   "metadata": {},
   "outputs": [],
   "source": [
    "#Imports\n",
    "import numpy as np\n",
    "import pandas as pd\n",
    "import seaborn as sns\n",
    "import matplotlib.pyplot as plt\n",
    "from sklearn.naive_bayes import MultinomialNB\n",
    "from sklearn.feature_extraction.text import CountVectorizer\n",
    "from sklearn.metrics import accuracy_score, f1_score, precision_score, recall_score\n",
    "from sklearn.model_selection import train_test_split\n",
    "from keras.preprocessing import sequence\n",
    "from sklearn import preprocessing\n",
    "from sklearn.metrics import confusion_matrix\n",
    "from sklearn.preprocessing import LabelEncoder\n",
    "\n",
    "import matplotlib as mpl\n",
    "mpl.rcParams.update(mpl.rcParamsDefault)\n",
    "mpl.rcParams['agg.path.chunksize'] = 0\n",
    "mpl.rcParams.update( mpl.rc_params() )\n",
    "plt.rcParams.update({'font.size': 18})\n",
    "#plt.rcParams.update({'text.usetex': True})\n",
    "plt.rcParams.update({'text.latex.preamble': 'bold'})\n",
    "plt.rc('font', family='serif')"
   ]
  },
  {
   "cell_type": "markdown",
   "metadata": {},
   "source": [
    "### We load the data."
   ]
  },
  {
   "cell_type": "code",
   "execution_count": 3,
   "metadata": {},
   "outputs": [],
   "source": [
    "#We load the data\n",
    "data_path = \"Data/GSM3130435_egfp_unmod_1_PREPROCESSED.csv.gz\"\n",
    "df = pd.read_csv(data_path, compression='gzip')"
   ]
  },
  {
   "cell_type": "code",
   "execution_count": 4,
   "metadata": {},
   "outputs": [
    {
     "data": {
      "text/html": [
       "<div>\n",
       "<style scoped>\n",
       "    .dataframe tbody tr th:only-of-type {\n",
       "        vertical-align: middle;\n",
       "    }\n",
       "\n",
       "    .dataframe tbody tr th {\n",
       "        vertical-align: top;\n",
       "    }\n",
       "\n",
       "    .dataframe thead th {\n",
       "        text-align: right;\n",
       "    }\n",
       "</style>\n",
       "<table border=\"1\" class=\"dataframe\">\n",
       "  <thead>\n",
       "    <tr style=\"text-align: right;\">\n",
       "      <th></th>\n",
       "      <th>Unnamed: 0</th>\n",
       "      <th>utr</th>\n",
       "      <th>0</th>\n",
       "      <th>1</th>\n",
       "      <th>2</th>\n",
       "      <th>3</th>\n",
       "      <th>4</th>\n",
       "      <th>5</th>\n",
       "      <th>6</th>\n",
       "      <th>7</th>\n",
       "      <th>...</th>\n",
       "      <th>r9</th>\n",
       "      <th>r10</th>\n",
       "      <th>r11</th>\n",
       "      <th>r12</th>\n",
       "      <th>r13</th>\n",
       "      <th>rl</th>\n",
       "      <th>Length</th>\n",
       "      <th>Selection</th>\n",
       "      <th>one-hot encoding</th>\n",
       "      <th>scaled_rl</th>\n",
       "    </tr>\n",
       "  </thead>\n",
       "  <tbody>\n",
       "    <tr>\n",
       "      <th>0</th>\n",
       "      <td>120605</td>\n",
       "      <td>CCACTCGATTAACATGTTAACAACATACTCGTCCGGCCGATCAGCG...</td>\n",
       "      <td>0.000137</td>\n",
       "      <td>0.000109</td>\n",
       "      <td>0.000057</td>\n",
       "      <td>0.000033</td>\n",
       "      <td>0.000015</td>\n",
       "      <td>0.000016</td>\n",
       "      <td>0.000009</td>\n",
       "      <td>0.000009</td>\n",
       "      <td>...</td>\n",
       "      <td>0.019283</td>\n",
       "      <td>0.033252</td>\n",
       "      <td>0.033252</td>\n",
       "      <td>0.027581</td>\n",
       "      <td>0.035877</td>\n",
       "      <td>3.039939</td>\n",
       "      <td>50</td>\n",
       "      <td>Selected Data</td>\n",
       "      <td>[[0, 1, 0, 0], [0, 1, 0, 0], [1, 0, 0, 0], [0,...</td>\n",
       "      <td>-2.130922</td>\n",
       "    </tr>\n",
       "    <tr>\n",
       "      <th>1</th>\n",
       "      <td>11605</td>\n",
       "      <td>CAAATCATGTGCAGCCCTGGCGACCGTACTGCGGTACAAGAAAGTA...</td>\n",
       "      <td>0.000067</td>\n",
       "      <td>0.000070</td>\n",
       "      <td>0.000065</td>\n",
       "      <td>0.000048</td>\n",
       "      <td>0.000023</td>\n",
       "      <td>0.000020</td>\n",
       "      <td>0.000011</td>\n",
       "      <td>0.000011</td>\n",
       "      <td>...</td>\n",
       "      <td>0.024241</td>\n",
       "      <td>0.039457</td>\n",
       "      <td>0.039457</td>\n",
       "      <td>0.039840</td>\n",
       "      <td>0.038785</td>\n",
       "      <td>3.895109</td>\n",
       "      <td>50</td>\n",
       "      <td>Selected Data</td>\n",
       "      <td>[[0, 1, 0, 0], [1, 0, 0, 0], [1, 0, 0, 0], [1,...</td>\n",
       "      <td>-1.600332</td>\n",
       "    </tr>\n",
       "    <tr>\n",
       "      <th>2</th>\n",
       "      <td>128224</td>\n",
       "      <td>GTTATACTAGAAGAAACTTGAGATTATGGAGCAGTCCGTCAAGGAC...</td>\n",
       "      <td>0.000088</td>\n",
       "      <td>0.000081</td>\n",
       "      <td>0.000059</td>\n",
       "      <td>0.000035</td>\n",
       "      <td>0.000017</td>\n",
       "      <td>0.000016</td>\n",
       "      <td>0.000009</td>\n",
       "      <td>0.000009</td>\n",
       "      <td>...</td>\n",
       "      <td>0.021591</td>\n",
       "      <td>0.028353</td>\n",
       "      <td>0.028353</td>\n",
       "      <td>0.028963</td>\n",
       "      <td>0.041985</td>\n",
       "      <td>3.334524</td>\n",
       "      <td>50</td>\n",
       "      <td>Selected Data</td>\n",
       "      <td>[[0, 0, 1, 0], [0, 0, 0, 1], [0, 0, 0, 1], [1,...</td>\n",
       "      <td>-1.948147</td>\n",
       "    </tr>\n",
       "    <tr>\n",
       "      <th>3</th>\n",
       "      <td>239107</td>\n",
       "      <td>CTTAGACAAAAACAACGCGCTTTCCAGTATGCGGAGCCTTGACGGT...</td>\n",
       "      <td>0.000078</td>\n",
       "      <td>0.000071</td>\n",
       "      <td>0.000060</td>\n",
       "      <td>0.000038</td>\n",
       "      <td>0.000025</td>\n",
       "      <td>0.000016</td>\n",
       "      <td>0.000010</td>\n",
       "      <td>0.000009</td>\n",
       "      <td>...</td>\n",
       "      <td>0.026617</td>\n",
       "      <td>0.038302</td>\n",
       "      <td>0.038302</td>\n",
       "      <td>0.032788</td>\n",
       "      <td>0.031043</td>\n",
       "      <td>3.575082</td>\n",
       "      <td>50</td>\n",
       "      <td>Selected Data</td>\n",
       "      <td>[[0, 1, 0, 0], [0, 0, 0, 1], [0, 0, 0, 1], [1,...</td>\n",
       "      <td>-1.798893</td>\n",
       "    </tr>\n",
       "    <tr>\n",
       "      <th>4</th>\n",
       "      <td>59082</td>\n",
       "      <td>GTATCAAATCACGGCCAACCCGACGGAGTACCCCGCGTCGATGGTC...</td>\n",
       "      <td>0.000044</td>\n",
       "      <td>0.000045</td>\n",
       "      <td>0.000050</td>\n",
       "      <td>0.000051</td>\n",
       "      <td>0.000033</td>\n",
       "      <td>0.000026</td>\n",
       "      <td>0.000015</td>\n",
       "      <td>0.000012</td>\n",
       "      <td>...</td>\n",
       "      <td>0.033080</td>\n",
       "      <td>0.051449</td>\n",
       "      <td>0.051449</td>\n",
       "      <td>0.046052</td>\n",
       "      <td>0.036447</td>\n",
       "      <td>4.593712</td>\n",
       "      <td>50</td>\n",
       "      <td>Selected Data</td>\n",
       "      <td>[[0, 0, 1, 0], [0, 0, 0, 1], [1, 0, 0, 0], [0,...</td>\n",
       "      <td>-1.166885</td>\n",
       "    </tr>\n",
       "  </tbody>\n",
       "</table>\n",
       "<p>5 rows × 37 columns</p>\n",
       "</div>"
      ],
      "text/plain": [
       "   Unnamed: 0                                                utr         0  \\\n",
       "0      120605  CCACTCGATTAACATGTTAACAACATACTCGTCCGGCCGATCAGCG...  0.000137   \n",
       "1       11605  CAAATCATGTGCAGCCCTGGCGACCGTACTGCGGTACAAGAAAGTA...  0.000067   \n",
       "2      128224  GTTATACTAGAAGAAACTTGAGATTATGGAGCAGTCCGTCAAGGAC...  0.000088   \n",
       "3      239107  CTTAGACAAAAACAACGCGCTTTCCAGTATGCGGAGCCTTGACGGT...  0.000078   \n",
       "4       59082  GTATCAAATCACGGCCAACCCGACGGAGTACCCCGCGTCGATGGTC...  0.000044   \n",
       "\n",
       "          1         2         3         4         5         6         7  ...  \\\n",
       "0  0.000109  0.000057  0.000033  0.000015  0.000016  0.000009  0.000009  ...   \n",
       "1  0.000070  0.000065  0.000048  0.000023  0.000020  0.000011  0.000011  ...   \n",
       "2  0.000081  0.000059  0.000035  0.000017  0.000016  0.000009  0.000009  ...   \n",
       "3  0.000071  0.000060  0.000038  0.000025  0.000016  0.000010  0.000009  ...   \n",
       "4  0.000045  0.000050  0.000051  0.000033  0.000026  0.000015  0.000012  ...   \n",
       "\n",
       "         r9       r10       r11       r12       r13        rl  Length  \\\n",
       "0  0.019283  0.033252  0.033252  0.027581  0.035877  3.039939      50   \n",
       "1  0.024241  0.039457  0.039457  0.039840  0.038785  3.895109      50   \n",
       "2  0.021591  0.028353  0.028353  0.028963  0.041985  3.334524      50   \n",
       "3  0.026617  0.038302  0.038302  0.032788  0.031043  3.575082      50   \n",
       "4  0.033080  0.051449  0.051449  0.046052  0.036447  4.593712      50   \n",
       "\n",
       "       Selection                                   one-hot encoding  scaled_rl  \n",
       "0  Selected Data  [[0, 1, 0, 0], [0, 1, 0, 0], [1, 0, 0, 0], [0,...  -2.130922  \n",
       "1  Selected Data  [[0, 1, 0, 0], [1, 0, 0, 0], [1, 0, 0, 0], [1,...  -1.600332  \n",
       "2  Selected Data  [[0, 0, 1, 0], [0, 0, 0, 1], [0, 0, 0, 1], [1,...  -1.948147  \n",
       "3  Selected Data  [[0, 1, 0, 0], [0, 0, 0, 1], [0, 0, 0, 1], [1,...  -1.798893  \n",
       "4  Selected Data  [[0, 0, 1, 0], [0, 0, 0, 1], [1, 0, 0, 0], [0,...  -1.166885  \n",
       "\n",
       "[5 rows x 37 columns]"
      ]
     },
     "execution_count": 4,
     "metadata": {},
     "output_type": "execute_result"
    }
   ],
   "source": [
    "df.head()"
   ]
  },
  {
   "cell_type": "markdown",
   "metadata": {},
   "source": [
    "### We transform our problem in a classification task."
   ]
  },
  {
   "cell_type": "markdown",
   "metadata": {},
   "source": [
    "#### First, we transform the output. "
   ]
  },
  {
   "cell_type": "code",
   "execution_count": 5,
   "metadata": {},
   "outputs": [
    {
     "data": {
      "text/plain": [
       "0         3\n",
       "1         4\n",
       "2         3\n",
       "3         4\n",
       "4         5\n",
       "         ..\n",
       "279995    8\n",
       "279996    8\n",
       "279997    8\n",
       "279998    3\n",
       "279999    5\n",
       "Name: Round MRL, Length: 280000, dtype: int64"
      ]
     },
     "execution_count": 5,
     "metadata": {},
     "output_type": "execute_result"
    }
   ],
   "source": [
    "df['Round MRL'] = df['rl'].apply(round)\n",
    "df['Round MRL']"
   ]
  },
  {
   "cell_type": "code",
   "execution_count": 6,
   "metadata": {},
   "outputs": [
    {
     "name": "stdout",
     "output_type": "stream",
     "text": [
      "13\n"
     ]
    },
    {
     "data": {
      "text/plain": [
       "array([ 3,  4,  5,  8,  6,  7,  2,  9,  0,  1, 10, 11, 12])"
      ]
     },
     "execution_count": 6,
     "metadata": {},
     "output_type": "execute_result"
    }
   ],
   "source": [
    "print(len(df['Round MRL'].unique()))\n",
    "df['Round MRL'].unique()"
   ]
  },
  {
   "cell_type": "markdown",
   "metadata": {},
   "source": [
    "We thus obtain 13 classes. Let us observe the repartition of the classes. "
   ]
  },
  {
   "cell_type": "code",
   "execution_count": 35,
   "metadata": {},
   "outputs": [
    {
     "data": {
      "image/png": "[encoded data removed]",
      "text/plain": [
       "<Figure size 640x480 with 1 Axes>"
      ]
     },
     "metadata": {},
     "output_type": "display_data"
    }
   ],
   "source": [
    "df['Round MRL'].value_counts().sort_index().plot.bar()\n",
    "plt.xlabel(\"Rounded MRL\")\n",
    "plt.savefig(\"Class_imbalance.pdf\", bbox_inches = \"tight\")\n",
    "plt.show()"
   ]
  },
  {
   "cell_type": "markdown",
   "metadata": {},
   "source": [
    "There is class imbalance. "
   ]
  },
  {
   "cell_type": "code",
   "execution_count": 8,
   "metadata": {},
   "outputs": [
    {
     "data": {
      "text/plain": [
       "{3: 13883,\n",
       " 4: 32024,\n",
       " 5: 35956,\n",
       " 8: 103568,\n",
       " 6: 30255,\n",
       " 7: 59431,\n",
       " 2: 770,\n",
       " 9: 3898,\n",
       " 0: 11,\n",
       " 1: 57,\n",
       " 10: 126,\n",
       " 11: 18,\n",
       " 12: 3}"
      ]
     },
     "execution_count": 8,
     "metadata": {},
     "output_type": "execute_result"
    }
   ],
   "source": [
    "#Let us compute class weights \n",
    "#First, we have to compute a dictionnary with the counts per class\n",
    "values = list(df['Round MRL'].unique())\n",
    "counts = dict()\n",
    "for value in values:\n",
    "    counts[value] = df['Round MRL'].value_counts()[value]\n",
    "counts"
   ]
  },
  {
   "cell_type": "code",
   "execution_count": 9,
   "metadata": {},
   "outputs": [],
   "source": [
    "#We reshape the classes in quantitative classes\n",
    "def reshape_classes(MRL):\n",
    "    if (MRL <= 5):\n",
    "        return 0\n",
    "    elif (MRL <= 7):\n",
    "        return 1\n",
    "    elif (MRL > 7):\n",
    "        return 2"
   ]
  },
  {
   "cell_type": "code",
   "execution_count": 10,
   "metadata": {},
   "outputs": [
    {
     "data": {
      "text/plain": [
       "2    147216\n",
       "1     67546\n",
       "0     65238\n",
       "Name: new mrl classes, dtype: int64"
      ]
     },
     "execution_count": 10,
     "metadata": {},
     "output_type": "execute_result"
    }
   ],
   "source": [
    "df[\"new mrl classes\"] = df[\"rl\"].apply(reshape_classes)\n",
    "df[\"new mrl classes\"].value_counts()"
   ]
  },
  {
   "cell_type": "code",
   "execution_count": 11,
   "metadata": {},
   "outputs": [
    {
     "name": "stdout",
     "output_type": "stream",
     "text": [
      "63568\n",
      "19431\n"
     ]
    },
    {
     "data": {
      "text/plain": [
       "8     55846\n",
       "7     42855\n",
       "5     35956\n",
       "4     32024\n",
       "6     30255\n",
       "3     13883\n",
       "9      3898\n",
       "2       770\n",
       "10      126\n",
       "1        57\n",
       "11       18\n",
       "0        11\n",
       "12        3\n",
       "Name: Round MRL, dtype: int64"
      ]
     },
     "execution_count": 11,
     "metadata": {},
     "output_type": "execute_result"
    }
   ],
   "source": [
    "import random\n",
    "#Let us do undersampling for class 7 and 8 and oversampling for the other classes. \n",
    "df_rebalanced = df.copy()\n",
    "classes = [3,4,5,8,6,7,9]\n",
    "for value in values : \n",
    "    if (value == 7 or value == 8):\n",
    "        indexes = list(df_rebalanced[df_rebalanced[\"Round MRL\"] == value].index.values)        \n",
    "        d = counts[value] - 40000\n",
    "        random_indexes = random.choices(indexes, k = d)\n",
    "        print(len(random_indexes))\n",
    "        df_rebalanced.drop(random_indexes, inplace = True)\n",
    "    if (value in  [3,4,5,6]):\n",
    "        indexes = list(df_rebalanced[df_rebalanced[\"Round MRL\"] == value].index.values)        \n",
    "        d = counts[value] - 40000\n",
    "        random_indexes = random.choices(indexes, k = d)\n",
    "        df_rebalanced.append(df_rebalanced.loc[random_indexes])\n",
    "\n",
    "df_rebalanced[\"Round MRL\"].value_counts()"
   ]
  },
  {
   "cell_type": "markdown",
   "metadata": {},
   "source": [
    "## Case 1 : Using k-mer Counting"
   ]
  },
  {
   "cell_type": "code",
   "execution_count": 12,
   "metadata": {},
   "outputs": [],
   "source": [
    "# function to convert sequence strings into k-mer words, default size = 6 (hexamer words)\n",
    "def getKmers(sequence, size=4):\n",
    "    return [sequence[x:x+size].lower() for x in range(len(sequence) - size + 1)]"
   ]
  },
  {
   "cell_type": "code",
   "execution_count": 15,
   "metadata": {},
   "outputs": [],
   "source": [
    "df = df.sample(frac = 1)"
   ]
  },
  {
   "cell_type": "code",
   "execution_count": 18,
   "metadata": {},
   "outputs": [
    {
     "name": "stdout",
     "output_type": "stream",
     "text": [
      "Model k = 3; lr = 0.1; accuracy = 0.6962857142857143\n",
      "Model k = 3; lr = 0.01; accuracy = 0.69625\n",
      "Model k = 3; lr = 0.001; accuracy = 0.69625\n",
      "Model k = 4; lr = 0.1; accuracy = 0.7041428571428572\n",
      "Model k = 4; lr = 0.01; accuracy = 0.7041428571428572\n",
      "Model k = 4; lr = 0.001; accuracy = 0.7041428571428572\n",
      "Model k = 5; lr = 0.1; accuracy = 0.6968214285714286\n",
      "Model k = 5; lr = 0.01; accuracy = 0.6967857142857142\n",
      "Model k = 5; lr = 0.001; accuracy = 0.6968571428571428\n",
      "Model k = 6; lr = 0.1; accuracy = 0.6720714285714285\n",
      "Model k = 6; lr = 0.01; accuracy = 0.6690357142857143\n",
      "Model k = 6; lr = 0.001; accuracy = 0.6674642857142857\n"
     ]
    }
   ],
   "source": [
    "#Grid search of parameters\n",
    "ks = [3, 4, 5, 6]\n",
    "learning_rates = [0.1, 0.01, 0.001]\n",
    "for k in ks:\n",
    "    for lr in learning_rates : \n",
    "        #Creating Bags of Words\n",
    "        df['words'] = df['utr'].apply(lambda x: getKmers(x, k))\n",
    "        df['words'].head()\n",
    "        df_text = list(df['words'])\n",
    "        for item in range(len(df_text)):\n",
    "            df_text[item] = ' '.join(df_text[item])\n",
    "        y_data = df[\"new mrl classes\"].values \n",
    "        cv = CountVectorizer(ngram_range=(4,4)) #ngram_range=(4,4))\n",
    "        X = cv.fit_transform(df_text)\n",
    "        \n",
    "        #Splitting in train, validation, test\n",
    "        X_test = X[:28000]\n",
    "        y_test = y_data[:28000]\n",
    "        X_val = X[28000:56000]\n",
    "        y_val = y_data[28000:56000]\n",
    "        X_train = X[56000:]\n",
    "        y_train = y_data[56000:]\n",
    "        \n",
    "        #Define model and train\n",
    "        X = cv.fit_transform(df_text)\n",
    "        classifier = MultinomialNB(alpha=lr)\n",
    "        classifier.fit(X_train, y_train)\n",
    "        \n",
    "        y_pred = classifier.predict(X_val)\n",
    "        accuracy = accuracy_score(y_val, y_pred)\n",
    "        print(\"Model k = {}; lr = {}; accuracy = {}\".format(k, lr, accuracy))"
   ]
  },
  {
   "cell_type": "markdown",
   "metadata": {},
   "source": [
    "### Then, we can train the model we chose with wanted parameters."
   ]
  },
  {
   "cell_type": "code",
   "execution_count": 19,
   "metadata": {},
   "outputs": [],
   "source": [
    "k_final = 0.01\n",
    "lr_final = 4"
   ]
  },
  {
   "cell_type": "code",
   "execution_count": 20,
   "metadata": {},
   "outputs": [
    {
     "data": {
      "text/plain": [
       "211965    [aatt, atta, ttat, tatc, atcg, tcgg, cggt, ggt...\n",
       "249845    [acca, ccac, cact, actc, ctcc, tccg, ccgc, cgc...\n",
       "205321    [ccgg, cggt, ggtg, gtga, tgac, gaca, acat, cat...\n",
       "156072    [ctca, tcaa, caag, aaga, agat, gatg, atgt, tgt...\n",
       "22234     [taac, aaca, acac, cacc, accc, ccca, ccag, cag...\n",
       "Name: words, dtype: object"
      ]
     },
     "execution_count": 20,
     "metadata": {},
     "output_type": "execute_result"
    }
   ],
   "source": [
    "df['words'] = df['utr'].apply(lambda x: getKmers(x))\n",
    "df['words'].head()"
   ]
  },
  {
   "cell_type": "code",
   "execution_count": 21,
   "metadata": {},
   "outputs": [],
   "source": [
    "df_text = list(df['words'])\n",
    "for item in range(len(df_text)):\n",
    "    df_text[item] = ' '.join(df_text[item])\n",
    "y_data = df[\"new mrl classes\"].values \n"
   ]
  },
  {
   "cell_type": "code",
   "execution_count": 23,
   "metadata": {},
   "outputs": [],
   "source": [
    "# Creating the Bag of Words model using CountVectorizer()\n",
    "# This is equivalent to k-mer counting\n",
    "# The n-gram size of 4 was previously determined by testing\n",
    "cv = CountVectorizer(ngram_range=(4,4)) #ngram_range=(4,4))\n",
    "X = cv.fit_transform(df_text)"
   ]
  },
  {
   "cell_type": "code",
   "execution_count": 24,
   "metadata": {},
   "outputs": [
    {
     "name": "stdout",
     "output_type": "stream",
     "text": [
      "(280000, 16384)\n"
     ]
    }
   ],
   "source": [
    "print(X.shape)"
   ]
  },
  {
   "cell_type": "markdown",
   "metadata": {},
   "source": [
    "### We split our data into training and testing set."
   ]
  },
  {
   "cell_type": "code",
   "execution_count": 58,
   "metadata": {},
   "outputs": [],
   "source": [
    "X_test = X[:28000]\n",
    "y_test = y_data[:28000]\n",
    "X_val = X[28000:56000]\n",
    "y_val = y_data[28000:56000]\n",
    "X_train = X[56000:]\n",
    "y_train = y_data[56000:]"
   ]
  },
  {
   "cell_type": "code",
   "execution_count": 59,
   "metadata": {},
   "outputs": [
    {
     "data": {
      "text/plain": [
       "6533"
      ]
     },
     "execution_count": 59,
     "metadata": {},
     "output_type": "execute_result"
    }
   ],
   "source": [
    "list(y_test).count(0)"
   ]
  },
  {
   "cell_type": "code",
   "execution_count": 60,
   "metadata": {},
   "outputs": [
    {
     "data": {
      "text/plain": [
       "6678"
      ]
     },
     "execution_count": 60,
     "metadata": {},
     "output_type": "execute_result"
    }
   ],
   "source": [
    "list(y_test).count(1)"
   ]
  },
  {
   "cell_type": "code",
   "execution_count": 61,
   "metadata": {},
   "outputs": [
    {
     "data": {
      "text/plain": [
       "14789"
      ]
     },
     "execution_count": 61,
     "metadata": {},
     "output_type": "execute_result"
    }
   ],
   "source": [
    "list(y_test).count(2)"
   ]
  },
  {
   "cell_type": "markdown",
   "metadata": {},
   "source": [
    "### Multinomial NB"
   ]
  },
  {
   "cell_type": "code",
   "execution_count": 62,
   "metadata": {},
   "outputs": [
    {
     "data": {
      "text/plain": [
       "MultinomialNB(alpha=0.01)"
      ]
     },
     "execution_count": 62,
     "metadata": {},
     "output_type": "execute_result"
    }
   ],
   "source": [
    "classifier = MultinomialNB(alpha=0.01)\n",
    "classifier.fit(X_train, y_train)"
   ]
  },
  {
   "cell_type": "code",
   "execution_count": 63,
   "metadata": {},
   "outputs": [],
   "source": [
    "y_pred = classifier.predict(X_test)"
   ]
  },
  {
   "cell_type": "code",
   "execution_count": 64,
   "metadata": {},
   "outputs": [
    {
     "data": {
      "text/plain": [
       "array([[ 4513,  1635,   385],\n",
       "       [ 1537,  3410,  1731],\n",
       "       [ 1228,  1635, 11926]])"
      ]
     },
     "execution_count": 64,
     "metadata": {},
     "output_type": "execute_result"
    }
   ],
   "source": [
    "cm = confusion_matrix(y_test, y_pred)\n",
    "cm"
   ]
  },
  {
   "cell_type": "code",
   "execution_count": 65,
   "metadata": {},
   "outputs": [
    {
     "data": {
      "image/png": "[encoded data removed]",
      "text/plain": [
       "<Figure size 1000x700 with 2 Axes>"
      ]
     },
     "metadata": {},
     "output_type": "display_data"
    }
   ],
   "source": [
    "import pandas as pd\n",
    "import matplotlib.pyplot as plt\n",
    "\n",
    "df_cm = pd.DataFrame(cm, index = [i for i in range(3)],\n",
    "                  columns = [i for i in range(3)])\n",
    "plt.figure(figsize = (10,7))\n",
    "plt.title(\"Confusion Matrix for Multinomial NB\", fontsize=18)\n",
    "x_ticks  = [\"Low\", \"Intermediate\", \"High\"]\n",
    "y_ticks = [\"Low\", \"Intermediate\", \"High\"]\n",
    "sns.heatmap(df_cm, yticklabels=y_ticks, xticklabels=x_ticks, annot=True, cmap=\"Greens\")\n",
    "plt.xlabel(\"Actual Values\", fontsize=18)\n",
    "plt.ylabel(\"Predicted Values\", fontsize=18)\n",
    "plt.savefig(\"Confusion_Matrix_NB.pdf\")\n",
    "plt.show()"
   ]
  },
  {
   "cell_type": "code",
   "execution_count": 68,
   "metadata": {},
   "outputs": [
    {
     "data": {
      "text/plain": [
       "array([[0.62008794, 0.24476048, 0.02741775],\n",
       "       [0.21118439, 0.51047904, 0.12327304],\n",
       "       [0.16872767, 0.24476048, 0.84930922]])"
      ]
     },
     "execution_count": 68,
     "metadata": {},
     "output_type": "execute_result"
    }
   ],
   "source": [
    "cm2 = cm/np.sum(cm, axis = 0)\n",
    "cm2"
   ]
  },
  {
   "cell_type": "code",
   "execution_count": 69,
   "metadata": {},
   "outputs": [
    {
     "data": {
      "image/png": "[encoded data removed]",
      "text/plain": [
       "<Figure size 1000x700 with 2 Axes>"
      ]
     },
     "metadata": {},
     "output_type": "display_data"
    }
   ],
   "source": [
    "df_cm = pd.DataFrame(cm2, index = [i for i in range(3)],\n",
    "                  columns = [i for i in range(3)])\n",
    "plt.figure(figsize = (10,7))\n",
    "x_ticks  = [\"Low\", \"Intermediate\", \"High\"]\n",
    "y_ticks = [\"Low\", \"Intermediate\", \"High\"]\n",
    "sns.heatmap(df_cm, yticklabels=y_ticks, xticklabels=x_ticks, annot=True, cmap=\"Greens\")\n",
    "plt.xlabel(\"Actual Values\", fontsize=18)\n",
    "plt.ylabel(\"Predicted Values\", fontsize=18)\n",
    "plt.savefig(\"Confusion_Matrix_NB_proba.pdf\")\n",
    "plt.show()"
   ]
  },
  {
   "cell_type": "code",
   "execution_count": 32,
   "metadata": {},
   "outputs": [
    {
     "data": {
      "text/plain": [
       "array([2, 0, 2, ..., 2, 0, 1])"
      ]
     },
     "execution_count": 32,
     "metadata": {},
     "output_type": "execute_result"
    }
   ],
   "source": [
    "y_test"
   ]
  },
  {
   "cell_type": "code",
   "execution_count": 33,
   "metadata": {},
   "outputs": [
    {
     "data": {
      "text/plain": [
       "array([2, 1, 2, ..., 2, 1, 1])"
      ]
     },
     "execution_count": 33,
     "metadata": {},
     "output_type": "execute_result"
    }
   ],
   "source": [
    "y_pred"
   ]
  },
  {
   "cell_type": "code",
   "execution_count": 36,
   "metadata": {
    "scrolled": false
   },
   "outputs": [
    {
     "name": "stdout",
     "output_type": "stream",
     "text": [
      "accuracy = 0.694 \n",
      "precision = 0.728 \n",
      "recall = 0.694 \n",
      "f1 = 0.706\n"
     ]
    }
   ],
   "source": [
    "def get_metrics(y_test, y_predicted):\n",
    "    accuracy = accuracy_score(y_test, y_predicted)\n",
    "    precision = precision_score(y_test, y_predicted, average='weighted')\n",
    "    recall = recall_score(y_test, y_predicted, average='weighted')\n",
    "    f1 = f1_score(y_test, y_predicted, average='weighted')\n",
    "    return accuracy, precision, recall, f1\n",
    "accuracy, precision, recall, f1 = get_metrics(y_test, y_pred)\n",
    "\n",
    "print(\"accuracy = %.3f \\nprecision = %.3f \\nrecall = %.3f \\nf1 = %.3f\" % (accuracy, precision, recall, f1))"
   ]
  },
  {
   "cell_type": "markdown",
   "metadata": {},
   "source": [
    "## Case 2 : Using tokenizers"
   ]
  },
  {
   "cell_type": "code",
   "execution_count": 29,
   "metadata": {},
   "outputs": [],
   "source": [
    "e_train = df[20000:]\n",
    "e_test = df[:20000]"
   ]
  },
  {
   "cell_type": "code",
   "execution_count": 47,
   "metadata": {},
   "outputs": [],
   "source": [
    "def tokenize(df, col='utr', seq_len=50):\n",
    "    # Dictionary returning one-hot encoding of nucleotides. \n",
    "    nuc_d = {'a':1,'c':2,'g':3,'t':4, 'n' : 5}\n",
    "    \n",
    "    vectors=np.empty([len(df),seq_len])\n",
    "    \n",
    "    for i,seq in enumerate(df[col].str[:seq_len]): \n",
    "        seq = seq.lower()\n",
    "        a = np.array([nuc_d[x] for x in seq])\n",
    "        vectors[i] = a\n",
    "    return vectors"
   ]
  },
  {
   "cell_type": "code",
   "execution_count": 48,
   "metadata": {},
   "outputs": [
    {
     "data": {
      "text/plain": [
       "array([[2., 2., 3., ..., 2., 1., 2.],\n",
       "       [1., 1., 4., ..., 4., 2., 1.],\n",
       "       [2., 2., 3., ..., 2., 4., 1.],\n",
       "       ...,\n",
       "       [3., 3., 4., ..., 1., 4., 1.],\n",
       "       [2., 2., 3., ..., 3., 3., 1.],\n",
       "       [2., 2., 3., ..., 3., 1., 1.]])"
      ]
     },
     "execution_count": 48,
     "metadata": {},
     "output_type": "execute_result"
    }
   ],
   "source": [
    "# Tokenize both training and test UTRs\n",
    "seq_e_train = tokenize(e_train, seq_len=50)\n",
    "seq_e_test = tokenize(e_test, seq_len=50)\n",
    "seq_e_train"
   ]
  },
  {
   "cell_type": "code",
   "execution_count": 49,
   "metadata": {},
   "outputs": [],
   "source": [
    "# Splitting the human dataset into the training set and test set\n",
    "X_train2, X_test2, y_train2, y_test2 = train_test_split(seq_e_train, \n",
    "                                                    e_train['Round MRL'], \n",
    "                                                    test_size = 0.20, \n",
    "                                                    random_state=42)"
   ]
  },
  {
   "cell_type": "code",
   "execution_count": 53,
   "metadata": {},
   "outputs": [
    {
     "data": {
      "text/plain": [
       "MultinomialNB(alpha=0.01)"
      ]
     },
     "execution_count": 53,
     "metadata": {},
     "output_type": "execute_result"
    }
   ],
   "source": [
    "classifier2 = MultinomialNB(alpha=0.01)\n",
    "classifier2.fit(X_train2, y_train2)"
   ]
  },
  {
   "cell_type": "code",
   "execution_count": 54,
   "metadata": {},
   "outputs": [],
   "source": [
    "y_pred2 = classifier2.predict(X_test2)"
   ]
  },
  {
   "cell_type": "code",
   "execution_count": 55,
   "metadata": {},
   "outputs": [
    {
     "name": "stdout",
     "output_type": "stream",
     "text": [
      "accuracy = 0.379 \n",
      "precision = 0.144 \n",
      "recall = 0.379 \n",
      "f1 = 0.208\n"
     ]
    },
    {
     "name": "stderr",
     "output_type": "stream",
     "text": [
      "/Users/mariehuynh/opt/anaconda3/lib/python3.8/site-packages/sklearn/metrics/_classification.py:1221: UndefinedMetricWarning: Precision is ill-defined and being set to 0.0 in labels with no predicted samples. Use `zero_division` parameter to control this behavior.\n",
      "  _warn_prf(average, modifier, msg_start, len(result))\n"
     ]
    }
   ],
   "source": [
    "def get_metrics(y_test, y_predicted):\n",
    "    accuracy = accuracy_score(y_test, y_predicted)\n",
    "    precision = precision_score(y_test, y_predicted, average='weighted')\n",
    "    recall = recall_score(y_test, y_predicted, average='weighted')\n",
    "    f1 = f1_score(y_test, y_predicted, average='weighted')\n",
    "    return accuracy, precision, recall, f1\n",
    "accuracy, precision, recall, f1 = get_metrics(y_test2, y_pred2)\n",
    "\n",
    "print(\"accuracy = %.3f \\nprecision = %.3f \\nrecall = %.3f \\nf1 = %.3f\" % (accuracy, precision, recall, f1))"
   ]
  }
 ],
 "metadata": {
  "kernelspec": {
   "display_name": "Python 3",
   "language": "python",
   "name": "python3"
  },
  "language_info": {
   "codemirror_mode": {
    "name": "ipython",
    "version": 3
   },
   "file_extension": ".py",
   "mimetype": "text/x-python",
   "name": "python",
   "nbconvert_exporter": "python",
   "pygments_lexer": "ipython3",
   "version": "3.8.5"
  }
 },
 "nbformat": 4,
 "nbformat_minor": 4
}
