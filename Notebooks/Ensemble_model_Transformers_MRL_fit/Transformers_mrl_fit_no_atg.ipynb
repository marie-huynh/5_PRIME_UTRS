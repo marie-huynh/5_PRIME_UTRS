{
 "cells": [
  {
   "cell_type": "code",
   "execution_count": 55,
   "id": "3e001e81",
   "metadata": {},
   "outputs": [],
   "source": [
    "import pandas as pd\n",
    "import numpy as np\n",
    "import matplotlib as mpl\n",
    "import matplotlib.pyplot as plt\n",
    "import scipy.stats as stats\n",
    "import seaborn as sns\n",
    "from sklearn import preprocessing\n",
    "\n",
    "import matplotlib as mpl\n",
    "mpl.rcParams.update(mpl.rcParamsDefault)\n",
    "mpl.rcParams['agg.path.chunksize'] = 0\n",
    "mpl.rcParams.update( mpl.rc_params() )\n",
    "plt.rcParams.update({'font.size': 18})\n",
    "#plt.rcParams.update({'text.usetex': True})\n",
    "plt.rcParams.update({'text.latex.preamble': 'bold'})\n",
    "plt.rc('font', family='serif')\n",
    "\n",
    "import tensorflow as tf\n",
    "from tensorflow.keras.preprocessing.text import Tokenizer\n",
    "from tensorflow.keras.preprocessing.sequence import pad_sequences\n",
    "from tensorflow.keras.utils import to_categorical\n",
    "from tensorflow.keras.models import Sequential, Model\n",
    "from tensorflow.keras import layers\n",
    "from tensorflow.keras.layers import Embedding, Layer, Dense, Dropout, MultiHeadAttention, LayerNormalization, Input, GlobalAveragePooling1D\n",
    "from tensorflow.keras.layers import LSTM, Bidirectional\n",
    "from tensorflow.keras.callbacks import ModelCheckpoint, EarlyStopping, ReduceLROnPlateau\n",
    "from sklearn.model_selection import train_test_split\n",
    "import keras\n",
    "import os\n",
    "os.environ['TF_CPP_MIN_LOG_LEVEL'] = '2'\n",
    "\n",
    "from sklearn.metrics import r2_score\n",
    "\n",
    "import json"
   ]
  },
  {
   "cell_type": "markdown",
   "id": "a7b8352d",
   "metadata": {},
   "source": [
    "## Useful Functions"
   ]
  },
  {
   "cell_type": "code",
   "execution_count": 2,
   "id": "f78ccf02",
   "metadata": {},
   "outputs": [],
   "source": [
    "def split_atg(X1,X,y):\n",
    "    label_atg,atg,label_no_atg,no_atg = [], [], [], []\n",
    "    for i in range(len(X)):\n",
    "        seq = \"\"\n",
    "        for j in range(len(X[1])-1):\n",
    "            seq += X[i][j][0]\n",
    "        seq += X[i][-1]\n",
    "        if \"ATG\" in seq:\n",
    "            atg.append(X1[i])\n",
    "            label_atg.append(y[i])\n",
    "        else:\n",
    "            no_atg.append(X1[i])\n",
    "            label_no_atg.append(y[i])\n",
    "    return np.array(label_atg),np.array(atg),np.array(label_no_atg),np.array(no_atg) \n",
    "    \n",
    "\n",
    "def split_seq_into_words(n, seqs):\n",
    "    return np.array([\" \".join([str(seqs[i][j:j+n]) for j in range(0,len(seqs[i])-n+1)]) for i in range(len(seqs))])\n",
    "    \n",
    "\n",
    "def r2(x,y):\n",
    "    return 1 - sum((x-y)**2)/sum((x-np.mean(x))**2)\n",
    "            \n",
    "    "
   ]
  },
  {
   "cell_type": "markdown",
   "id": "91f8cb76",
   "metadata": {},
   "source": [
    "## Splitting the data into Traning, Validation and Test Sets"
   ]
  },
  {
   "cell_type": "code",
   "execution_count": 3,
   "id": "2055daf6",
   "metadata": {},
   "outputs": [],
   "source": [
    "data_path = \"Data/GSM3130435_egfp_unmod_1_PREPROCESSED.csv.gz\"\n",
    "df = pd.read_csv(data_path, compression='gzip')\n"
   ]
  },
  {
   "cell_type": "code",
   "execution_count": 4,
   "id": "0619ce64",
   "metadata": {},
   "outputs": [
    {
     "data": {
      "text/html": [
       "<div>\n",
       "<style scoped>\n",
       "    .dataframe tbody tr th:only-of-type {\n",
       "        vertical-align: middle;\n",
       "    }\n",
       "\n",
       "    .dataframe tbody tr th {\n",
       "        vertical-align: top;\n",
       "    }\n",
       "\n",
       "    .dataframe thead th {\n",
       "        text-align: right;\n",
       "    }\n",
       "</style>\n",
       "<table border=\"1\" class=\"dataframe\">\n",
       "  <thead>\n",
       "    <tr style=\"text-align: right;\">\n",
       "      <th></th>\n",
       "      <th>Unnamed: 0</th>\n",
       "      <th>utr</th>\n",
       "      <th>0</th>\n",
       "      <th>1</th>\n",
       "      <th>2</th>\n",
       "      <th>3</th>\n",
       "      <th>4</th>\n",
       "      <th>5</th>\n",
       "      <th>6</th>\n",
       "      <th>7</th>\n",
       "      <th>...</th>\n",
       "      <th>r9</th>\n",
       "      <th>r10</th>\n",
       "      <th>r11</th>\n",
       "      <th>r12</th>\n",
       "      <th>r13</th>\n",
       "      <th>rl</th>\n",
       "      <th>Selection</th>\n",
       "      <th>one-hot encoding</th>\n",
       "      <th>Length</th>\n",
       "      <th>scaled_rl</th>\n",
       "    </tr>\n",
       "  </thead>\n",
       "  <tbody>\n",
       "    <tr>\n",
       "      <th>0</th>\n",
       "      <td>120605</td>\n",
       "      <td>CCACTCGATTAACATGTTAACAACATACTCGTCCGGCCGATCAGCG...</td>\n",
       "      <td>0.000137</td>\n",
       "      <td>0.000109</td>\n",
       "      <td>0.000057</td>\n",
       "      <td>0.000033</td>\n",
       "      <td>0.000015</td>\n",
       "      <td>0.000016</td>\n",
       "      <td>0.000009</td>\n",
       "      <td>0.000009</td>\n",
       "      <td>...</td>\n",
       "      <td>0.019283</td>\n",
       "      <td>0.033252</td>\n",
       "      <td>0.033252</td>\n",
       "      <td>0.027581</td>\n",
       "      <td>0.035877</td>\n",
       "      <td>3.039939</td>\n",
       "      <td>Selected Data</td>\n",
       "      <td>[[0, 1, 0, 0], [0, 1, 0, 0], [1, 0, 0, 0], [0,...</td>\n",
       "      <td>50</td>\n",
       "      <td>-2.130922</td>\n",
       "    </tr>\n",
       "    <tr>\n",
       "      <th>1</th>\n",
       "      <td>11605</td>\n",
       "      <td>CAAATCATGTGCAGCCCTGGCGACCGTACTGCGGTACAAGAAAGTA...</td>\n",
       "      <td>0.000067</td>\n",
       "      <td>0.000070</td>\n",
       "      <td>0.000065</td>\n",
       "      <td>0.000048</td>\n",
       "      <td>0.000023</td>\n",
       "      <td>0.000020</td>\n",
       "      <td>0.000011</td>\n",
       "      <td>0.000011</td>\n",
       "      <td>...</td>\n",
       "      <td>0.024241</td>\n",
       "      <td>0.039457</td>\n",
       "      <td>0.039457</td>\n",
       "      <td>0.039840</td>\n",
       "      <td>0.038785</td>\n",
       "      <td>3.895109</td>\n",
       "      <td>Selected Data</td>\n",
       "      <td>[[0, 1, 0, 0], [1, 0, 0, 0], [1, 0, 0, 0], [1,...</td>\n",
       "      <td>50</td>\n",
       "      <td>-1.600332</td>\n",
       "    </tr>\n",
       "    <tr>\n",
       "      <th>2</th>\n",
       "      <td>128224</td>\n",
       "      <td>GTTATACTAGAAGAAACTTGAGATTATGGAGCAGTCCGTCAAGGAC...</td>\n",
       "      <td>0.000088</td>\n",
       "      <td>0.000081</td>\n",
       "      <td>0.000059</td>\n",
       "      <td>0.000035</td>\n",
       "      <td>0.000017</td>\n",
       "      <td>0.000016</td>\n",
       "      <td>0.000009</td>\n",
       "      <td>0.000009</td>\n",
       "      <td>...</td>\n",
       "      <td>0.021591</td>\n",
       "      <td>0.028353</td>\n",
       "      <td>0.028353</td>\n",
       "      <td>0.028963</td>\n",
       "      <td>0.041985</td>\n",
       "      <td>3.334524</td>\n",
       "      <td>Selected Data</td>\n",
       "      <td>[[0, 0, 1, 0], [0, 0, 0, 1], [0, 0, 0, 1], [1,...</td>\n",
       "      <td>50</td>\n",
       "      <td>-1.948147</td>\n",
       "    </tr>\n",
       "    <tr>\n",
       "      <th>3</th>\n",
       "      <td>239107</td>\n",
       "      <td>CTTAGACAAAAACAACGCGCTTTCCAGTATGCGGAGCCTTGACGGT...</td>\n",
       "      <td>0.000078</td>\n",
       "      <td>0.000071</td>\n",
       "      <td>0.000060</td>\n",
       "      <td>0.000038</td>\n",
       "      <td>0.000025</td>\n",
       "      <td>0.000016</td>\n",
       "      <td>0.000010</td>\n",
       "      <td>0.000009</td>\n",
       "      <td>...</td>\n",
       "      <td>0.026617</td>\n",
       "      <td>0.038302</td>\n",
       "      <td>0.038302</td>\n",
       "      <td>0.032788</td>\n",
       "      <td>0.031043</td>\n",
       "      <td>3.575082</td>\n",
       "      <td>Selected Data</td>\n",
       "      <td>[[0, 1, 0, 0], [0, 0, 0, 1], [0, 0, 0, 1], [1,...</td>\n",
       "      <td>50</td>\n",
       "      <td>-1.798893</td>\n",
       "    </tr>\n",
       "    <tr>\n",
       "      <th>4</th>\n",
       "      <td>59082</td>\n",
       "      <td>GTATCAAATCACGGCCAACCCGACGGAGTACCCCGCGTCGATGGTC...</td>\n",
       "      <td>0.000044</td>\n",
       "      <td>0.000045</td>\n",
       "      <td>0.000050</td>\n",
       "      <td>0.000051</td>\n",
       "      <td>0.000033</td>\n",
       "      <td>0.000026</td>\n",
       "      <td>0.000015</td>\n",
       "      <td>0.000012</td>\n",
       "      <td>...</td>\n",
       "      <td>0.033080</td>\n",
       "      <td>0.051449</td>\n",
       "      <td>0.051449</td>\n",
       "      <td>0.046052</td>\n",
       "      <td>0.036447</td>\n",
       "      <td>4.593712</td>\n",
       "      <td>Selected Data</td>\n",
       "      <td>[[0, 0, 1, 0], [0, 0, 0, 1], [1, 0, 0, 0], [0,...</td>\n",
       "      <td>50</td>\n",
       "      <td>-1.166885</td>\n",
       "    </tr>\n",
       "  </tbody>\n",
       "</table>\n",
       "<p>5 rows × 37 columns</p>\n",
       "</div>"
      ],
      "text/plain": [
       "   Unnamed: 0                                                utr         0  \\\n",
       "0      120605  CCACTCGATTAACATGTTAACAACATACTCGTCCGGCCGATCAGCG...  0.000137   \n",
       "1       11605  CAAATCATGTGCAGCCCTGGCGACCGTACTGCGGTACAAGAAAGTA...  0.000067   \n",
       "2      128224  GTTATACTAGAAGAAACTTGAGATTATGGAGCAGTCCGTCAAGGAC...  0.000088   \n",
       "3      239107  CTTAGACAAAAACAACGCGCTTTCCAGTATGCGGAGCCTTGACGGT...  0.000078   \n",
       "4       59082  GTATCAAATCACGGCCAACCCGACGGAGTACCCCGCGTCGATGGTC...  0.000044   \n",
       "\n",
       "          1         2         3         4         5         6         7  ...  \\\n",
       "0  0.000109  0.000057  0.000033  0.000015  0.000016  0.000009  0.000009  ...   \n",
       "1  0.000070  0.000065  0.000048  0.000023  0.000020  0.000011  0.000011  ...   \n",
       "2  0.000081  0.000059  0.000035  0.000017  0.000016  0.000009  0.000009  ...   \n",
       "3  0.000071  0.000060  0.000038  0.000025  0.000016  0.000010  0.000009  ...   \n",
       "4  0.000045  0.000050  0.000051  0.000033  0.000026  0.000015  0.000012  ...   \n",
       "\n",
       "         r9       r10       r11       r12       r13        rl      Selection  \\\n",
       "0  0.019283  0.033252  0.033252  0.027581  0.035877  3.039939  Selected Data   \n",
       "1  0.024241  0.039457  0.039457  0.039840  0.038785  3.895109  Selected Data   \n",
       "2  0.021591  0.028353  0.028353  0.028963  0.041985  3.334524  Selected Data   \n",
       "3  0.026617  0.038302  0.038302  0.032788  0.031043  3.575082  Selected Data   \n",
       "4  0.033080  0.051449  0.051449  0.046052  0.036447  4.593712  Selected Data   \n",
       "\n",
       "                                    one-hot encoding  Length  scaled_rl  \n",
       "0  [[0, 1, 0, 0], [0, 1, 0, 0], [1, 0, 0, 0], [0,...      50  -2.130922  \n",
       "1  [[0, 1, 0, 0], [1, 0, 0, 0], [1, 0, 0, 0], [1,...      50  -1.600332  \n",
       "2  [[0, 0, 1, 0], [0, 0, 0, 1], [0, 0, 0, 1], [1,...      50  -1.948147  \n",
       "3  [[0, 1, 0, 0], [0, 0, 0, 1], [0, 0, 0, 1], [1,...      50  -1.798893  \n",
       "4  [[0, 0, 1, 0], [0, 0, 0, 1], [1, 0, 0, 0], [0,...      50  -1.166885  \n",
       "\n",
       "[5 rows x 37 columns]"
      ]
     },
     "execution_count": 4,
     "metadata": {},
     "output_type": "execute_result"
    }
   ],
   "source": [
    "df.head()"
   ]
  },
  {
   "cell_type": "code",
   "execution_count": 22,
   "id": "10689472",
   "metadata": {},
   "outputs": [],
   "source": [
    "scaled_rl = df[\"rl\"].values\n",
    "utr = df[\"utr\"].values"
   ]
  },
  {
   "cell_type": "code",
   "execution_count": 23,
   "id": "c41ecc39",
   "metadata": {},
   "outputs": [],
   "source": [
    "label_utr_atg,utr_atg,label_utr_no_atg,utr_no_atg = split_atg(utr, utr, scaled_rl)"
   ]
  },
  {
   "cell_type": "code",
   "execution_count": 24,
   "id": "fca8be87",
   "metadata": {},
   "outputs": [],
   "source": [
    "utr = list(utr_no_atg)\n",
    "rl = list(label_utr_no_atg)"
   ]
  },
  {
   "cell_type": "code",
   "execution_count": 25,
   "id": "28a94464",
   "metadata": {},
   "outputs": [],
   "source": [
    "n = len(utr)\n",
    "for i in range(n):\n",
    "    if rl[i] < 6:\n",
    "        for j in range(20):\n",
    "            utr.append(utr[i])\n",
    "            rl.append(rl[i])"
   ]
  },
  {
   "cell_type": "code",
   "execution_count": 26,
   "id": "0daab594",
   "metadata": {},
   "outputs": [],
   "source": [
    "utr = np.array(utr)\n",
    "rl = np.array(rl)"
   ]
  },
  {
   "cell_type": "code",
   "execution_count": 27,
   "id": "33305348",
   "metadata": {},
   "outputs": [],
   "source": [
    "sentences = split_seq_into_words(5, utr)"
   ]
  },
  {
   "cell_type": "code",
   "execution_count": 30,
   "id": "a7b9f2d1",
   "metadata": {},
   "outputs": [],
   "source": [
    "X_train, X_val, y_train, y_val = train_test_split(sentences, rl, test_size=0.2, random_state=25)\n",
    "X_val, X_test1, y_val, y_test = train_test_split(X_val, y_val, test_size=0.5, random_state=25)"
   ]
  },
  {
   "cell_type": "markdown",
   "id": "c391284f",
   "metadata": {},
   "source": [
    "## Tokenization and Encoding"
   ]
  },
  {
   "cell_type": "code",
   "execution_count": 31,
   "id": "12df961b",
   "metadata": {},
   "outputs": [
    {
     "name": "stdout",
     "output_type": "stream",
     "text": [
      "Vocab Size:  977\n"
     ]
    }
   ],
   "source": [
    "max_len = (len(sentences[0])+1)//6\n",
    "oov_token = '00_V' \n",
    "padding_type = 'post'\n",
    "trunc_type = 'post'  \n",
    "\n",
    "tokenizer = Tokenizer()\n",
    "tokenizer.fit_on_texts(X_train)\n",
    "vocab_size = len(tokenizer.word_index) + 1\n",
    "print(\"Vocab Size: \",vocab_size)"
   ]
  },
  {
   "cell_type": "code",
   "execution_count": 58,
   "id": "62254f22",
   "metadata": {},
   "outputs": [],
   "source": [
    "token_string = tokenizer.to_json()\n",
    "with open(\"no_atg_token.json\", \"w\") as file:\n",
    "    json.dump(token_string, file)"
   ]
  },
  {
   "cell_type": "code",
   "execution_count": 32,
   "id": "35884ba3",
   "metadata": {},
   "outputs": [],
   "source": [
    "train_sequences = tokenizer.texts_to_sequences(X_train)\n",
    "X_train = pad_sequences(train_sequences, maxlen=max_len, padding=padding_type, truncating=trunc_type)\n",
    "\n",
    "val_sequences = tokenizer.texts_to_sequences(X_val)\n",
    "X_val = pad_sequences(val_sequences, maxlen=max_len, padding=padding_type, truncating=trunc_type)\n",
    "\n",
    "test_sequences = tokenizer.texts_to_sequences(X_test1)\n",
    "X_test = pad_sequences(test_sequences, maxlen=max_len, padding=padding_type, truncating=trunc_type)"
   ]
  },
  {
   "cell_type": "code",
   "execution_count": 33,
   "id": "ccf061aa",
   "metadata": {},
   "outputs": [],
   "source": [
    "class TransformerEncoder(layers.Layer):\n",
    "    def __init__(self, embed_dim, heads, neurons):\n",
    "        super(TransformerEncoder, self).__init__()\n",
    "        self.att = layers.MultiHeadAttention(num_heads=heads, key_dim=embed_dim)\n",
    "        self.ffn = Sequential(\n",
    "            [layers.Dense(neurons, activation=\"relu\"), layers.Dense(embed_dim),]\n",
    "        )\n",
    "        self.layernorm1 = layers.LayerNormalization(epsilon=1e-6)\n",
    "        self.layernorm2 = layers.LayerNormalization(epsilon=1e-6)\n",
    "        self.dropout1 =  layers.Dropout(0.5)\n",
    "        self.dropout2 = layers.Dropout(0.5)\n",
    "    def call(self, inputs, training):\n",
    "        attn_output = self.att(inputs, inputs)\n",
    "        attn_output = self.dropout1(attn_output, training=training)\n",
    "        out1 = self.layernorm1(inputs + attn_output)\n",
    "        ffn_output = self.ffn(out1)\n",
    "        ffn_output = self.dropout2(ffn_output, training=training)\n",
    "        return self.layernorm2(out1 + ffn_output)\n",
    "    \n",
    "class TokenAndPositionEmbedding(layers.Layer):\n",
    "    def __init__(self, maxlen, vocab_size, embed_dim):\n",
    "        super(TokenAndPositionEmbedding, self).__init__()\n",
    "        self.token_emb = layers.Embedding(input_dim=vocab_size, output_dim=embed_dim)\n",
    "        self.pos_emb = layers.Embedding(input_dim=maxlen, output_dim=embed_dim)\n",
    "\n",
    "    def call(self, x):\n",
    "        maxlen = tf.shape(x)[-1]\n",
    "        positions = tf.range(start=0, limit=maxlen, delta=1)\n",
    "        positions = self.pos_emb(positions)\n",
    "        x = self.token_emb(x)\n",
    "        return x + positions"
   ]
  },
  {
   "cell_type": "markdown",
   "id": "1f31cfe0",
   "metadata": {},
   "source": [
    "## Building and training the model"
   ]
  },
  {
   "cell_type": "code",
   "execution_count": 34,
   "id": "511be2d4",
   "metadata": {},
   "outputs": [],
   "source": [
    "embed_dim = 50\n",
    "heads = 20\n",
    "neurons = 32\n",
    "units=46\n",
    "\n",
    "inputs = layers.Input(shape=(max_len,))\n",
    "embedding_layer = TokenAndPositionEmbedding(max_len, vocab_size, embed_dim)\n",
    "x = embedding_layer(inputs)\n",
    "transformer_block = TransformerEncoder(embed_dim, heads, neurons)\n",
    "x = transformer_block(x)\n",
    "x = keras.layers.RNN(keras.layers.LSTMCell(units), input_shape=(max_len,))(x)\n",
    "#x = layers.GlobalAveragePooling1D()(x)\n",
    "#x = Dropout(0.1)(x)\n",
    "x = layers.Dense(46, activation=\"relu\")(x)\n",
    "outputs = layers.Dense(1, activation=\"linear\")(x)\n",
    "model = Model(inputs=inputs, outputs=outputs)"
   ]
  },
  {
   "cell_type": "code",
   "execution_count": 35,
   "id": "2860c69a",
   "metadata": {},
   "outputs": [
    {
     "name": "stdout",
     "output_type": "stream",
     "text": [
      "Model: \"model\"\n",
      "_________________________________________________________________\n",
      " Layer (type)                Output Shape              Param #   \n",
      "=================================================================\n",
      " input_1 (InputLayer)        [(None, 46)]              0         \n",
      "                                                                 \n",
      " token_and_position_embeddin  (None, 46, 50)           51150     \n",
      " g (TokenAndPositionEmbeddin                                     \n",
      " g)                                                              \n",
      "                                                                 \n",
      " transformer_encoder (Transf  (None, 46, 50)           206532    \n",
      " ormerEncoder)                                                   \n",
      "                                                                 \n",
      " rnn (RNN)                   (None, 46)                17848     \n",
      "                                                                 \n",
      " dense_2 (Dense)             (None, 46)                2162      \n",
      "                                                                 \n",
      " dense_3 (Dense)             (None, 1)                 47        \n",
      "                                                                 \n",
      "=================================================================\n",
      "Total params: 277,739\n",
      "Trainable params: 277,739\n",
      "Non-trainable params: 0\n",
      "_________________________________________________________________\n"
     ]
    }
   ],
   "source": [
    "adam = keras.optimizers.Adam(learning_rate=0.001, beta_1=0.9, beta_2=0.999, epsilon=1e-08)\n",
    "model.compile(loss='mean_squared_error', optimizer=adam, metrics=[r2_score], run_eagerly=True)\n",
    "model.summary()"
   ]
  },
  {
   "cell_type": "code",
   "execution_count": 36,
   "id": "0c1dcc24",
   "metadata": {},
   "outputs": [],
   "source": [
    "model_name = \"model.h5\"\n",
    "checkpoint = ModelCheckpoint(model_name,\n",
    "                            monitor=\"val_loss\",\n",
    "                            mode=\"min\",\n",
    "                            save_best_only = True,\n",
    "                            verbose=1)\n",
    "\n",
    "learning_rate_reduction = ReduceLROnPlateau(monitor='val_loss', \n",
    "                                            patience=3, \n",
    "                                            verbose=1, \n",
    "                                            factor=0.2, \n",
    "                                            min_lr=0.00000001)"
   ]
  },
  {
   "cell_type": "code",
   "execution_count": 37,
   "id": "1a324b1c",
   "metadata": {},
   "outputs": [
    {
     "name": "stdout",
     "output_type": "stream",
     "text": [
      "Epoch 1/10\n",
      "1118/1118 [==============================] - 855s 762ms/step - loss: 1.9823 - r2_score: -0.0135 - val_loss: 1.2843 - val_r2_score: 0.3491\n",
      "Epoch 2/10\n",
      "1118/1118 [==============================] - 861s 770ms/step - loss: 1.0192 - r2_score: 0.4810 - val_loss: 0.8487 - val_r2_score: 0.5690\n",
      "Epoch 3/10\n",
      "1118/1118 [==============================] - 874s 782ms/step - loss: 0.6963 - r2_score: 0.6435 - val_loss: 0.6477 - val_r2_score: 0.6697\n",
      "Epoch 4/10\n",
      "1118/1118 [==============================] - 880s 787ms/step - loss: 0.5148 - r2_score: 0.7356 - val_loss: 0.5182 - val_r2_score: 0.7360\n",
      "Epoch 5/10\n",
      "1118/1118 [==============================] - 887s 794ms/step - loss: 0.4101 - r2_score: 0.7895 - val_loss: 0.4066 - val_r2_score: 0.7928\n",
      "Epoch 6/10\n",
      "1118/1118 [==============================] - 6258s 6s/step - loss: 0.3486 - r2_score: 0.8206 - val_loss: 0.4009 - val_r2_score: 0.7956\n",
      "Epoch 7/10\n",
      "1118/1118 [==============================] - 864s 773ms/step - loss: 0.3058 - r2_score: 0.8423 - val_loss: 0.3310 - val_r2_score: 0.8314\n",
      "Epoch 8/10\n",
      "1118/1118 [==============================] - 829s 741ms/step - loss: 0.2845 - r2_score: 0.8533 - val_loss: 0.3413 - val_r2_score: 0.8262\n",
      "Epoch 9/10\n",
      "1118/1118 [==============================] - 699s 625ms/step - loss: 0.2523 - r2_score: 0.8701 - val_loss: 0.3030 - val_r2_score: 0.8453\n",
      "Epoch 10/10\n",
      "1118/1118 [==============================] - 689s 617ms/step - loss: 0.2395 - r2_score: 0.8762 - val_loss: 0.2979 - val_r2_score: 0.8470\n"
     ]
    }
   ],
   "source": [
    "history = model.fit(X_train,y_train,\n",
    "                    validation_data=(X_val,y_val),\n",
    "                    epochs=10,\n",
    "                    batch_size=128)"
   ]
  },
  {
   "cell_type": "code",
   "execution_count": 38,
   "id": "aa6fd4d3",
   "metadata": {},
   "outputs": [
    {
     "name": "stderr",
     "output_type": "stream",
     "text": [
      "WARNING:absl:Found untraced functions such as embedding_layer_call_fn, embedding_layer_call_and_return_conditional_losses, embedding_1_layer_call_fn, embedding_1_layer_call_and_return_conditional_losses, multi_head_attention_layer_call_fn while saving (showing 5 of 26). These functions will not be directly callable after loading.\n"
     ]
    },
    {
     "name": "stdout",
     "output_type": "stream",
     "text": [
      "INFO:tensorflow:Assets written to: model_transformer_mrl_fit_no_atg\\assets\n"
     ]
    },
    {
     "name": "stderr",
     "output_type": "stream",
     "text": [
      "INFO:tensorflow:Assets written to: model_transformer_mrl_fit_no_atg\\assets\n"
     ]
    }
   ],
   "source": [
    "#model.save('model_trans1')\n",
    "model.save('model_transformer_mrl_fit_no_atg')"
   ]
  },
  {
   "cell_type": "code",
   "execution_count": 39,
   "id": "be583fed",
   "metadata": {},
   "outputs": [
    {
     "data": {
      "image/png": "[encoded data removed]",
      "text/plain": [
       "<Figure size 2000x800 with 1 Axes>"
      ]
     },
     "metadata": {},
     "output_type": "display_data"
    }
   ],
   "source": [
    "plt.figure(figsize=(20,8))\n",
    "plt.plot(history.history['loss'])\n",
    "plt.plot(history.history['val_loss'])\n",
    "plt.title('model loss')\n",
    "plt.ylabel('loss')\n",
    "plt.xlabel('epoch')\n",
    "plt.legend(['train', 'val'], loc='upper left')\n",
    "plt.show()"
   ]
  },
  {
   "cell_type": "markdown",
   "id": "5f051f0b",
   "metadata": {},
   "source": [
    "## Testing the model"
   ]
  },
  {
   "cell_type": "code",
   "execution_count": 40,
   "id": "eb9ea69d",
   "metadata": {},
   "outputs": [],
   "source": [
    "#model = keras.models.load_model('model_trans1')"
   ]
  },
  {
   "cell_type": "code",
   "execution_count": 48,
   "id": "a2a23fb6",
   "metadata": {},
   "outputs": [],
   "source": [
    "y_test = y_test.reshape(-1)"
   ]
  },
  {
   "cell_type": "code",
   "execution_count": 41,
   "id": "4b559ed7",
   "metadata": {},
   "outputs": [
    {
     "name": "stdout",
     "output_type": "stream",
     "text": [
      "560/560 [==============================] - 52s 93ms/step\n"
     ]
    },
    {
     "data": {
      "text/plain": [
       "0.8530255191658629"
      ]
     },
     "execution_count": 41,
     "metadata": {},
     "output_type": "execute_result"
    }
   ],
   "source": [
    "predictions = model.predict(X_test).reshape(-1)\n",
    "r2(y_test, predictions)"
   ]
  },
  {
   "cell_type": "code",
   "execution_count": 44,
   "id": "08ca4470",
   "metadata": {},
   "outputs": [
    {
     "data": {
      "image/png": "[encoded data removed]",
      "text/plain": [
       "<Figure size 640x480 with 1 Axes>"
      ]
     },
     "metadata": {},
     "output_type": "display_data"
    }
   ],
   "source": [
    "plt.scatter(y_test, predictions)\n",
    "plt.show()"
   ]
  },
  {
   "cell_type": "code",
   "execution_count": 50,
   "id": "a152a6ae",
   "metadata": {},
   "outputs": [],
   "source": [
    "np.savez(\"Test_no_atg.npz\", X_test = X_test, y_test=y_test)"
   ]
  },
  {
   "cell_type": "code",
   "execution_count": null,
   "id": "dc328dba",
   "metadata": {},
   "outputs": [],
   "source": []
  }
 ],
 "metadata": {
  "kernelspec": {
   "display_name": "Python 3 (ipykernel)",
   "language": "python",
   "name": "python3"
  },
  "language_info": {
   "codemirror_mode": {
    "name": "ipython",
    "version": 3
   },
   "file_extension": ".py",
   "mimetype": "text/x-python",
   "name": "python",
   "nbconvert_exporter": "python",
   "pygments_lexer": "ipython3",
   "version": "3.9.12"
  }
 },
 "nbformat": 4,
 "nbformat_minor": 5
}
